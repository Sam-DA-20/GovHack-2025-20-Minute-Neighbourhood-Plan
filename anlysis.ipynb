{
 "cells": [
  {
   "cell_type": "code",
   "execution_count": 11,
   "id": "44bc5444",
   "metadata": {},
   "outputs": [
    {
     "name": "stdout",
     "output_type": "stream",
     "text": [
      "Journey to Education:\n"
     ]
    },
    {
     "data": {
      "text/html": [
       "<div>\n",
       "<style scoped>\n",
       "    .dataframe tbody tr th:only-of-type {\n",
       "        vertical-align: middle;\n",
       "    }\n",
       "\n",
       "    .dataframe tbody tr th {\n",
       "        vertical-align: top;\n",
       "    }\n",
       "\n",
       "    .dataframe thead th {\n",
       "        text-align: right;\n",
       "    }\n",
       "</style>\n",
       "<table border=\"1\" class=\"dataframe\">\n",
       "  <thead>\n",
       "    <tr style=\"text-align: right;\">\n",
       "      <th></th>\n",
       "      <th>hhid</th>\n",
       "      <th>persid</th>\n",
       "      <th>jteid</th>\n",
       "      <th>dayType</th>\n",
       "      <th>start_loc</th>\n",
       "      <th>start_stopid</th>\n",
       "      <th>start_time</th>\n",
       "      <th>start_LGA</th>\n",
       "      <th>end_loc</th>\n",
       "      <th>end_stopid</th>\n",
       "      <th>...</th>\n",
       "      <th>travtime_13</th>\n",
       "      <th>travtime_14</th>\n",
       "      <th>travtime_15</th>\n",
       "      <th>main_journey_mode</th>\n",
       "      <th>journey_travel_time</th>\n",
       "      <th>journey_distance</th>\n",
       "      <th>journey_elapsed_time</th>\n",
       "      <th>journey_weight</th>\n",
       "      <th>homesubregion_ASGS</th>\n",
       "      <th>homeregion_ASGS</th>\n",
       "    </tr>\n",
       "  </thead>\n",
       "  <tbody>\n",
       "    <tr>\n",
       "      <th>0</th>\n",
       "      <td>Y24H5740109</td>\n",
       "      <td>Y24H5740109P03</td>\n",
       "      <td>Y24H5740109P03JTE001</td>\n",
       "      <td>Weekday</td>\n",
       "      <td>FROM_HOME</td>\n",
       "      <td>Y24H5740109P03S01</td>\n",
       "      <td>490</td>\n",
       "      <td>Casey (C)</td>\n",
       "      <td>TO_EDUCATION</td>\n",
       "      <td>Y24H5740109P03S02</td>\n",
       "      <td>...</td>\n",
       "      <td>NaN</td>\n",
       "      <td>NaN</td>\n",
       "      <td>NaN</td>\n",
       "      <td>School Bus</td>\n",
       "      <td>21</td>\n",
       "      <td>4.78611</td>\n",
       "      <td>23.0</td>\n",
       "      <td>1404.266673</td>\n",
       "      <td>MELB - Outer</td>\n",
       "      <td>Greater Melbourne</td>\n",
       "    </tr>\n",
       "    <tr>\n",
       "      <th>1</th>\n",
       "      <td>Y24H5740109</td>\n",
       "      <td>Y24H5740109P04</td>\n",
       "      <td>Y24H5740109P04JTE002</td>\n",
       "      <td>Weekday</td>\n",
       "      <td>FROM_HOME</td>\n",
       "      <td>Y24H5740109P04S01</td>\n",
       "      <td>490</td>\n",
       "      <td>Casey (C)</td>\n",
       "      <td>TO_EDUCATION</td>\n",
       "      <td>Y24H5740109P04S02</td>\n",
       "      <td>...</td>\n",
       "      <td>NaN</td>\n",
       "      <td>NaN</td>\n",
       "      <td>NaN</td>\n",
       "      <td>School Bus</td>\n",
       "      <td>21</td>\n",
       "      <td>4.78611</td>\n",
       "      <td>23.0</td>\n",
       "      <td>2949.606308</td>\n",
       "      <td>MELB - Outer</td>\n",
       "      <td>Greater Melbourne</td>\n",
       "    </tr>\n",
       "    <tr>\n",
       "      <th>2</th>\n",
       "      <td>Y24H5740109</td>\n",
       "      <td>Y24H5740109P05</td>\n",
       "      <td>Y24H5740109P05JTE003</td>\n",
       "      <td>Weekday</td>\n",
       "      <td>FROM_HOME</td>\n",
       "      <td>Y24H5740109P05S01</td>\n",
       "      <td>490</td>\n",
       "      <td>Casey (C)</td>\n",
       "      <td>TO_EDUCATION</td>\n",
       "      <td>Y24H5740109P05S01</td>\n",
       "      <td>...</td>\n",
       "      <td>NaN</td>\n",
       "      <td>NaN</td>\n",
       "      <td>NaN</td>\n",
       "      <td>Walking</td>\n",
       "      <td>20</td>\n",
       "      <td>0.93423</td>\n",
       "      <td>20.0</td>\n",
       "      <td>1165.139176</td>\n",
       "      <td>MELB - Outer</td>\n",
       "      <td>Greater Melbourne</td>\n",
       "    </tr>\n",
       "    <tr>\n",
       "      <th>3</th>\n",
       "      <td>Y24H5740131</td>\n",
       "      <td>Y24H5740131P03</td>\n",
       "      <td>Y24H5740131P03JTE004</td>\n",
       "      <td>Weekday</td>\n",
       "      <td>FROM_HOME</td>\n",
       "      <td>Y24H5740131P03S01</td>\n",
       "      <td>440</td>\n",
       "      <td>Casey (C)</td>\n",
       "      <td>TO_EDUCATION</td>\n",
       "      <td>Y24H5740131P03S02</td>\n",
       "      <td>...</td>\n",
       "      <td>NaN</td>\n",
       "      <td>NaN</td>\n",
       "      <td>NaN</td>\n",
       "      <td>School Bus</td>\n",
       "      <td>47</td>\n",
       "      <td>24.92903</td>\n",
       "      <td>50.0</td>\n",
       "      <td>1099.835321</td>\n",
       "      <td>MELB - Outer</td>\n",
       "      <td>Greater Melbourne</td>\n",
       "    </tr>\n",
       "    <tr>\n",
       "      <th>4</th>\n",
       "      <td>Y24H5740131</td>\n",
       "      <td>Y24H5740131P04</td>\n",
       "      <td>Y24H5740131P04JTE005</td>\n",
       "      <td>Weekday</td>\n",
       "      <td>FROM_HOME</td>\n",
       "      <td>Y24H5740131P04S01</td>\n",
       "      <td>410</td>\n",
       "      <td>Casey (C)</td>\n",
       "      <td>TO_EDUCATION</td>\n",
       "      <td>Y24H5740131P04S01</td>\n",
       "      <td>...</td>\n",
       "      <td>NaN</td>\n",
       "      <td>NaN</td>\n",
       "      <td>NaN</td>\n",
       "      <td>Vehicle Passenger</td>\n",
       "      <td>10</td>\n",
       "      <td>1.48545</td>\n",
       "      <td>10.0</td>\n",
       "      <td>1937.859267</td>\n",
       "      <td>MELB - Outer</td>\n",
       "      <td>Greater Melbourne</td>\n",
       "    </tr>\n",
       "  </tbody>\n",
       "</table>\n",
       "<p>5 rows × 124 columns</p>\n",
       "</div>"
      ],
      "text/plain": [
       "          hhid          persid                 jteid  dayType  start_loc  \\\n",
       "0  Y24H5740109  Y24H5740109P03  Y24H5740109P03JTE001  Weekday  FROM_HOME   \n",
       "1  Y24H5740109  Y24H5740109P04  Y24H5740109P04JTE002  Weekday  FROM_HOME   \n",
       "2  Y24H5740109  Y24H5740109P05  Y24H5740109P05JTE003  Weekday  FROM_HOME   \n",
       "3  Y24H5740131  Y24H5740131P03  Y24H5740131P03JTE004  Weekday  FROM_HOME   \n",
       "4  Y24H5740131  Y24H5740131P04  Y24H5740131P04JTE005  Weekday  FROM_HOME   \n",
       "\n",
       "        start_stopid  start_time  start_LGA       end_loc         end_stopid  \\\n",
       "0  Y24H5740109P03S01         490  Casey (C)  TO_EDUCATION  Y24H5740109P03S02   \n",
       "1  Y24H5740109P04S01         490  Casey (C)  TO_EDUCATION  Y24H5740109P04S02   \n",
       "2  Y24H5740109P05S01         490  Casey (C)  TO_EDUCATION  Y24H5740109P05S01   \n",
       "3  Y24H5740131P03S01         440  Casey (C)  TO_EDUCATION  Y24H5740131P03S02   \n",
       "4  Y24H5740131P04S01         410  Casey (C)  TO_EDUCATION  Y24H5740131P04S01   \n",
       "\n",
       "   ...  travtime_13 travtime_14 travtime_15  main_journey_mode  \\\n",
       "0  ...          NaN         NaN         NaN         School Bus   \n",
       "1  ...          NaN         NaN         NaN         School Bus   \n",
       "2  ...          NaN         NaN         NaN            Walking   \n",
       "3  ...          NaN         NaN         NaN         School Bus   \n",
       "4  ...          NaN         NaN         NaN  Vehicle Passenger   \n",
       "\n",
       "  journey_travel_time journey_distance journey_elapsed_time journey_weight  \\\n",
       "0                  21          4.78611                 23.0    1404.266673   \n",
       "1                  21          4.78611                 23.0    2949.606308   \n",
       "2                  20          0.93423                 20.0    1165.139176   \n",
       "3                  47         24.92903                 50.0    1099.835321   \n",
       "4                  10          1.48545                 10.0    1937.859267   \n",
       "\n",
       "  homesubregion_ASGS    homeregion_ASGS  \n",
       "0       MELB - Outer  Greater Melbourne  \n",
       "1       MELB - Outer  Greater Melbourne  \n",
       "2       MELB - Outer  Greater Melbourne  \n",
       "3       MELB - Outer  Greater Melbourne  \n",
       "4       MELB - Outer  Greater Melbourne  \n",
       "\n",
       "[5 rows x 124 columns]"
      ]
     },
     "metadata": {},
     "output_type": "display_data"
    },
    {
     "name": "stdout",
     "output_type": "stream",
     "text": [
      "\n",
      "School Locations:\n"
     ]
    },
    {
     "data": {
      "text/html": [
       "<div>\n",
       "<style scoped>\n",
       "    .dataframe tbody tr th:only-of-type {\n",
       "        vertical-align: middle;\n",
       "    }\n",
       "\n",
       "    .dataframe tbody tr th {\n",
       "        vertical-align: top;\n",
       "    }\n",
       "\n",
       "    .dataframe thead th {\n",
       "        text-align: right;\n",
       "    }\n",
       "</style>\n",
       "<table border=\"1\" class=\"dataframe\">\n",
       "  <thead>\n",
       "    <tr style=\"text-align: right;\">\n",
       "      <th></th>\n",
       "      <th>School_Name</th>\n",
       "      <th>School_Type</th>\n",
       "      <th>Address_Town</th>\n",
       "      <th>X</th>\n",
       "      <th>Y</th>\n",
       "    </tr>\n",
       "  </thead>\n",
       "  <tbody>\n",
       "    <tr>\n",
       "      <th>0</th>\n",
       "      <td>Parade College</td>\n",
       "      <td>Secondary</td>\n",
       "      <td>BUNDOORA</td>\n",
       "      <td>145.066978</td>\n",
       "      <td>-37.690178</td>\n",
       "    </tr>\n",
       "    <tr>\n",
       "      <th>1</th>\n",
       "      <td>Simonds Catholic College</td>\n",
       "      <td>Secondary</td>\n",
       "      <td>WEST MELBOURNE</td>\n",
       "      <td>144.952883</td>\n",
       "      <td>-37.805971</td>\n",
       "    </tr>\n",
       "    <tr>\n",
       "      <th>2</th>\n",
       "      <td>St Mary’s College Melbourne</td>\n",
       "      <td>Secondary</td>\n",
       "      <td>ST KILDA EAST</td>\n",
       "      <td>144.997001</td>\n",
       "      <td>-37.859365</td>\n",
       "    </tr>\n",
       "    <tr>\n",
       "      <th>3</th>\n",
       "      <td>St Patrick's College Ballarat</td>\n",
       "      <td>Secondary</td>\n",
       "      <td>BALLARAT</td>\n",
       "      <td>143.831558</td>\n",
       "      <td>-37.559711</td>\n",
       "    </tr>\n",
       "    <tr>\n",
       "      <th>4</th>\n",
       "      <td>St Patrick's School</td>\n",
       "      <td>Primary</td>\n",
       "      <td>BALLARAT</td>\n",
       "      <td>143.847147</td>\n",
       "      <td>-37.564397</td>\n",
       "    </tr>\n",
       "  </tbody>\n",
       "</table>\n",
       "</div>"
      ],
      "text/plain": [
       "                     School_Name School_Type    Address_Town           X  \\\n",
       "0                 Parade College   Secondary        BUNDOORA  145.066978   \n",
       "1       Simonds Catholic College   Secondary  WEST MELBOURNE  144.952883   \n",
       "2    St Mary’s College Melbourne   Secondary   ST KILDA EAST  144.997001   \n",
       "3  St Patrick's College Ballarat   Secondary        BALLARAT  143.831558   \n",
       "4            St Patrick's School     Primary        BALLARAT  143.847147   \n",
       "\n",
       "           Y  \n",
       "0 -37.690178  \n",
       "1 -37.805971  \n",
       "2 -37.859365  \n",
       "3 -37.559711  \n",
       "4 -37.564397  "
      ]
     },
     "metadata": {},
     "output_type": "display_data"
    }
   ],
   "source": [
    "import pandas as pd\n",
    "import plotly.express as px\n",
    "\n",
    "# Load datasets\n",
    "journey_df = pd.read_csv(\"journey_to_education_vista_2023_2024.csv\")\n",
    "schools_df = pd.read_csv(\"dv402-SchoolLocations2025.csv\")\n",
    "\n",
    "# Preview structure of data\n",
    "print(\"Journey to Education:\")\n",
    "display(journey_df.head())\n",
    "\n",
    "print(\"\\nSchool Locations:\")\n",
    "# display(schools_df.head())\n",
    "# Focus on important fields\n",
    "display(schools_df[['School_Name', 'School_Type', 'Address_Town', 'X', 'Y']].head())"
   ]
  },
  {
   "cell_type": "code",
   "execution_count": 12,
   "id": "638032db",
   "metadata": {},
   "outputs": [
    {
     "name": "stdout",
     "output_type": "stream",
     "text": [
      "478 out of 684 trips are within 20 minutes\n"
     ]
    }
   ],
   "source": [
    "# Time travel to school in VIC\n",
    "# Drop rows with missing travel time\n",
    "journey_df = journey_df.dropna(subset=['journey_travel_time'])\n",
    "\n",
    "# Convert to numeric\n",
    "journey_df['journey_travel_time'] = pd.to_numeric(journey_df['journey_travel_time'], errors='coerce')\n",
    "\n",
    "# Classify trips\n",
    "journey_df['within_20_min'] = journey_df['journey_travel_time'] <= 20\n",
    "\n",
    "# Count total trips\n",
    "total_trips = len(journey_df)\n",
    "within_20 = journey_df['within_20_min'].sum()\n",
    "print(f\"{within_20} out of {total_trips} trips are within 20 minutes\")"
   ]
  },
  {
   "cell_type": "code",
   "execution_count": 13,
   "id": "ebed2828",
   "metadata": {},
   "outputs": [
    {
     "data": {
      "application/vnd.plotly.v1+json": {
       "config": {
        "plotlyServerURL": "https://plot.ly"
       },
       "data": [
        {
         "domain": {
          "x": [
           0,
           1
          ],
          "y": [
           0,
           1
          ]
         },
         "hole": 0.4,
         "hovertemplate": "Label=%{label}<br>Count=%{value}<extra></extra>",
         "labels": [
          "<= 20 mins",
          "> 20 mins"
         ],
         "legendgroup": "",
         "name": "",
         "showlegend": true,
         "type": "pie",
         "values": {
          "bdata": "3gHOAA==",
          "dtype": "i2"
         }
        }
       ],
       "layout": {
        "legend": {
         "tracegroupgap": 0
        },
        "piecolorway": [
         "#003366",
         "#2E7D6C",
         "#0099CC",
         "#CCCCCC",
         "#333333"
        ],
        "template": {
         "data": {
          "bar": [
           {
            "error_x": {
             "color": "#2a3f5f"
            },
            "error_y": {
             "color": "#2a3f5f"
            },
            "marker": {
             "line": {
              "color": "#E5ECF6",
              "width": 0.5
             },
             "pattern": {
              "fillmode": "overlay",
              "size": 10,
              "solidity": 0.2
             }
            },
            "type": "bar"
           }
          ],
          "barpolar": [
           {
            "marker": {
             "line": {
              "color": "#E5ECF6",
              "width": 0.5
             },
             "pattern": {
              "fillmode": "overlay",
              "size": 10,
              "solidity": 0.2
             }
            },
            "type": "barpolar"
           }
          ],
          "carpet": [
           {
            "aaxis": {
             "endlinecolor": "#2a3f5f",
             "gridcolor": "white",
             "linecolor": "white",
             "minorgridcolor": "white",
             "startlinecolor": "#2a3f5f"
            },
            "baxis": {
             "endlinecolor": "#2a3f5f",
             "gridcolor": "white",
             "linecolor": "white",
             "minorgridcolor": "white",
             "startlinecolor": "#2a3f5f"
            },
            "type": "carpet"
           }
          ],
          "choropleth": [
           {
            "colorbar": {
             "outlinewidth": 0,
             "ticks": ""
            },
            "type": "choropleth"
           }
          ],
          "contour": [
           {
            "colorbar": {
             "outlinewidth": 0,
             "ticks": ""
            },
            "colorscale": [
             [
              0,
              "#0d0887"
             ],
             [
              0.1111111111111111,
              "#46039f"
             ],
             [
              0.2222222222222222,
              "#7201a8"
             ],
             [
              0.3333333333333333,
              "#9c179e"
             ],
             [
              0.4444444444444444,
              "#bd3786"
             ],
             [
              0.5555555555555556,
              "#d8576b"
             ],
             [
              0.6666666666666666,
              "#ed7953"
             ],
             [
              0.7777777777777778,
              "#fb9f3a"
             ],
             [
              0.8888888888888888,
              "#fdca26"
             ],
             [
              1,
              "#f0f921"
             ]
            ],
            "type": "contour"
           }
          ],
          "contourcarpet": [
           {
            "colorbar": {
             "outlinewidth": 0,
             "ticks": ""
            },
            "type": "contourcarpet"
           }
          ],
          "heatmap": [
           {
            "colorbar": {
             "outlinewidth": 0,
             "ticks": ""
            },
            "colorscale": [
             [
              0,
              "#0d0887"
             ],
             [
              0.1111111111111111,
              "#46039f"
             ],
             [
              0.2222222222222222,
              "#7201a8"
             ],
             [
              0.3333333333333333,
              "#9c179e"
             ],
             [
              0.4444444444444444,
              "#bd3786"
             ],
             [
              0.5555555555555556,
              "#d8576b"
             ],
             [
              0.6666666666666666,
              "#ed7953"
             ],
             [
              0.7777777777777778,
              "#fb9f3a"
             ],
             [
              0.8888888888888888,
              "#fdca26"
             ],
             [
              1,
              "#f0f921"
             ]
            ],
            "type": "heatmap"
           }
          ],
          "histogram": [
           {
            "marker": {
             "pattern": {
              "fillmode": "overlay",
              "size": 10,
              "solidity": 0.2
             }
            },
            "type": "histogram"
           }
          ],
          "histogram2d": [
           {
            "colorbar": {
             "outlinewidth": 0,
             "ticks": ""
            },
            "colorscale": [
             [
              0,
              "#0d0887"
             ],
             [
              0.1111111111111111,
              "#46039f"
             ],
             [
              0.2222222222222222,
              "#7201a8"
             ],
             [
              0.3333333333333333,
              "#9c179e"
             ],
             [
              0.4444444444444444,
              "#bd3786"
             ],
             [
              0.5555555555555556,
              "#d8576b"
             ],
             [
              0.6666666666666666,
              "#ed7953"
             ],
             [
              0.7777777777777778,
              "#fb9f3a"
             ],
             [
              0.8888888888888888,
              "#fdca26"
             ],
             [
              1,
              "#f0f921"
             ]
            ],
            "type": "histogram2d"
           }
          ],
          "histogram2dcontour": [
           {
            "colorbar": {
             "outlinewidth": 0,
             "ticks": ""
            },
            "colorscale": [
             [
              0,
              "#0d0887"
             ],
             [
              0.1111111111111111,
              "#46039f"
             ],
             [
              0.2222222222222222,
              "#7201a8"
             ],
             [
              0.3333333333333333,
              "#9c179e"
             ],
             [
              0.4444444444444444,
              "#bd3786"
             ],
             [
              0.5555555555555556,
              "#d8576b"
             ],
             [
              0.6666666666666666,
              "#ed7953"
             ],
             [
              0.7777777777777778,
              "#fb9f3a"
             ],
             [
              0.8888888888888888,
              "#fdca26"
             ],
             [
              1,
              "#f0f921"
             ]
            ],
            "type": "histogram2dcontour"
           }
          ],
          "mesh3d": [
           {
            "colorbar": {
             "outlinewidth": 0,
             "ticks": ""
            },
            "type": "mesh3d"
           }
          ],
          "parcoords": [
           {
            "line": {
             "colorbar": {
              "outlinewidth": 0,
              "ticks": ""
             }
            },
            "type": "parcoords"
           }
          ],
          "pie": [
           {
            "automargin": true,
            "type": "pie"
           }
          ],
          "scatter": [
           {
            "fillpattern": {
             "fillmode": "overlay",
             "size": 10,
             "solidity": 0.2
            },
            "type": "scatter"
           }
          ],
          "scatter3d": [
           {
            "line": {
             "colorbar": {
              "outlinewidth": 0,
              "ticks": ""
             }
            },
            "marker": {
             "colorbar": {
              "outlinewidth": 0,
              "ticks": ""
             }
            },
            "type": "scatter3d"
           }
          ],
          "scattercarpet": [
           {
            "marker": {
             "colorbar": {
              "outlinewidth": 0,
              "ticks": ""
             }
            },
            "type": "scattercarpet"
           }
          ],
          "scattergeo": [
           {
            "marker": {
             "colorbar": {
              "outlinewidth": 0,
              "ticks": ""
             }
            },
            "type": "scattergeo"
           }
          ],
          "scattergl": [
           {
            "marker": {
             "colorbar": {
              "outlinewidth": 0,
              "ticks": ""
             }
            },
            "type": "scattergl"
           }
          ],
          "scattermap": [
           {
            "marker": {
             "colorbar": {
              "outlinewidth": 0,
              "ticks": ""
             }
            },
            "type": "scattermap"
           }
          ],
          "scattermapbox": [
           {
            "marker": {
             "colorbar": {
              "outlinewidth": 0,
              "ticks": ""
             }
            },
            "type": "scattermapbox"
           }
          ],
          "scatterpolar": [
           {
            "marker": {
             "colorbar": {
              "outlinewidth": 0,
              "ticks": ""
             }
            },
            "type": "scatterpolar"
           }
          ],
          "scatterpolargl": [
           {
            "marker": {
             "colorbar": {
              "outlinewidth": 0,
              "ticks": ""
             }
            },
            "type": "scatterpolargl"
           }
          ],
          "scatterternary": [
           {
            "marker": {
             "colorbar": {
              "outlinewidth": 0,
              "ticks": ""
             }
            },
            "type": "scatterternary"
           }
          ],
          "surface": [
           {
            "colorbar": {
             "outlinewidth": 0,
             "ticks": ""
            },
            "colorscale": [
             [
              0,
              "#0d0887"
             ],
             [
              0.1111111111111111,
              "#46039f"
             ],
             [
              0.2222222222222222,
              "#7201a8"
             ],
             [
              0.3333333333333333,
              "#9c179e"
             ],
             [
              0.4444444444444444,
              "#bd3786"
             ],
             [
              0.5555555555555556,
              "#d8576b"
             ],
             [
              0.6666666666666666,
              "#ed7953"
             ],
             [
              0.7777777777777778,
              "#fb9f3a"
             ],
             [
              0.8888888888888888,
              "#fdca26"
             ],
             [
              1,
              "#f0f921"
             ]
            ],
            "type": "surface"
           }
          ],
          "table": [
           {
            "cells": {
             "fill": {
              "color": "#EBF0F8"
             },
             "line": {
              "color": "white"
             }
            },
            "header": {
             "fill": {
              "color": "#C8D4E3"
             },
             "line": {
              "color": "white"
             }
            },
            "type": "table"
           }
          ]
         },
         "layout": {
          "annotationdefaults": {
           "arrowcolor": "#2a3f5f",
           "arrowhead": 0,
           "arrowwidth": 1
          },
          "autotypenumbers": "strict",
          "coloraxis": {
           "colorbar": {
            "outlinewidth": 0,
            "ticks": ""
           }
          },
          "colorscale": {
           "diverging": [
            [
             0,
             "#8e0152"
            ],
            [
             0.1,
             "#c51b7d"
            ],
            [
             0.2,
             "#de77ae"
            ],
            [
             0.3,
             "#f1b6da"
            ],
            [
             0.4,
             "#fde0ef"
            ],
            [
             0.5,
             "#f7f7f7"
            ],
            [
             0.6,
             "#e6f5d0"
            ],
            [
             0.7,
             "#b8e186"
            ],
            [
             0.8,
             "#7fbc41"
            ],
            [
             0.9,
             "#4d9221"
            ],
            [
             1,
             "#276419"
            ]
           ],
           "sequential": [
            [
             0,
             "#0d0887"
            ],
            [
             0.1111111111111111,
             "#46039f"
            ],
            [
             0.2222222222222222,
             "#7201a8"
            ],
            [
             0.3333333333333333,
             "#9c179e"
            ],
            [
             0.4444444444444444,
             "#bd3786"
            ],
            [
             0.5555555555555556,
             "#d8576b"
            ],
            [
             0.6666666666666666,
             "#ed7953"
            ],
            [
             0.7777777777777778,
             "#fb9f3a"
            ],
            [
             0.8888888888888888,
             "#fdca26"
            ],
            [
             1,
             "#f0f921"
            ]
           ],
           "sequentialminus": [
            [
             0,
             "#0d0887"
            ],
            [
             0.1111111111111111,
             "#46039f"
            ],
            [
             0.2222222222222222,
             "#7201a8"
            ],
            [
             0.3333333333333333,
             "#9c179e"
            ],
            [
             0.4444444444444444,
             "#bd3786"
            ],
            [
             0.5555555555555556,
             "#d8576b"
            ],
            [
             0.6666666666666666,
             "#ed7953"
            ],
            [
             0.7777777777777778,
             "#fb9f3a"
            ],
            [
             0.8888888888888888,
             "#fdca26"
            ],
            [
             1,
             "#f0f921"
            ]
           ]
          },
          "colorway": [
           "#636efa",
           "#EF553B",
           "#00cc96",
           "#ab63fa",
           "#FFA15A",
           "#19d3f3",
           "#FF6692",
           "#B6E880",
           "#FF97FF",
           "#FECB52"
          ],
          "font": {
           "color": "#2a3f5f"
          },
          "geo": {
           "bgcolor": "white",
           "lakecolor": "white",
           "landcolor": "#E5ECF6",
           "showlakes": true,
           "showland": true,
           "subunitcolor": "white"
          },
          "hoverlabel": {
           "align": "left"
          },
          "hovermode": "closest",
          "mapbox": {
           "style": "light"
          },
          "paper_bgcolor": "white",
          "plot_bgcolor": "#E5ECF6",
          "polar": {
           "angularaxis": {
            "gridcolor": "white",
            "linecolor": "white",
            "ticks": ""
           },
           "bgcolor": "#E5ECF6",
           "radialaxis": {
            "gridcolor": "white",
            "linecolor": "white",
            "ticks": ""
           }
          },
          "scene": {
           "xaxis": {
            "backgroundcolor": "#E5ECF6",
            "gridcolor": "white",
            "gridwidth": 2,
            "linecolor": "white",
            "showbackground": true,
            "ticks": "",
            "zerolinecolor": "white"
           },
           "yaxis": {
            "backgroundcolor": "#E5ECF6",
            "gridcolor": "white",
            "gridwidth": 2,
            "linecolor": "white",
            "showbackground": true,
            "ticks": "",
            "zerolinecolor": "white"
           },
           "zaxis": {
            "backgroundcolor": "#E5ECF6",
            "gridcolor": "white",
            "gridwidth": 2,
            "linecolor": "white",
            "showbackground": true,
            "ticks": "",
            "zerolinecolor": "white"
           }
          },
          "shapedefaults": {
           "line": {
            "color": "#2a3f5f"
           }
          },
          "ternary": {
           "aaxis": {
            "gridcolor": "white",
            "linecolor": "white",
            "ticks": ""
           },
           "baxis": {
            "gridcolor": "white",
            "linecolor": "white",
            "ticks": ""
           },
           "bgcolor": "#E5ECF6",
           "caxis": {
            "gridcolor": "white",
            "linecolor": "white",
            "ticks": ""
           }
          },
          "title": {
           "x": 0.05
          },
          "xaxis": {
           "automargin": true,
           "gridcolor": "white",
           "linecolor": "white",
           "ticks": "",
           "title": {
            "standoff": 15
           },
           "zerolinecolor": "white",
           "zerolinewidth": 2
          },
          "yaxis": {
           "automargin": true,
           "gridcolor": "white",
           "linecolor": "white",
           "ticks": "",
           "title": {
            "standoff": 15
           },
           "zerolinecolor": "white",
           "zerolinewidth": 2
          }
         }
        },
        "title": {
         "text": "Travel Time to School in VIC: Within vs Over 20 Minutes"
        }
       }
      }
     },
     "metadata": {},
     "output_type": "display_data"
    }
   ],
   "source": [
    "import plotly.express as px\n",
    "\n",
    "# Create a summary DataFrame for pie chart\n",
    "time_summary = journey_df['within_20_min'].value_counts().reset_index()\n",
    "time_summary.columns = ['Within_20_Min', 'Count']\n",
    "time_summary['Label'] = time_summary['Within_20_Min'].map({True: '<= 20 mins', False: '> 20 mins'})\n",
    "colors = ['#003366', '#2E7D6C', '#0099CC', '#CCCCCC', '#333333']\n",
    "\n",
    "# Donut chart\n",
    "fig = px.pie(\n",
    "    time_summary,\n",
    "    names='Label',\n",
    "    values='Count',\n",
    "    title='Travel Time to School in VIC: Within vs Over 20 Minutes',\n",
    "    hole=0.4,\n",
    "    color_discrete_sequence=colors\n",
    ")\n",
    "fig.show()\n"
   ]
  },
  {
   "cell_type": "code",
   "execution_count": 14,
   "id": "924ccfab",
   "metadata": {},
   "outputs": [],
   "source": [
    "# fig.write_html(\"school_travel_time_donut.html\")"
   ]
  },
  {
   "cell_type": "code",
   "execution_count": 15,
   "id": "06499781",
   "metadata": {},
   "outputs": [
    {
     "data": {
      "text/plain": [
       "main_journey_mode\n",
       "Vehicle Passenger    397\n",
       "Walking              104\n",
       "Train                 50\n",
       "School Bus            40\n",
       "Public Bus            33\n",
       "Vehicle Driver        27\n",
       "Bicycle               16\n",
       "Tram                  13\n",
       "Other                  4\n",
       "Name: count, dtype: int64"
      ]
     },
     "execution_count": 15,
     "metadata": {},
     "output_type": "execute_result"
    }
   ],
   "source": [
    "# Travel mode for education trip\n",
    "\n",
    "# count for the mode of travel \n",
    "journey_df['main_journey_mode'].value_counts()"
   ]
  },
  {
   "cell_type": "code",
   "execution_count": 16,
   "id": "794f0de6",
   "metadata": {},
   "outputs": [
    {
     "data": {
      "application/vnd.plotly.v1+json": {
       "config": {
        "plotlyServerURL": "https://plot.ly"
       },
       "data": [
        {
         "domain": {
          "x": [
           0,
           1
          ],
          "y": [
           0,
           1
          ]
         },
         "hovertemplate": "Mode=%{label}<br>Count=%{value}<extra></extra>",
         "labels": [
          "Vehicle Passenger",
          "Walking",
          "Train",
          "School Bus",
          "Public Bus",
          "Vehicle Driver",
          "Bicycle",
          "Tram",
          "Other"
         ],
         "legendgroup": "",
         "name": "",
         "showlegend": true,
         "type": "pie",
         "values": {
          "bdata": "jQFoADIAKAAhABsAEAANAAQA",
          "dtype": "i2"
         }
        }
       ],
       "layout": {
        "legend": {
         "tracegroupgap": 0
        },
        "piecolorway": [
         "#003366",
         "#2E7D6C",
         "#0099CC",
         "#CCCCCC",
         "#333333"
        ],
        "template": {
         "data": {
          "bar": [
           {
            "error_x": {
             "color": "#2a3f5f"
            },
            "error_y": {
             "color": "#2a3f5f"
            },
            "marker": {
             "line": {
              "color": "#E5ECF6",
              "width": 0.5
             },
             "pattern": {
              "fillmode": "overlay",
              "size": 10,
              "solidity": 0.2
             }
            },
            "type": "bar"
           }
          ],
          "barpolar": [
           {
            "marker": {
             "line": {
              "color": "#E5ECF6",
              "width": 0.5
             },
             "pattern": {
              "fillmode": "overlay",
              "size": 10,
              "solidity": 0.2
             }
            },
            "type": "barpolar"
           }
          ],
          "carpet": [
           {
            "aaxis": {
             "endlinecolor": "#2a3f5f",
             "gridcolor": "white",
             "linecolor": "white",
             "minorgridcolor": "white",
             "startlinecolor": "#2a3f5f"
            },
            "baxis": {
             "endlinecolor": "#2a3f5f",
             "gridcolor": "white",
             "linecolor": "white",
             "minorgridcolor": "white",
             "startlinecolor": "#2a3f5f"
            },
            "type": "carpet"
           }
          ],
          "choropleth": [
           {
            "colorbar": {
             "outlinewidth": 0,
             "ticks": ""
            },
            "type": "choropleth"
           }
          ],
          "contour": [
           {
            "colorbar": {
             "outlinewidth": 0,
             "ticks": ""
            },
            "colorscale": [
             [
              0,
              "#0d0887"
             ],
             [
              0.1111111111111111,
              "#46039f"
             ],
             [
              0.2222222222222222,
              "#7201a8"
             ],
             [
              0.3333333333333333,
              "#9c179e"
             ],
             [
              0.4444444444444444,
              "#bd3786"
             ],
             [
              0.5555555555555556,
              "#d8576b"
             ],
             [
              0.6666666666666666,
              "#ed7953"
             ],
             [
              0.7777777777777778,
              "#fb9f3a"
             ],
             [
              0.8888888888888888,
              "#fdca26"
             ],
             [
              1,
              "#f0f921"
             ]
            ],
            "type": "contour"
           }
          ],
          "contourcarpet": [
           {
            "colorbar": {
             "outlinewidth": 0,
             "ticks": ""
            },
            "type": "contourcarpet"
           }
          ],
          "heatmap": [
           {
            "colorbar": {
             "outlinewidth": 0,
             "ticks": ""
            },
            "colorscale": [
             [
              0,
              "#0d0887"
             ],
             [
              0.1111111111111111,
              "#46039f"
             ],
             [
              0.2222222222222222,
              "#7201a8"
             ],
             [
              0.3333333333333333,
              "#9c179e"
             ],
             [
              0.4444444444444444,
              "#bd3786"
             ],
             [
              0.5555555555555556,
              "#d8576b"
             ],
             [
              0.6666666666666666,
              "#ed7953"
             ],
             [
              0.7777777777777778,
              "#fb9f3a"
             ],
             [
              0.8888888888888888,
              "#fdca26"
             ],
             [
              1,
              "#f0f921"
             ]
            ],
            "type": "heatmap"
           }
          ],
          "histogram": [
           {
            "marker": {
             "pattern": {
              "fillmode": "overlay",
              "size": 10,
              "solidity": 0.2
             }
            },
            "type": "histogram"
           }
          ],
          "histogram2d": [
           {
            "colorbar": {
             "outlinewidth": 0,
             "ticks": ""
            },
            "colorscale": [
             [
              0,
              "#0d0887"
             ],
             [
              0.1111111111111111,
              "#46039f"
             ],
             [
              0.2222222222222222,
              "#7201a8"
             ],
             [
              0.3333333333333333,
              "#9c179e"
             ],
             [
              0.4444444444444444,
              "#bd3786"
             ],
             [
              0.5555555555555556,
              "#d8576b"
             ],
             [
              0.6666666666666666,
              "#ed7953"
             ],
             [
              0.7777777777777778,
              "#fb9f3a"
             ],
             [
              0.8888888888888888,
              "#fdca26"
             ],
             [
              1,
              "#f0f921"
             ]
            ],
            "type": "histogram2d"
           }
          ],
          "histogram2dcontour": [
           {
            "colorbar": {
             "outlinewidth": 0,
             "ticks": ""
            },
            "colorscale": [
             [
              0,
              "#0d0887"
             ],
             [
              0.1111111111111111,
              "#46039f"
             ],
             [
              0.2222222222222222,
              "#7201a8"
             ],
             [
              0.3333333333333333,
              "#9c179e"
             ],
             [
              0.4444444444444444,
              "#bd3786"
             ],
             [
              0.5555555555555556,
              "#d8576b"
             ],
             [
              0.6666666666666666,
              "#ed7953"
             ],
             [
              0.7777777777777778,
              "#fb9f3a"
             ],
             [
              0.8888888888888888,
              "#fdca26"
             ],
             [
              1,
              "#f0f921"
             ]
            ],
            "type": "histogram2dcontour"
           }
          ],
          "mesh3d": [
           {
            "colorbar": {
             "outlinewidth": 0,
             "ticks": ""
            },
            "type": "mesh3d"
           }
          ],
          "parcoords": [
           {
            "line": {
             "colorbar": {
              "outlinewidth": 0,
              "ticks": ""
             }
            },
            "type": "parcoords"
           }
          ],
          "pie": [
           {
            "automargin": true,
            "type": "pie"
           }
          ],
          "scatter": [
           {
            "fillpattern": {
             "fillmode": "overlay",
             "size": 10,
             "solidity": 0.2
            },
            "type": "scatter"
           }
          ],
          "scatter3d": [
           {
            "line": {
             "colorbar": {
              "outlinewidth": 0,
              "ticks": ""
             }
            },
            "marker": {
             "colorbar": {
              "outlinewidth": 0,
              "ticks": ""
             }
            },
            "type": "scatter3d"
           }
          ],
          "scattercarpet": [
           {
            "marker": {
             "colorbar": {
              "outlinewidth": 0,
              "ticks": ""
             }
            },
            "type": "scattercarpet"
           }
          ],
          "scattergeo": [
           {
            "marker": {
             "colorbar": {
              "outlinewidth": 0,
              "ticks": ""
             }
            },
            "type": "scattergeo"
           }
          ],
          "scattergl": [
           {
            "marker": {
             "colorbar": {
              "outlinewidth": 0,
              "ticks": ""
             }
            },
            "type": "scattergl"
           }
          ],
          "scattermap": [
           {
            "marker": {
             "colorbar": {
              "outlinewidth": 0,
              "ticks": ""
             }
            },
            "type": "scattermap"
           }
          ],
          "scattermapbox": [
           {
            "marker": {
             "colorbar": {
              "outlinewidth": 0,
              "ticks": ""
             }
            },
            "type": "scattermapbox"
           }
          ],
          "scatterpolar": [
           {
            "marker": {
             "colorbar": {
              "outlinewidth": 0,
              "ticks": ""
             }
            },
            "type": "scatterpolar"
           }
          ],
          "scatterpolargl": [
           {
            "marker": {
             "colorbar": {
              "outlinewidth": 0,
              "ticks": ""
             }
            },
            "type": "scatterpolargl"
           }
          ],
          "scatterternary": [
           {
            "marker": {
             "colorbar": {
              "outlinewidth": 0,
              "ticks": ""
             }
            },
            "type": "scatterternary"
           }
          ],
          "surface": [
           {
            "colorbar": {
             "outlinewidth": 0,
             "ticks": ""
            },
            "colorscale": [
             [
              0,
              "#0d0887"
             ],
             [
              0.1111111111111111,
              "#46039f"
             ],
             [
              0.2222222222222222,
              "#7201a8"
             ],
             [
              0.3333333333333333,
              "#9c179e"
             ],
             [
              0.4444444444444444,
              "#bd3786"
             ],
             [
              0.5555555555555556,
              "#d8576b"
             ],
             [
              0.6666666666666666,
              "#ed7953"
             ],
             [
              0.7777777777777778,
              "#fb9f3a"
             ],
             [
              0.8888888888888888,
              "#fdca26"
             ],
             [
              1,
              "#f0f921"
             ]
            ],
            "type": "surface"
           }
          ],
          "table": [
           {
            "cells": {
             "fill": {
              "color": "#EBF0F8"
             },
             "line": {
              "color": "white"
             }
            },
            "header": {
             "fill": {
              "color": "#C8D4E3"
             },
             "line": {
              "color": "white"
             }
            },
            "type": "table"
           }
          ]
         },
         "layout": {
          "annotationdefaults": {
           "arrowcolor": "#2a3f5f",
           "arrowhead": 0,
           "arrowwidth": 1
          },
          "autotypenumbers": "strict",
          "coloraxis": {
           "colorbar": {
            "outlinewidth": 0,
            "ticks": ""
           }
          },
          "colorscale": {
           "diverging": [
            [
             0,
             "#8e0152"
            ],
            [
             0.1,
             "#c51b7d"
            ],
            [
             0.2,
             "#de77ae"
            ],
            [
             0.3,
             "#f1b6da"
            ],
            [
             0.4,
             "#fde0ef"
            ],
            [
             0.5,
             "#f7f7f7"
            ],
            [
             0.6,
             "#e6f5d0"
            ],
            [
             0.7,
             "#b8e186"
            ],
            [
             0.8,
             "#7fbc41"
            ],
            [
             0.9,
             "#4d9221"
            ],
            [
             1,
             "#276419"
            ]
           ],
           "sequential": [
            [
             0,
             "#0d0887"
            ],
            [
             0.1111111111111111,
             "#46039f"
            ],
            [
             0.2222222222222222,
             "#7201a8"
            ],
            [
             0.3333333333333333,
             "#9c179e"
            ],
            [
             0.4444444444444444,
             "#bd3786"
            ],
            [
             0.5555555555555556,
             "#d8576b"
            ],
            [
             0.6666666666666666,
             "#ed7953"
            ],
            [
             0.7777777777777778,
             "#fb9f3a"
            ],
            [
             0.8888888888888888,
             "#fdca26"
            ],
            [
             1,
             "#f0f921"
            ]
           ],
           "sequentialminus": [
            [
             0,
             "#0d0887"
            ],
            [
             0.1111111111111111,
             "#46039f"
            ],
            [
             0.2222222222222222,
             "#7201a8"
            ],
            [
             0.3333333333333333,
             "#9c179e"
            ],
            [
             0.4444444444444444,
             "#bd3786"
            ],
            [
             0.5555555555555556,
             "#d8576b"
            ],
            [
             0.6666666666666666,
             "#ed7953"
            ],
            [
             0.7777777777777778,
             "#fb9f3a"
            ],
            [
             0.8888888888888888,
             "#fdca26"
            ],
            [
             1,
             "#f0f921"
            ]
           ]
          },
          "colorway": [
           "#636efa",
           "#EF553B",
           "#00cc96",
           "#ab63fa",
           "#FFA15A",
           "#19d3f3",
           "#FF6692",
           "#B6E880",
           "#FF97FF",
           "#FECB52"
          ],
          "font": {
           "color": "#2a3f5f"
          },
          "geo": {
           "bgcolor": "white",
           "lakecolor": "white",
           "landcolor": "#E5ECF6",
           "showlakes": true,
           "showland": true,
           "subunitcolor": "white"
          },
          "hoverlabel": {
           "align": "left"
          },
          "hovermode": "closest",
          "mapbox": {
           "style": "light"
          },
          "paper_bgcolor": "white",
          "plot_bgcolor": "#E5ECF6",
          "polar": {
           "angularaxis": {
            "gridcolor": "white",
            "linecolor": "white",
            "ticks": ""
           },
           "bgcolor": "#E5ECF6",
           "radialaxis": {
            "gridcolor": "white",
            "linecolor": "white",
            "ticks": ""
           }
          },
          "scene": {
           "xaxis": {
            "backgroundcolor": "#E5ECF6",
            "gridcolor": "white",
            "gridwidth": 2,
            "linecolor": "white",
            "showbackground": true,
            "ticks": "",
            "zerolinecolor": "white"
           },
           "yaxis": {
            "backgroundcolor": "#E5ECF6",
            "gridcolor": "white",
            "gridwidth": 2,
            "linecolor": "white",
            "showbackground": true,
            "ticks": "",
            "zerolinecolor": "white"
           },
           "zaxis": {
            "backgroundcolor": "#E5ECF6",
            "gridcolor": "white",
            "gridwidth": 2,
            "linecolor": "white",
            "showbackground": true,
            "ticks": "",
            "zerolinecolor": "white"
           }
          },
          "shapedefaults": {
           "line": {
            "color": "#2a3f5f"
           }
          },
          "ternary": {
           "aaxis": {
            "gridcolor": "white",
            "linecolor": "white",
            "ticks": ""
           },
           "baxis": {
            "gridcolor": "white",
            "linecolor": "white",
            "ticks": ""
           },
           "bgcolor": "#E5ECF6",
           "caxis": {
            "gridcolor": "white",
            "linecolor": "white",
            "ticks": ""
           }
          },
          "title": {
           "x": 0.05
          },
          "xaxis": {
           "automargin": true,
           "gridcolor": "white",
           "linecolor": "white",
           "ticks": "",
           "title": {
            "standoff": 15
           },
           "zerolinecolor": "white",
           "zerolinewidth": 2
          },
          "yaxis": {
           "automargin": true,
           "gridcolor": "white",
           "linecolor": "white",
           "ticks": "",
           "title": {
            "standoff": 15
           },
           "zerolinecolor": "white",
           "zerolinewidth": 2
          }
         }
        },
        "title": {
         "text": "Mode of Travel to School"
        }
       }
      }
     },
     "metadata": {},
     "output_type": "display_data"
    }
   ],
   "source": [
    "# Count mode values\n",
    "mode_counts = journey_df['main_journey_mode'].value_counts().reset_index()\n",
    "mode_counts.columns = ['Mode', 'Count']\n",
    "\n",
    "colors = ['#003366', '#2E7D6C', '#0099CC', '#CCCCCC', '#333333']\n",
    "\n",
    "# Create pie chart\n",
    "fig = px.pie(\n",
    "    mode_counts,\n",
    "    names='Mode',\n",
    "    values='Count',\n",
    "    title='Mode of Travel to School',\n",
    "    color_discrete_sequence=colors\n",
    ")\n",
    "fig.show()\n"
   ]
  },
  {
   "cell_type": "code",
   "execution_count": 17,
   "id": "cafdba69",
   "metadata": {},
   "outputs": [],
   "source": [
    "# fig.write_html(\"travel_mode_share_pie_chart.html\")\n"
   ]
  },
  {
   "cell_type": "code",
   "execution_count": 18,
   "id": "3910a3e0",
   "metadata": {},
   "outputs": [
    {
     "name": "stdout",
     "output_type": "stream",
     "text": [
      "Using LGA column: start_LGA\n"
     ]
    }
   ],
   "source": [
    "# 1: Detect the LGA column robustly\n",
    "candidate_cols = [\n",
    "    'start_LGA','startlga','start_lga','origin_lga','orig_lga','origlga',\n",
    "    'home_LGA','home_lga','LGA','lga','start_LGA_name','start_lga_name'\n",
    "]\n",
    "\n",
    "# Build a map of lowercase->actual for lookup\n",
    "lower_map = {c.lower(): c for c in journey_df.columns}\n",
    "lga_col = None\n",
    "for c in candidate_cols:\n",
    "    if c.lower() in lower_map:\n",
    "        lga_col = lower_map[c.lower()]\n",
    "        break\n",
    "\n",
    "if lga_col is None:\n",
    "    raise ValueError(\n",
    "        \"Could not find an LGA column in journey_df. \"\n",
    "        \"Please check your column names and update candidate_cols.\\n\"\n",
    "        f\"Available columns: {list(journey_df.columns)}\"\n",
    "    )\n",
    "\n",
    "print(f\"Using LGA column: {lga_col}\")\n"
   ]
  },
  {
   "cell_type": "code",
   "execution_count": 19,
   "id": "dee7abe6",
   "metadata": {},
   "outputs": [
    {
     "name": "stdout",
     "output_type": "stream",
     "text": [
      "Rows kept for LGA average calc: 684\n"
     ]
    }
   ],
   "source": [
    "# 2: Ensure travel time is numeric + sensible\n",
    "journey_df['journey_travel_time'] = pd.to_numeric(\n",
    "    journey_df['journey_travel_time'], errors='coerce'\n",
    ")\n",
    "\n",
    "clean = journey_df.dropna(subset=['journey_travel_time']).copy()\n",
    "clean = clean[(clean['journey_travel_time'] > 0) & (clean['journey_travel_time'] <= 240)]\n",
    "\n",
    "print(f\"Rows kept for LGA average calc: {len(clean)}\")\n"
   ]
  },
  {
   "cell_type": "code",
   "execution_count": 20,
   "id": "e0b110ad",
   "metadata": {},
   "outputs": [
    {
     "name": "stdout",
     "output_type": "stream",
     "text": [
      "Total unique LGAs in this dataset: 36\n"
     ]
    },
    {
     "data": {
      "text/html": [
       "<div>\n",
       "<style scoped>\n",
       "    .dataframe tbody tr th:only-of-type {\n",
       "        vertical-align: middle;\n",
       "    }\n",
       "\n",
       "    .dataframe tbody tr th {\n",
       "        vertical-align: top;\n",
       "    }\n",
       "\n",
       "    .dataframe thead th {\n",
       "        text-align: right;\n",
       "    }\n",
       "</style>\n",
       "<table border=\"1\" class=\"dataframe\">\n",
       "  <thead>\n",
       "    <tr style=\"text-align: right;\">\n",
       "      <th></th>\n",
       "      <th>start_LGA</th>\n",
       "      <th>avg_time</th>\n",
       "      <th>n_trips</th>\n",
       "    </tr>\n",
       "  </thead>\n",
       "  <tbody>\n",
       "    <tr>\n",
       "      <th>22</th>\n",
       "      <td>Mitchell (S)</td>\n",
       "      <td>48.7</td>\n",
       "      <td>3</td>\n",
       "    </tr>\n",
       "    <tr>\n",
       "      <th>14</th>\n",
       "      <td>Kingston (C)</td>\n",
       "      <td>29.8</td>\n",
       "      <td>9</td>\n",
       "    </tr>\n",
       "    <tr>\n",
       "      <th>27</th>\n",
       "      <td>Mornington Peninsula (S)</td>\n",
       "      <td>27.3</td>\n",
       "      <td>23</td>\n",
       "    </tr>\n",
       "    <tr>\n",
       "      <th>4</th>\n",
       "      <td>Campaspe (S)</td>\n",
       "      <td>25.5</td>\n",
       "      <td>11</td>\n",
       "    </tr>\n",
       "    <tr>\n",
       "      <th>2</th>\n",
       "      <td>Boroondara (C)</td>\n",
       "      <td>24.5</td>\n",
       "      <td>28</td>\n",
       "    </tr>\n",
       "  </tbody>\n",
       "</table>\n",
       "</div>"
      ],
      "text/plain": [
       "                   start_LGA  avg_time  n_trips\n",
       "22              Mitchell (S)      48.7        3\n",
       "14              Kingston (C)      29.8        9\n",
       "27  Mornington Peninsula (S)      27.3       23\n",
       "4               Campaspe (S)      25.5       11\n",
       "2             Boroondara (C)      24.5       28"
      ]
     },
     "execution_count": 20,
     "metadata": {},
     "output_type": "execute_result"
    }
   ],
   "source": [
    "# Avg travel time bt LGA\n",
    "\n",
    "# Count how many unique LGAs are present\n",
    "total_lgas = clean[lga_col].nunique(dropna=True)\n",
    "print(f\"Total unique LGAs in this dataset: {total_lgas}\")\n",
    "\n",
    "# Aggregate by LGA\n",
    "agg = (\n",
    "    clean\n",
    "    .groupby(lga_col, dropna=False)\n",
    "    .agg(\n",
    "        avg_time=('journey_travel_time','mean'),\n",
    "        n_trips=('journey_travel_time','count')\n",
    "    )\n",
    "    .reset_index()\n",
    ")\n",
    "\n",
    "# Sort so the longest average time appears first\n",
    "agg = agg.sort_values('avg_time', ascending=False)\n",
    "\n",
    "# Optional: round for nicer labels\n",
    "agg['avg_time'] = agg['avg_time'].round(1)\n",
    "\n",
    "agg.head()\n",
    "\n",
    "\n",
    "\n"
   ]
  },
  {
   "cell_type": "code",
   "execution_count": 21,
   "id": "ef09d764",
   "metadata": {},
   "outputs": [
    {
     "data": {
      "application/vnd.plotly.v1+json": {
       "config": {
        "plotlyServerURL": "https://plot.ly"
       },
       "data": [
        {
         "customdata": {
          "bdata": "AwkXCxwMCCQSHTQECyoKHzEGCxYRDycQMRQEGQIBEBgNCQoJ",
          "dtype": "i1",
          "shape": "36, 1"
         },
         "hovertemplate": "<b>%{x}</b><br>Avg time: %{y} mins<br>Trips: %{customdata[0]}<extra></extra>",
         "legendgroup": "",
         "marker": {
          "color": {
           "bdata": "mpmZmZlZSEDNzMzMzMw9QM3MzMzMTDtAAAAAAACAOUAAAAAAAIA4QM3MzMzMTDhAmpmZmZkZN0CamZmZmRk3QJqZmZmZmTZAMzMzMzMzNkDNzMzMzEw1QDMzMzMzMzVAmpmZmZkZNUDNzMzMzMw0QJqZmZmZmTRAAAAAAACANECamZmZmRk0QAAAAAAAADRAMzMzMzOzM0BmZmZmZuYyQM3MzMzMzDFAzczMzMxMMUDNzMzMzMwwQM3MzMzMzC9AZmZmZmZmL0AAAAAAAAAvQAAAAAAAAC9AAAAAAAAALkAAAAAAAAAuQAAAAAAAAC5AZmZmZmZmLUAzMzMzMzMtQAAAAAAAACxAzczMzMzMI0AzMzMzMzMhQJqZmZmZmRtA",
           "dtype": "f8"
          },
          "coloraxis": "coloraxis",
          "pattern": {
           "shape": ""
          }
         },
         "name": "",
         "orientation": "v",
         "showlegend": false,
         "textposition": "auto",
         "type": "bar",
         "x": [
          "Mitchell (S)",
          "Kingston (C)",
          "Mornington Peninsula (S)",
          "Campaspe (S)",
          "Boroondara (C)",
          "Stonnington (C)",
          "Melbourne (C)",
          "Whittlesea (C)",
          "Moreland (C)",
          "Whitehorse (C)",
          "Wyndham (C)",
          "Yarra (C)",
          "Maribyrnong (C)",
          "Monash (C)",
          "Maroondah (C)",
          "Darebin (C)",
          "Casey (C)",
          "Cardinia (S)",
          "Brimbank (C)",
          "Banyule (C)",
          "Hume (C)",
          "Yarra Ranges (S)",
          "Glen Eira (C)",
          "Port Phillip (C)",
          "Greater Shepparton (C)",
          "Bayside (C)",
          "Manningham (C)",
          "Knox (C)",
          "Moira (S)",
          "Murrindindi (S)",
          "Frankston (C)",
          "Melton (S)",
          "Hobsons Bay (C)",
          "Macedon Ranges (S)",
          "Moonee Valley (C)",
          "Greater Dandenong (C)"
         ],
         "xaxis": "x",
         "y": {
          "bdata": "mpmZmZlZSEDNzMzMzMw9QM3MzMzMTDtAAAAAAACAOUAAAAAAAIA4QM3MzMzMTDhAmpmZmZkZN0CamZmZmRk3QJqZmZmZmTZAMzMzMzMzNkDNzMzMzEw1QDMzMzMzMzVAmpmZmZkZNUDNzMzMzMw0QJqZmZmZmTRAAAAAAACANECamZmZmRk0QAAAAAAAADRAMzMzMzOzM0BmZmZmZuYyQM3MzMzMzDFAzczMzMxMMUDNzMzMzMwwQM3MzMzMzC9AZmZmZmZmL0AAAAAAAAAvQAAAAAAAAC9AAAAAAAAALkAAAAAAAAAuQAAAAAAAAC5AZmZmZmZmLUAzMzMzMzMtQAAAAAAAACxAzczMzMzMI0AzMzMzMzMhQJqZmZmZmRtA",
          "dtype": "f8"
         },
         "yaxis": "y"
        }
       ],
       "layout": {
        "barmode": "relative",
        "coloraxis": {
         "colorbar": {
          "title": {
           "text": "Minutes"
          }
         },
         "colorscale": [
          [
           0,
           "#003366"
          ],
          [
           0.25,
           "#2E7D6C"
          ],
          [
           0.5,
           "#0099CC"
          ],
          [
           0.75,
           "#CCCCCC"
          ],
          [
           1,
           "#333333"
          ]
         ]
        },
        "height": 600,
        "legend": {
         "tracegroupgap": 0
        },
        "margin": {
         "b": 120,
         "l": 40,
         "r": 20,
         "t": 60
        },
        "template": {
         "data": {
          "bar": [
           {
            "error_x": {
             "color": "#2a3f5f"
            },
            "error_y": {
             "color": "#2a3f5f"
            },
            "marker": {
             "line": {
              "color": "#E5ECF6",
              "width": 0.5
             },
             "pattern": {
              "fillmode": "overlay",
              "size": 10,
              "solidity": 0.2
             }
            },
            "type": "bar"
           }
          ],
          "barpolar": [
           {
            "marker": {
             "line": {
              "color": "#E5ECF6",
              "width": 0.5
             },
             "pattern": {
              "fillmode": "overlay",
              "size": 10,
              "solidity": 0.2
             }
            },
            "type": "barpolar"
           }
          ],
          "carpet": [
           {
            "aaxis": {
             "endlinecolor": "#2a3f5f",
             "gridcolor": "white",
             "linecolor": "white",
             "minorgridcolor": "white",
             "startlinecolor": "#2a3f5f"
            },
            "baxis": {
             "endlinecolor": "#2a3f5f",
             "gridcolor": "white",
             "linecolor": "white",
             "minorgridcolor": "white",
             "startlinecolor": "#2a3f5f"
            },
            "type": "carpet"
           }
          ],
          "choropleth": [
           {
            "colorbar": {
             "outlinewidth": 0,
             "ticks": ""
            },
            "type": "choropleth"
           }
          ],
          "contour": [
           {
            "colorbar": {
             "outlinewidth": 0,
             "ticks": ""
            },
            "colorscale": [
             [
              0,
              "#0d0887"
             ],
             [
              0.1111111111111111,
              "#46039f"
             ],
             [
              0.2222222222222222,
              "#7201a8"
             ],
             [
              0.3333333333333333,
              "#9c179e"
             ],
             [
              0.4444444444444444,
              "#bd3786"
             ],
             [
              0.5555555555555556,
              "#d8576b"
             ],
             [
              0.6666666666666666,
              "#ed7953"
             ],
             [
              0.7777777777777778,
              "#fb9f3a"
             ],
             [
              0.8888888888888888,
              "#fdca26"
             ],
             [
              1,
              "#f0f921"
             ]
            ],
            "type": "contour"
           }
          ],
          "contourcarpet": [
           {
            "colorbar": {
             "outlinewidth": 0,
             "ticks": ""
            },
            "type": "contourcarpet"
           }
          ],
          "heatmap": [
           {
            "colorbar": {
             "outlinewidth": 0,
             "ticks": ""
            },
            "colorscale": [
             [
              0,
              "#0d0887"
             ],
             [
              0.1111111111111111,
              "#46039f"
             ],
             [
              0.2222222222222222,
              "#7201a8"
             ],
             [
              0.3333333333333333,
              "#9c179e"
             ],
             [
              0.4444444444444444,
              "#bd3786"
             ],
             [
              0.5555555555555556,
              "#d8576b"
             ],
             [
              0.6666666666666666,
              "#ed7953"
             ],
             [
              0.7777777777777778,
              "#fb9f3a"
             ],
             [
              0.8888888888888888,
              "#fdca26"
             ],
             [
              1,
              "#f0f921"
             ]
            ],
            "type": "heatmap"
           }
          ],
          "histogram": [
           {
            "marker": {
             "pattern": {
              "fillmode": "overlay",
              "size": 10,
              "solidity": 0.2
             }
            },
            "type": "histogram"
           }
          ],
          "histogram2d": [
           {
            "colorbar": {
             "outlinewidth": 0,
             "ticks": ""
            },
            "colorscale": [
             [
              0,
              "#0d0887"
             ],
             [
              0.1111111111111111,
              "#46039f"
             ],
             [
              0.2222222222222222,
              "#7201a8"
             ],
             [
              0.3333333333333333,
              "#9c179e"
             ],
             [
              0.4444444444444444,
              "#bd3786"
             ],
             [
              0.5555555555555556,
              "#d8576b"
             ],
             [
              0.6666666666666666,
              "#ed7953"
             ],
             [
              0.7777777777777778,
              "#fb9f3a"
             ],
             [
              0.8888888888888888,
              "#fdca26"
             ],
             [
              1,
              "#f0f921"
             ]
            ],
            "type": "histogram2d"
           }
          ],
          "histogram2dcontour": [
           {
            "colorbar": {
             "outlinewidth": 0,
             "ticks": ""
            },
            "colorscale": [
             [
              0,
              "#0d0887"
             ],
             [
              0.1111111111111111,
              "#46039f"
             ],
             [
              0.2222222222222222,
              "#7201a8"
             ],
             [
              0.3333333333333333,
              "#9c179e"
             ],
             [
              0.4444444444444444,
              "#bd3786"
             ],
             [
              0.5555555555555556,
              "#d8576b"
             ],
             [
              0.6666666666666666,
              "#ed7953"
             ],
             [
              0.7777777777777778,
              "#fb9f3a"
             ],
             [
              0.8888888888888888,
              "#fdca26"
             ],
             [
              1,
              "#f0f921"
             ]
            ],
            "type": "histogram2dcontour"
           }
          ],
          "mesh3d": [
           {
            "colorbar": {
             "outlinewidth": 0,
             "ticks": ""
            },
            "type": "mesh3d"
           }
          ],
          "parcoords": [
           {
            "line": {
             "colorbar": {
              "outlinewidth": 0,
              "ticks": ""
             }
            },
            "type": "parcoords"
           }
          ],
          "pie": [
           {
            "automargin": true,
            "type": "pie"
           }
          ],
          "scatter": [
           {
            "fillpattern": {
             "fillmode": "overlay",
             "size": 10,
             "solidity": 0.2
            },
            "type": "scatter"
           }
          ],
          "scatter3d": [
           {
            "line": {
             "colorbar": {
              "outlinewidth": 0,
              "ticks": ""
             }
            },
            "marker": {
             "colorbar": {
              "outlinewidth": 0,
              "ticks": ""
             }
            },
            "type": "scatter3d"
           }
          ],
          "scattercarpet": [
           {
            "marker": {
             "colorbar": {
              "outlinewidth": 0,
              "ticks": ""
             }
            },
            "type": "scattercarpet"
           }
          ],
          "scattergeo": [
           {
            "marker": {
             "colorbar": {
              "outlinewidth": 0,
              "ticks": ""
             }
            },
            "type": "scattergeo"
           }
          ],
          "scattergl": [
           {
            "marker": {
             "colorbar": {
              "outlinewidth": 0,
              "ticks": ""
             }
            },
            "type": "scattergl"
           }
          ],
          "scattermap": [
           {
            "marker": {
             "colorbar": {
              "outlinewidth": 0,
              "ticks": ""
             }
            },
            "type": "scattermap"
           }
          ],
          "scattermapbox": [
           {
            "marker": {
             "colorbar": {
              "outlinewidth": 0,
              "ticks": ""
             }
            },
            "type": "scattermapbox"
           }
          ],
          "scatterpolar": [
           {
            "marker": {
             "colorbar": {
              "outlinewidth": 0,
              "ticks": ""
             }
            },
            "type": "scatterpolar"
           }
          ],
          "scatterpolargl": [
           {
            "marker": {
             "colorbar": {
              "outlinewidth": 0,
              "ticks": ""
             }
            },
            "type": "scatterpolargl"
           }
          ],
          "scatterternary": [
           {
            "marker": {
             "colorbar": {
              "outlinewidth": 0,
              "ticks": ""
             }
            },
            "type": "scatterternary"
           }
          ],
          "surface": [
           {
            "colorbar": {
             "outlinewidth": 0,
             "ticks": ""
            },
            "colorscale": [
             [
              0,
              "#0d0887"
             ],
             [
              0.1111111111111111,
              "#46039f"
             ],
             [
              0.2222222222222222,
              "#7201a8"
             ],
             [
              0.3333333333333333,
              "#9c179e"
             ],
             [
              0.4444444444444444,
              "#bd3786"
             ],
             [
              0.5555555555555556,
              "#d8576b"
             ],
             [
              0.6666666666666666,
              "#ed7953"
             ],
             [
              0.7777777777777778,
              "#fb9f3a"
             ],
             [
              0.8888888888888888,
              "#fdca26"
             ],
             [
              1,
              "#f0f921"
             ]
            ],
            "type": "surface"
           }
          ],
          "table": [
           {
            "cells": {
             "fill": {
              "color": "#EBF0F8"
             },
             "line": {
              "color": "white"
             }
            },
            "header": {
             "fill": {
              "color": "#C8D4E3"
             },
             "line": {
              "color": "white"
             }
            },
            "type": "table"
           }
          ]
         },
         "layout": {
          "annotationdefaults": {
           "arrowcolor": "#2a3f5f",
           "arrowhead": 0,
           "arrowwidth": 1
          },
          "autotypenumbers": "strict",
          "coloraxis": {
           "colorbar": {
            "outlinewidth": 0,
            "ticks": ""
           }
          },
          "colorscale": {
           "diverging": [
            [
             0,
             "#8e0152"
            ],
            [
             0.1,
             "#c51b7d"
            ],
            [
             0.2,
             "#de77ae"
            ],
            [
             0.3,
             "#f1b6da"
            ],
            [
             0.4,
             "#fde0ef"
            ],
            [
             0.5,
             "#f7f7f7"
            ],
            [
             0.6,
             "#e6f5d0"
            ],
            [
             0.7,
             "#b8e186"
            ],
            [
             0.8,
             "#7fbc41"
            ],
            [
             0.9,
             "#4d9221"
            ],
            [
             1,
             "#276419"
            ]
           ],
           "sequential": [
            [
             0,
             "#0d0887"
            ],
            [
             0.1111111111111111,
             "#46039f"
            ],
            [
             0.2222222222222222,
             "#7201a8"
            ],
            [
             0.3333333333333333,
             "#9c179e"
            ],
            [
             0.4444444444444444,
             "#bd3786"
            ],
            [
             0.5555555555555556,
             "#d8576b"
            ],
            [
             0.6666666666666666,
             "#ed7953"
            ],
            [
             0.7777777777777778,
             "#fb9f3a"
            ],
            [
             0.8888888888888888,
             "#fdca26"
            ],
            [
             1,
             "#f0f921"
            ]
           ],
           "sequentialminus": [
            [
             0,
             "#0d0887"
            ],
            [
             0.1111111111111111,
             "#46039f"
            ],
            [
             0.2222222222222222,
             "#7201a8"
            ],
            [
             0.3333333333333333,
             "#9c179e"
            ],
            [
             0.4444444444444444,
             "#bd3786"
            ],
            [
             0.5555555555555556,
             "#d8576b"
            ],
            [
             0.6666666666666666,
             "#ed7953"
            ],
            [
             0.7777777777777778,
             "#fb9f3a"
            ],
            [
             0.8888888888888888,
             "#fdca26"
            ],
            [
             1,
             "#f0f921"
            ]
           ]
          },
          "colorway": [
           "#636efa",
           "#EF553B",
           "#00cc96",
           "#ab63fa",
           "#FFA15A",
           "#19d3f3",
           "#FF6692",
           "#B6E880",
           "#FF97FF",
           "#FECB52"
          ],
          "font": {
           "color": "#2a3f5f"
          },
          "geo": {
           "bgcolor": "white",
           "lakecolor": "white",
           "landcolor": "#E5ECF6",
           "showlakes": true,
           "showland": true,
           "subunitcolor": "white"
          },
          "hoverlabel": {
           "align": "left"
          },
          "hovermode": "closest",
          "mapbox": {
           "style": "light"
          },
          "paper_bgcolor": "white",
          "plot_bgcolor": "#E5ECF6",
          "polar": {
           "angularaxis": {
            "gridcolor": "white",
            "linecolor": "white",
            "ticks": ""
           },
           "bgcolor": "#E5ECF6",
           "radialaxis": {
            "gridcolor": "white",
            "linecolor": "white",
            "ticks": ""
           }
          },
          "scene": {
           "xaxis": {
            "backgroundcolor": "#E5ECF6",
            "gridcolor": "white",
            "gridwidth": 2,
            "linecolor": "white",
            "showbackground": true,
            "ticks": "",
            "zerolinecolor": "white"
           },
           "yaxis": {
            "backgroundcolor": "#E5ECF6",
            "gridcolor": "white",
            "gridwidth": 2,
            "linecolor": "white",
            "showbackground": true,
            "ticks": "",
            "zerolinecolor": "white"
           },
           "zaxis": {
            "backgroundcolor": "#E5ECF6",
            "gridcolor": "white",
            "gridwidth": 2,
            "linecolor": "white",
            "showbackground": true,
            "ticks": "",
            "zerolinecolor": "white"
           }
          },
          "shapedefaults": {
           "line": {
            "color": "#2a3f5f"
           }
          },
          "ternary": {
           "aaxis": {
            "gridcolor": "white",
            "linecolor": "white",
            "ticks": ""
           },
           "baxis": {
            "gridcolor": "white",
            "linecolor": "white",
            "ticks": ""
           },
           "bgcolor": "#E5ECF6",
           "caxis": {
            "gridcolor": "white",
            "linecolor": "white",
            "ticks": ""
           }
          },
          "title": {
           "x": 0.05
          },
          "xaxis": {
           "automargin": true,
           "gridcolor": "white",
           "linecolor": "white",
           "ticks": "",
           "title": {
            "standoff": 15
           },
           "zerolinecolor": "white",
           "zerolinewidth": 2
          },
          "yaxis": {
           "automargin": true,
           "gridcolor": "white",
           "linecolor": "white",
           "ticks": "",
           "title": {
            "standoff": 15
           },
           "zerolinecolor": "white",
           "zerolinewidth": 2
          }
         }
        },
        "title": {
         "text": "Average Travel Time to School by LGA"
        },
        "xaxis": {
         "anchor": "y",
         "domain": [
          0,
          1
         ],
         "tickangle": -45,
         "title": {
          "text": "LGA"
         }
        },
        "yaxis": {
         "anchor": "x",
         "domain": [
          0,
          1
         ],
         "title": {
          "text": "Average Travel Time (mins)"
         }
        }
       }
      }
     },
     "metadata": {},
     "output_type": "display_data"
    }
   ],
   "source": [
    "import plotly.express as px\n",
    "\n",
    "# Bar chart (all LGAs)\n",
    "fig = px.bar(\n",
    "    agg,\n",
    "    x=lga_col,\n",
    "    y='avg_time',\n",
    "    title='Average Travel Time to School by LGA',\n",
    "    labels={lga_col: 'LGA', 'avg_time': 'Average Travel Time (mins)'},\n",
    "    color='avg_time',  # color by the value for a gradient effect\n",
    "    color_continuous_scale=colors\n",
    ")\n",
    "\n",
    "# Make it readable\n",
    "fig.update_layout(\n",
    "    xaxis_tickangle=-45,\n",
    "    margin=dict(l=40, r=20, t=60, b=120),\n",
    "    coloraxis_colorbar=dict(title='Minutes'),\n",
    "    height=600\n",
    ")\n",
    "\n",
    "# Add counts in hover\n",
    "fig.update_traces(\n",
    "    hovertemplate=\"<b>%{x}</b><br>Avg time: %{y} mins<br>Trips: %{customdata[0]}<extra></extra>\",\n",
    "    customdata=agg[['n_trips']].values\n",
    ")\n",
    "\n",
    "fig.show()\n"
   ]
  },
  {
   "cell_type": "code",
   "execution_count": 22,
   "id": "fce03a39",
   "metadata": {},
   "outputs": [],
   "source": [
    "# fig.write_html(\"avg_travel_time_by_all_LGA.html\")\n"
   ]
  },
  {
   "cell_type": "code",
   "execution_count": 23,
   "id": "a8f7e2f2",
   "metadata": {},
   "outputs": [
    {
     "data": {
      "application/vnd.plotly.v1+json": {
       "config": {
        "plotlyServerURL": "https://plot.ly"
       },
       "data": [
        {
         "hovertemplate": "LGA(Local Government Area)=%{x}<br>Average Travel Time (mins)=%{marker.color}<extra></extra>",
         "legendgroup": "",
         "marker": {
          "color": {
           "bdata": "mpmZmZmZG0AzMzMzMzMhQM3MzMzMzCNAAAAAAAAALEAzMzMzMzMtQA==",
           "dtype": "f8"
          },
          "coloraxis": "coloraxis",
          "pattern": {
           "shape": ""
          }
         },
         "name": "",
         "orientation": "v",
         "showlegend": false,
         "textposition": "auto",
         "type": "bar",
         "x": [
          "Greater Dandenong (C)",
          "Moonee Valley (C)",
          "Macedon Ranges (S)",
          "Hobsons Bay (C)",
          "Melton (S)"
         ],
         "xaxis": "x",
         "y": {
          "bdata": "mpmZmZmZG0AzMzMzMzMhQM3MzMzMzCNAAAAAAAAALEAzMzMzMzMtQA==",
          "dtype": "f8"
         },
         "yaxis": "y"
        }
       ],
       "layout": {
        "barmode": "relative",
        "coloraxis": {
         "colorbar": {
          "title": {
           "text": "Average Travel Time (mins)"
          }
         },
         "colorscale": [
          [
           0,
           "#003366"
          ],
          [
           0.25,
           "#2E7D6C"
          ],
          [
           0.5,
           "#0099CC"
          ],
          [
           0.75,
           "#CCCCCC"
          ],
          [
           1,
           "#333333"
          ]
         ]
        },
        "height": 500,
        "legend": {
         "tracegroupgap": 0
        },
        "template": {
         "data": {
          "bar": [
           {
            "error_x": {
             "color": "#2a3f5f"
            },
            "error_y": {
             "color": "#2a3f5f"
            },
            "marker": {
             "line": {
              "color": "#E5ECF6",
              "width": 0.5
             },
             "pattern": {
              "fillmode": "overlay",
              "size": 10,
              "solidity": 0.2
             }
            },
            "type": "bar"
           }
          ],
          "barpolar": [
           {
            "marker": {
             "line": {
              "color": "#E5ECF6",
              "width": 0.5
             },
             "pattern": {
              "fillmode": "overlay",
              "size": 10,
              "solidity": 0.2
             }
            },
            "type": "barpolar"
           }
          ],
          "carpet": [
           {
            "aaxis": {
             "endlinecolor": "#2a3f5f",
             "gridcolor": "white",
             "linecolor": "white",
             "minorgridcolor": "white",
             "startlinecolor": "#2a3f5f"
            },
            "baxis": {
             "endlinecolor": "#2a3f5f",
             "gridcolor": "white",
             "linecolor": "white",
             "minorgridcolor": "white",
             "startlinecolor": "#2a3f5f"
            },
            "type": "carpet"
           }
          ],
          "choropleth": [
           {
            "colorbar": {
             "outlinewidth": 0,
             "ticks": ""
            },
            "type": "choropleth"
           }
          ],
          "contour": [
           {
            "colorbar": {
             "outlinewidth": 0,
             "ticks": ""
            },
            "colorscale": [
             [
              0,
              "#0d0887"
             ],
             [
              0.1111111111111111,
              "#46039f"
             ],
             [
              0.2222222222222222,
              "#7201a8"
             ],
             [
              0.3333333333333333,
              "#9c179e"
             ],
             [
              0.4444444444444444,
              "#bd3786"
             ],
             [
              0.5555555555555556,
              "#d8576b"
             ],
             [
              0.6666666666666666,
              "#ed7953"
             ],
             [
              0.7777777777777778,
              "#fb9f3a"
             ],
             [
              0.8888888888888888,
              "#fdca26"
             ],
             [
              1,
              "#f0f921"
             ]
            ],
            "type": "contour"
           }
          ],
          "contourcarpet": [
           {
            "colorbar": {
             "outlinewidth": 0,
             "ticks": ""
            },
            "type": "contourcarpet"
           }
          ],
          "heatmap": [
           {
            "colorbar": {
             "outlinewidth": 0,
             "ticks": ""
            },
            "colorscale": [
             [
              0,
              "#0d0887"
             ],
             [
              0.1111111111111111,
              "#46039f"
             ],
             [
              0.2222222222222222,
              "#7201a8"
             ],
             [
              0.3333333333333333,
              "#9c179e"
             ],
             [
              0.4444444444444444,
              "#bd3786"
             ],
             [
              0.5555555555555556,
              "#d8576b"
             ],
             [
              0.6666666666666666,
              "#ed7953"
             ],
             [
              0.7777777777777778,
              "#fb9f3a"
             ],
             [
              0.8888888888888888,
              "#fdca26"
             ],
             [
              1,
              "#f0f921"
             ]
            ],
            "type": "heatmap"
           }
          ],
          "histogram": [
           {
            "marker": {
             "pattern": {
              "fillmode": "overlay",
              "size": 10,
              "solidity": 0.2
             }
            },
            "type": "histogram"
           }
          ],
          "histogram2d": [
           {
            "colorbar": {
             "outlinewidth": 0,
             "ticks": ""
            },
            "colorscale": [
             [
              0,
              "#0d0887"
             ],
             [
              0.1111111111111111,
              "#46039f"
             ],
             [
              0.2222222222222222,
              "#7201a8"
             ],
             [
              0.3333333333333333,
              "#9c179e"
             ],
             [
              0.4444444444444444,
              "#bd3786"
             ],
             [
              0.5555555555555556,
              "#d8576b"
             ],
             [
              0.6666666666666666,
              "#ed7953"
             ],
             [
              0.7777777777777778,
              "#fb9f3a"
             ],
             [
              0.8888888888888888,
              "#fdca26"
             ],
             [
              1,
              "#f0f921"
             ]
            ],
            "type": "histogram2d"
           }
          ],
          "histogram2dcontour": [
           {
            "colorbar": {
             "outlinewidth": 0,
             "ticks": ""
            },
            "colorscale": [
             [
              0,
              "#0d0887"
             ],
             [
              0.1111111111111111,
              "#46039f"
             ],
             [
              0.2222222222222222,
              "#7201a8"
             ],
             [
              0.3333333333333333,
              "#9c179e"
             ],
             [
              0.4444444444444444,
              "#bd3786"
             ],
             [
              0.5555555555555556,
              "#d8576b"
             ],
             [
              0.6666666666666666,
              "#ed7953"
             ],
             [
              0.7777777777777778,
              "#fb9f3a"
             ],
             [
              0.8888888888888888,
              "#fdca26"
             ],
             [
              1,
              "#f0f921"
             ]
            ],
            "type": "histogram2dcontour"
           }
          ],
          "mesh3d": [
           {
            "colorbar": {
             "outlinewidth": 0,
             "ticks": ""
            },
            "type": "mesh3d"
           }
          ],
          "parcoords": [
           {
            "line": {
             "colorbar": {
              "outlinewidth": 0,
              "ticks": ""
             }
            },
            "type": "parcoords"
           }
          ],
          "pie": [
           {
            "automargin": true,
            "type": "pie"
           }
          ],
          "scatter": [
           {
            "fillpattern": {
             "fillmode": "overlay",
             "size": 10,
             "solidity": 0.2
            },
            "type": "scatter"
           }
          ],
          "scatter3d": [
           {
            "line": {
             "colorbar": {
              "outlinewidth": 0,
              "ticks": ""
             }
            },
            "marker": {
             "colorbar": {
              "outlinewidth": 0,
              "ticks": ""
             }
            },
            "type": "scatter3d"
           }
          ],
          "scattercarpet": [
           {
            "marker": {
             "colorbar": {
              "outlinewidth": 0,
              "ticks": ""
             }
            },
            "type": "scattercarpet"
           }
          ],
          "scattergeo": [
           {
            "marker": {
             "colorbar": {
              "outlinewidth": 0,
              "ticks": ""
             }
            },
            "type": "scattergeo"
           }
          ],
          "scattergl": [
           {
            "marker": {
             "colorbar": {
              "outlinewidth": 0,
              "ticks": ""
             }
            },
            "type": "scattergl"
           }
          ],
          "scattermap": [
           {
            "marker": {
             "colorbar": {
              "outlinewidth": 0,
              "ticks": ""
             }
            },
            "type": "scattermap"
           }
          ],
          "scattermapbox": [
           {
            "marker": {
             "colorbar": {
              "outlinewidth": 0,
              "ticks": ""
             }
            },
            "type": "scattermapbox"
           }
          ],
          "scatterpolar": [
           {
            "marker": {
             "colorbar": {
              "outlinewidth": 0,
              "ticks": ""
             }
            },
            "type": "scatterpolar"
           }
          ],
          "scatterpolargl": [
           {
            "marker": {
             "colorbar": {
              "outlinewidth": 0,
              "ticks": ""
             }
            },
            "type": "scatterpolargl"
           }
          ],
          "scatterternary": [
           {
            "marker": {
             "colorbar": {
              "outlinewidth": 0,
              "ticks": ""
             }
            },
            "type": "scatterternary"
           }
          ],
          "surface": [
           {
            "colorbar": {
             "outlinewidth": 0,
             "ticks": ""
            },
            "colorscale": [
             [
              0,
              "#0d0887"
             ],
             [
              0.1111111111111111,
              "#46039f"
             ],
             [
              0.2222222222222222,
              "#7201a8"
             ],
             [
              0.3333333333333333,
              "#9c179e"
             ],
             [
              0.4444444444444444,
              "#bd3786"
             ],
             [
              0.5555555555555556,
              "#d8576b"
             ],
             [
              0.6666666666666666,
              "#ed7953"
             ],
             [
              0.7777777777777778,
              "#fb9f3a"
             ],
             [
              0.8888888888888888,
              "#fdca26"
             ],
             [
              1,
              "#f0f921"
             ]
            ],
            "type": "surface"
           }
          ],
          "table": [
           {
            "cells": {
             "fill": {
              "color": "#EBF0F8"
             },
             "line": {
              "color": "white"
             }
            },
            "header": {
             "fill": {
              "color": "#C8D4E3"
             },
             "line": {
              "color": "white"
             }
            },
            "type": "table"
           }
          ]
         },
         "layout": {
          "annotationdefaults": {
           "arrowcolor": "#2a3f5f",
           "arrowhead": 0,
           "arrowwidth": 1
          },
          "autotypenumbers": "strict",
          "coloraxis": {
           "colorbar": {
            "outlinewidth": 0,
            "ticks": ""
           }
          },
          "colorscale": {
           "diverging": [
            [
             0,
             "#8e0152"
            ],
            [
             0.1,
             "#c51b7d"
            ],
            [
             0.2,
             "#de77ae"
            ],
            [
             0.3,
             "#f1b6da"
            ],
            [
             0.4,
             "#fde0ef"
            ],
            [
             0.5,
             "#f7f7f7"
            ],
            [
             0.6,
             "#e6f5d0"
            ],
            [
             0.7,
             "#b8e186"
            ],
            [
             0.8,
             "#7fbc41"
            ],
            [
             0.9,
             "#4d9221"
            ],
            [
             1,
             "#276419"
            ]
           ],
           "sequential": [
            [
             0,
             "#0d0887"
            ],
            [
             0.1111111111111111,
             "#46039f"
            ],
            [
             0.2222222222222222,
             "#7201a8"
            ],
            [
             0.3333333333333333,
             "#9c179e"
            ],
            [
             0.4444444444444444,
             "#bd3786"
            ],
            [
             0.5555555555555556,
             "#d8576b"
            ],
            [
             0.6666666666666666,
             "#ed7953"
            ],
            [
             0.7777777777777778,
             "#fb9f3a"
            ],
            [
             0.8888888888888888,
             "#fdca26"
            ],
            [
             1,
             "#f0f921"
            ]
           ],
           "sequentialminus": [
            [
             0,
             "#0d0887"
            ],
            [
             0.1111111111111111,
             "#46039f"
            ],
            [
             0.2222222222222222,
             "#7201a8"
            ],
            [
             0.3333333333333333,
             "#9c179e"
            ],
            [
             0.4444444444444444,
             "#bd3786"
            ],
            [
             0.5555555555555556,
             "#d8576b"
            ],
            [
             0.6666666666666666,
             "#ed7953"
            ],
            [
             0.7777777777777778,
             "#fb9f3a"
            ],
            [
             0.8888888888888888,
             "#fdca26"
            ],
            [
             1,
             "#f0f921"
            ]
           ]
          },
          "colorway": [
           "#636efa",
           "#EF553B",
           "#00cc96",
           "#ab63fa",
           "#FFA15A",
           "#19d3f3",
           "#FF6692",
           "#B6E880",
           "#FF97FF",
           "#FECB52"
          ],
          "font": {
           "color": "#2a3f5f"
          },
          "geo": {
           "bgcolor": "white",
           "lakecolor": "white",
           "landcolor": "#E5ECF6",
           "showlakes": true,
           "showland": true,
           "subunitcolor": "white"
          },
          "hoverlabel": {
           "align": "left"
          },
          "hovermode": "closest",
          "mapbox": {
           "style": "light"
          },
          "paper_bgcolor": "white",
          "plot_bgcolor": "#E5ECF6",
          "polar": {
           "angularaxis": {
            "gridcolor": "white",
            "linecolor": "white",
            "ticks": ""
           },
           "bgcolor": "#E5ECF6",
           "radialaxis": {
            "gridcolor": "white",
            "linecolor": "white",
            "ticks": ""
           }
          },
          "scene": {
           "xaxis": {
            "backgroundcolor": "#E5ECF6",
            "gridcolor": "white",
            "gridwidth": 2,
            "linecolor": "white",
            "showbackground": true,
            "ticks": "",
            "zerolinecolor": "white"
           },
           "yaxis": {
            "backgroundcolor": "#E5ECF6",
            "gridcolor": "white",
            "gridwidth": 2,
            "linecolor": "white",
            "showbackground": true,
            "ticks": "",
            "zerolinecolor": "white"
           },
           "zaxis": {
            "backgroundcolor": "#E5ECF6",
            "gridcolor": "white",
            "gridwidth": 2,
            "linecolor": "white",
            "showbackground": true,
            "ticks": "",
            "zerolinecolor": "white"
           }
          },
          "shapedefaults": {
           "line": {
            "color": "#2a3f5f"
           }
          },
          "ternary": {
           "aaxis": {
            "gridcolor": "white",
            "linecolor": "white",
            "ticks": ""
           },
           "baxis": {
            "gridcolor": "white",
            "linecolor": "white",
            "ticks": ""
           },
           "bgcolor": "#E5ECF6",
           "caxis": {
            "gridcolor": "white",
            "linecolor": "white",
            "ticks": ""
           }
          },
          "title": {
           "x": 0.05
          },
          "xaxis": {
           "automargin": true,
           "gridcolor": "white",
           "linecolor": "white",
           "ticks": "",
           "title": {
            "standoff": 15
           },
           "zerolinecolor": "white",
           "zerolinewidth": 2
          },
          "yaxis": {
           "automargin": true,
           "gridcolor": "white",
           "linecolor": "white",
           "ticks": "",
           "title": {
            "standoff": 15
           },
           "zerolinecolor": "white",
           "zerolinewidth": 2
          }
         }
        },
        "title": {
         "text": "Top 5 LGAs with Shortest Avg School Travel Time"
        },
        "xaxis": {
         "anchor": "y",
         "domain": [
          0,
          1
         ],
         "tickangle": -45,
         "title": {
          "text": "LGA(Local Government Area)"
         }
        },
        "yaxis": {
         "anchor": "x",
         "domain": [
          0,
          1
         ],
         "title": {
          "text": "Average Travel Time (mins)"
         }
        }
       }
      }
     },
     "metadata": {},
     "output_type": "display_data"
    }
   ],
   "source": [
    "# Select top 5 LGAs with shortest avg travel times\n",
    "top5_best = agg.nsmallest(5, 'avg_time')\n",
    "\n",
    "fig_best = px.bar(\n",
    "    top5_best,\n",
    "    x=lga_col,\n",
    "    y='avg_time',\n",
    "    title='Top 5 LGAs with Shortest Avg School Travel Time',\n",
    "    labels={lga_col: 'LGA(Local Government Area)', 'avg_time': 'Average Travel Time (mins)'},\n",
    "    color='avg_time',\n",
    "    color_continuous_scale=colors\n",
    ")\n",
    "\n",
    "fig_best.update_layout(xaxis_tickangle=-45, height=500)\n",
    "fig_best.show()\n",
    "\n"
   ]
  },
  {
   "cell_type": "code",
   "execution_count": 24,
   "id": "773e4d85",
   "metadata": {},
   "outputs": [],
   "source": [
    "# fig_best.write_html(\"top5_best_LGAs.html\")"
   ]
  },
  {
   "cell_type": "code",
   "execution_count": 25,
   "id": "a16f3bdc",
   "metadata": {},
   "outputs": [
    {
     "data": {
      "application/vnd.plotly.v1+json": {
       "config": {
        "plotlyServerURL": "https://plot.ly"
       },
       "data": [
        {
         "hovertemplate": "LGA(Local Government Area)=%{x}<br>Average Travel Time (mins)=%{marker.color}<extra></extra>",
         "legendgroup": "",
         "marker": {
          "color": {
           "bdata": "mpmZmZlZSEDNzMzMzMw9QM3MzMzMTDtAAAAAAACAOUAAAAAAAIA4QA==",
           "dtype": "f8"
          },
          "coloraxis": "coloraxis",
          "pattern": {
           "shape": ""
          }
         },
         "name": "",
         "orientation": "v",
         "showlegend": false,
         "textposition": "auto",
         "type": "bar",
         "x": [
          "Mitchell (S)",
          "Kingston (C)",
          "Mornington Peninsula (S)",
          "Campaspe (S)",
          "Boroondara (C)"
         ],
         "xaxis": "x",
         "y": {
          "bdata": "mpmZmZlZSEDNzMzMzMw9QM3MzMzMTDtAAAAAAACAOUAAAAAAAIA4QA==",
          "dtype": "f8"
         },
         "yaxis": "y"
        }
       ],
       "layout": {
        "barmode": "relative",
        "coloraxis": {
         "colorbar": {
          "title": {
           "text": "Average Travel Time (mins)"
          }
         },
         "colorscale": [
          [
           0,
           "#003366"
          ],
          [
           0.25,
           "#2E7D6C"
          ],
          [
           0.5,
           "#0099CC"
          ],
          [
           0.75,
           "#CCCCCC"
          ],
          [
           1,
           "#333333"
          ]
         ]
        },
        "height": 500,
        "legend": {
         "tracegroupgap": 0
        },
        "template": {
         "data": {
          "bar": [
           {
            "error_x": {
             "color": "#2a3f5f"
            },
            "error_y": {
             "color": "#2a3f5f"
            },
            "marker": {
             "line": {
              "color": "#E5ECF6",
              "width": 0.5
             },
             "pattern": {
              "fillmode": "overlay",
              "size": 10,
              "solidity": 0.2
             }
            },
            "type": "bar"
           }
          ],
          "barpolar": [
           {
            "marker": {
             "line": {
              "color": "#E5ECF6",
              "width": 0.5
             },
             "pattern": {
              "fillmode": "overlay",
              "size": 10,
              "solidity": 0.2
             }
            },
            "type": "barpolar"
           }
          ],
          "carpet": [
           {
            "aaxis": {
             "endlinecolor": "#2a3f5f",
             "gridcolor": "white",
             "linecolor": "white",
             "minorgridcolor": "white",
             "startlinecolor": "#2a3f5f"
            },
            "baxis": {
             "endlinecolor": "#2a3f5f",
             "gridcolor": "white",
             "linecolor": "white",
             "minorgridcolor": "white",
             "startlinecolor": "#2a3f5f"
            },
            "type": "carpet"
           }
          ],
          "choropleth": [
           {
            "colorbar": {
             "outlinewidth": 0,
             "ticks": ""
            },
            "type": "choropleth"
           }
          ],
          "contour": [
           {
            "colorbar": {
             "outlinewidth": 0,
             "ticks": ""
            },
            "colorscale": [
             [
              0,
              "#0d0887"
             ],
             [
              0.1111111111111111,
              "#46039f"
             ],
             [
              0.2222222222222222,
              "#7201a8"
             ],
             [
              0.3333333333333333,
              "#9c179e"
             ],
             [
              0.4444444444444444,
              "#bd3786"
             ],
             [
              0.5555555555555556,
              "#d8576b"
             ],
             [
              0.6666666666666666,
              "#ed7953"
             ],
             [
              0.7777777777777778,
              "#fb9f3a"
             ],
             [
              0.8888888888888888,
              "#fdca26"
             ],
             [
              1,
              "#f0f921"
             ]
            ],
            "type": "contour"
           }
          ],
          "contourcarpet": [
           {
            "colorbar": {
             "outlinewidth": 0,
             "ticks": ""
            },
            "type": "contourcarpet"
           }
          ],
          "heatmap": [
           {
            "colorbar": {
             "outlinewidth": 0,
             "ticks": ""
            },
            "colorscale": [
             [
              0,
              "#0d0887"
             ],
             [
              0.1111111111111111,
              "#46039f"
             ],
             [
              0.2222222222222222,
              "#7201a8"
             ],
             [
              0.3333333333333333,
              "#9c179e"
             ],
             [
              0.4444444444444444,
              "#bd3786"
             ],
             [
              0.5555555555555556,
              "#d8576b"
             ],
             [
              0.6666666666666666,
              "#ed7953"
             ],
             [
              0.7777777777777778,
              "#fb9f3a"
             ],
             [
              0.8888888888888888,
              "#fdca26"
             ],
             [
              1,
              "#f0f921"
             ]
            ],
            "type": "heatmap"
           }
          ],
          "histogram": [
           {
            "marker": {
             "pattern": {
              "fillmode": "overlay",
              "size": 10,
              "solidity": 0.2
             }
            },
            "type": "histogram"
           }
          ],
          "histogram2d": [
           {
            "colorbar": {
             "outlinewidth": 0,
             "ticks": ""
            },
            "colorscale": [
             [
              0,
              "#0d0887"
             ],
             [
              0.1111111111111111,
              "#46039f"
             ],
             [
              0.2222222222222222,
              "#7201a8"
             ],
             [
              0.3333333333333333,
              "#9c179e"
             ],
             [
              0.4444444444444444,
              "#bd3786"
             ],
             [
              0.5555555555555556,
              "#d8576b"
             ],
             [
              0.6666666666666666,
              "#ed7953"
             ],
             [
              0.7777777777777778,
              "#fb9f3a"
             ],
             [
              0.8888888888888888,
              "#fdca26"
             ],
             [
              1,
              "#f0f921"
             ]
            ],
            "type": "histogram2d"
           }
          ],
          "histogram2dcontour": [
           {
            "colorbar": {
             "outlinewidth": 0,
             "ticks": ""
            },
            "colorscale": [
             [
              0,
              "#0d0887"
             ],
             [
              0.1111111111111111,
              "#46039f"
             ],
             [
              0.2222222222222222,
              "#7201a8"
             ],
             [
              0.3333333333333333,
              "#9c179e"
             ],
             [
              0.4444444444444444,
              "#bd3786"
             ],
             [
              0.5555555555555556,
              "#d8576b"
             ],
             [
              0.6666666666666666,
              "#ed7953"
             ],
             [
              0.7777777777777778,
              "#fb9f3a"
             ],
             [
              0.8888888888888888,
              "#fdca26"
             ],
             [
              1,
              "#f0f921"
             ]
            ],
            "type": "histogram2dcontour"
           }
          ],
          "mesh3d": [
           {
            "colorbar": {
             "outlinewidth": 0,
             "ticks": ""
            },
            "type": "mesh3d"
           }
          ],
          "parcoords": [
           {
            "line": {
             "colorbar": {
              "outlinewidth": 0,
              "ticks": ""
             }
            },
            "type": "parcoords"
           }
          ],
          "pie": [
           {
            "automargin": true,
            "type": "pie"
           }
          ],
          "scatter": [
           {
            "fillpattern": {
             "fillmode": "overlay",
             "size": 10,
             "solidity": 0.2
            },
            "type": "scatter"
           }
          ],
          "scatter3d": [
           {
            "line": {
             "colorbar": {
              "outlinewidth": 0,
              "ticks": ""
             }
            },
            "marker": {
             "colorbar": {
              "outlinewidth": 0,
              "ticks": ""
             }
            },
            "type": "scatter3d"
           }
          ],
          "scattercarpet": [
           {
            "marker": {
             "colorbar": {
              "outlinewidth": 0,
              "ticks": ""
             }
            },
            "type": "scattercarpet"
           }
          ],
          "scattergeo": [
           {
            "marker": {
             "colorbar": {
              "outlinewidth": 0,
              "ticks": ""
             }
            },
            "type": "scattergeo"
           }
          ],
          "scattergl": [
           {
            "marker": {
             "colorbar": {
              "outlinewidth": 0,
              "ticks": ""
             }
            },
            "type": "scattergl"
           }
          ],
          "scattermap": [
           {
            "marker": {
             "colorbar": {
              "outlinewidth": 0,
              "ticks": ""
             }
            },
            "type": "scattermap"
           }
          ],
          "scattermapbox": [
           {
            "marker": {
             "colorbar": {
              "outlinewidth": 0,
              "ticks": ""
             }
            },
            "type": "scattermapbox"
           }
          ],
          "scatterpolar": [
           {
            "marker": {
             "colorbar": {
              "outlinewidth": 0,
              "ticks": ""
             }
            },
            "type": "scatterpolar"
           }
          ],
          "scatterpolargl": [
           {
            "marker": {
             "colorbar": {
              "outlinewidth": 0,
              "ticks": ""
             }
            },
            "type": "scatterpolargl"
           }
          ],
          "scatterternary": [
           {
            "marker": {
             "colorbar": {
              "outlinewidth": 0,
              "ticks": ""
             }
            },
            "type": "scatterternary"
           }
          ],
          "surface": [
           {
            "colorbar": {
             "outlinewidth": 0,
             "ticks": ""
            },
            "colorscale": [
             [
              0,
              "#0d0887"
             ],
             [
              0.1111111111111111,
              "#46039f"
             ],
             [
              0.2222222222222222,
              "#7201a8"
             ],
             [
              0.3333333333333333,
              "#9c179e"
             ],
             [
              0.4444444444444444,
              "#bd3786"
             ],
             [
              0.5555555555555556,
              "#d8576b"
             ],
             [
              0.6666666666666666,
              "#ed7953"
             ],
             [
              0.7777777777777778,
              "#fb9f3a"
             ],
             [
              0.8888888888888888,
              "#fdca26"
             ],
             [
              1,
              "#f0f921"
             ]
            ],
            "type": "surface"
           }
          ],
          "table": [
           {
            "cells": {
             "fill": {
              "color": "#EBF0F8"
             },
             "line": {
              "color": "white"
             }
            },
            "header": {
             "fill": {
              "color": "#C8D4E3"
             },
             "line": {
              "color": "white"
             }
            },
            "type": "table"
           }
          ]
         },
         "layout": {
          "annotationdefaults": {
           "arrowcolor": "#2a3f5f",
           "arrowhead": 0,
           "arrowwidth": 1
          },
          "autotypenumbers": "strict",
          "coloraxis": {
           "colorbar": {
            "outlinewidth": 0,
            "ticks": ""
           }
          },
          "colorscale": {
           "diverging": [
            [
             0,
             "#8e0152"
            ],
            [
             0.1,
             "#c51b7d"
            ],
            [
             0.2,
             "#de77ae"
            ],
            [
             0.3,
             "#f1b6da"
            ],
            [
             0.4,
             "#fde0ef"
            ],
            [
             0.5,
             "#f7f7f7"
            ],
            [
             0.6,
             "#e6f5d0"
            ],
            [
             0.7,
             "#b8e186"
            ],
            [
             0.8,
             "#7fbc41"
            ],
            [
             0.9,
             "#4d9221"
            ],
            [
             1,
             "#276419"
            ]
           ],
           "sequential": [
            [
             0,
             "#0d0887"
            ],
            [
             0.1111111111111111,
             "#46039f"
            ],
            [
             0.2222222222222222,
             "#7201a8"
            ],
            [
             0.3333333333333333,
             "#9c179e"
            ],
            [
             0.4444444444444444,
             "#bd3786"
            ],
            [
             0.5555555555555556,
             "#d8576b"
            ],
            [
             0.6666666666666666,
             "#ed7953"
            ],
            [
             0.7777777777777778,
             "#fb9f3a"
            ],
            [
             0.8888888888888888,
             "#fdca26"
            ],
            [
             1,
             "#f0f921"
            ]
           ],
           "sequentialminus": [
            [
             0,
             "#0d0887"
            ],
            [
             0.1111111111111111,
             "#46039f"
            ],
            [
             0.2222222222222222,
             "#7201a8"
            ],
            [
             0.3333333333333333,
             "#9c179e"
            ],
            [
             0.4444444444444444,
             "#bd3786"
            ],
            [
             0.5555555555555556,
             "#d8576b"
            ],
            [
             0.6666666666666666,
             "#ed7953"
            ],
            [
             0.7777777777777778,
             "#fb9f3a"
            ],
            [
             0.8888888888888888,
             "#fdca26"
            ],
            [
             1,
             "#f0f921"
            ]
           ]
          },
          "colorway": [
           "#636efa",
           "#EF553B",
           "#00cc96",
           "#ab63fa",
           "#FFA15A",
           "#19d3f3",
           "#FF6692",
           "#B6E880",
           "#FF97FF",
           "#FECB52"
          ],
          "font": {
           "color": "#2a3f5f"
          },
          "geo": {
           "bgcolor": "white",
           "lakecolor": "white",
           "landcolor": "#E5ECF6",
           "showlakes": true,
           "showland": true,
           "subunitcolor": "white"
          },
          "hoverlabel": {
           "align": "left"
          },
          "hovermode": "closest",
          "mapbox": {
           "style": "light"
          },
          "paper_bgcolor": "white",
          "plot_bgcolor": "#E5ECF6",
          "polar": {
           "angularaxis": {
            "gridcolor": "white",
            "linecolor": "white",
            "ticks": ""
           },
           "bgcolor": "#E5ECF6",
           "radialaxis": {
            "gridcolor": "white",
            "linecolor": "white",
            "ticks": ""
           }
          },
          "scene": {
           "xaxis": {
            "backgroundcolor": "#E5ECF6",
            "gridcolor": "white",
            "gridwidth": 2,
            "linecolor": "white",
            "showbackground": true,
            "ticks": "",
            "zerolinecolor": "white"
           },
           "yaxis": {
            "backgroundcolor": "#E5ECF6",
            "gridcolor": "white",
            "gridwidth": 2,
            "linecolor": "white",
            "showbackground": true,
            "ticks": "",
            "zerolinecolor": "white"
           },
           "zaxis": {
            "backgroundcolor": "#E5ECF6",
            "gridcolor": "white",
            "gridwidth": 2,
            "linecolor": "white",
            "showbackground": true,
            "ticks": "",
            "zerolinecolor": "white"
           }
          },
          "shapedefaults": {
           "line": {
            "color": "#2a3f5f"
           }
          },
          "ternary": {
           "aaxis": {
            "gridcolor": "white",
            "linecolor": "white",
            "ticks": ""
           },
           "baxis": {
            "gridcolor": "white",
            "linecolor": "white",
            "ticks": ""
           },
           "bgcolor": "#E5ECF6",
           "caxis": {
            "gridcolor": "white",
            "linecolor": "white",
            "ticks": ""
           }
          },
          "title": {
           "x": 0.05
          },
          "xaxis": {
           "automargin": true,
           "gridcolor": "white",
           "linecolor": "white",
           "ticks": "",
           "title": {
            "standoff": 15
           },
           "zerolinecolor": "white",
           "zerolinewidth": 2
          },
          "yaxis": {
           "automargin": true,
           "gridcolor": "white",
           "linecolor": "white",
           "ticks": "",
           "title": {
            "standoff": 15
           },
           "zerolinecolor": "white",
           "zerolinewidth": 2
          }
         }
        },
        "title": {
         "text": "Top 5 LGAs with Longest Avg School Travel Time"
        },
        "xaxis": {
         "anchor": "y",
         "domain": [
          0,
          1
         ],
         "tickangle": -45,
         "title": {
          "text": "LGA(Local Government Area)"
         }
        },
        "yaxis": {
         "anchor": "x",
         "domain": [
          0,
          1
         ],
         "title": {
          "text": "Average Travel Time (mins)"
         }
        }
       }
      }
     },
     "metadata": {},
     "output_type": "display_data"
    }
   ],
   "source": [
    "# Select top 5 LGAs with longest avg travel times\n",
    "top5_worst = agg.nlargest(5, 'avg_time')\n",
    "\n",
    "fig_worst = px.bar(\n",
    "    top5_worst,\n",
    "    x=lga_col,\n",
    "    y='avg_time',\n",
    "    title='Top 5 LGAs with Longest Avg School Travel Time',\n",
    "    labels={lga_col: 'LGA(Local Government Area)', 'avg_time': 'Average Travel Time (mins)'},\n",
    "    color='avg_time',\n",
    "    color_continuous_scale=colors\n",
    ")\n",
    "\n",
    "fig_worst.update_layout(xaxis_tickangle=-45, height=500)\n",
    "fig_worst.show()\n",
    "\n"
   ]
  },
  {
   "cell_type": "code",
   "execution_count": 26,
   "id": "ba9abc66",
   "metadata": {},
   "outputs": [],
   "source": [
    "# fig_worst.write_html(\"top5_worst_LGAs.html\")"
   ]
  },
  {
   "cell_type": "code",
   "execution_count": 27,
   "id": "67b14d03",
   "metadata": {},
   "outputs": [],
   "source": [
    "# Combine into one dataframe\n",
    "top5_best['Category'] = 'Best (Shortest Avg Time)'\n",
    "top5_worst['Category'] = 'Worst (Longest Avg Time)'\n",
    "\n",
    "combined = pd.concat([top5_best, top5_worst])\n"
   ]
  },
  {
   "cell_type": "code",
   "execution_count": 28,
   "id": "08274d6d",
   "metadata": {},
   "outputs": [
    {
     "data": {
      "application/vnd.plotly.v1+json": {
       "config": {
        "plotlyServerURL": "https://plot.ly"
       },
       "data": [
        {
         "alignmentgroup": "True",
         "hovertemplate": "Category=Best (Shortest Avg Time)<br>LGA(Local Government Area)=%{x}<br>Average Travel Time (mins)=%{y}<extra></extra>",
         "legendgroup": "Best (Shortest Avg Time)",
         "marker": {
          "color": "#2E7D6C",
          "pattern": {
           "shape": ""
          }
         },
         "name": "Best (Shortest Avg Time)",
         "offsetgroup": "Best (Shortest Avg Time)",
         "orientation": "v",
         "showlegend": true,
         "textposition": "auto",
         "type": "bar",
         "x": [
          "Greater Dandenong (C)",
          "Moonee Valley (C)",
          "Macedon Ranges (S)",
          "Hobsons Bay (C)",
          "Melton (S)"
         ],
         "xaxis": "x",
         "y": {
          "bdata": "mpmZmZmZG0AzMzMzMzMhQM3MzMzMzCNAAAAAAAAALEAzMzMzMzMtQA==",
          "dtype": "f8"
         },
         "yaxis": "y"
        },
        {
         "alignmentgroup": "True",
         "hovertemplate": "Category=Worst (Longest Avg Time)<br>LGA(Local Government Area)=%{x}<br>Average Travel Time (mins)=%{y}<extra></extra>",
         "legendgroup": "Worst (Longest Avg Time)",
         "marker": {
          "color": "#003366",
          "pattern": {
           "shape": ""
          }
         },
         "name": "Worst (Longest Avg Time)",
         "offsetgroup": "Worst (Longest Avg Time)",
         "orientation": "v",
         "showlegend": true,
         "textposition": "auto",
         "type": "bar",
         "x": [
          "Mitchell (S)",
          "Kingston (C)",
          "Mornington Peninsula (S)",
          "Campaspe (S)",
          "Boroondara (C)"
         ],
         "xaxis": "x",
         "y": {
          "bdata": "mpmZmZlZSEDNzMzMzMw9QM3MzMzMTDtAAAAAAACAOUAAAAAAAIA4QA==",
          "dtype": "f8"
         },
         "yaxis": "y"
        }
       ],
       "layout": {
        "barmode": "group",
        "height": 600,
        "legend": {
         "title": {
          "text": "Category"
         },
         "tracegroupgap": 0
        },
        "margin": {
         "b": 120,
         "l": 40,
         "r": 20,
         "t": 60
        },
        "template": {
         "data": {
          "bar": [
           {
            "error_x": {
             "color": "#2a3f5f"
            },
            "error_y": {
             "color": "#2a3f5f"
            },
            "marker": {
             "line": {
              "color": "#E5ECF6",
              "width": 0.5
             },
             "pattern": {
              "fillmode": "overlay",
              "size": 10,
              "solidity": 0.2
             }
            },
            "type": "bar"
           }
          ],
          "barpolar": [
           {
            "marker": {
             "line": {
              "color": "#E5ECF6",
              "width": 0.5
             },
             "pattern": {
              "fillmode": "overlay",
              "size": 10,
              "solidity": 0.2
             }
            },
            "type": "barpolar"
           }
          ],
          "carpet": [
           {
            "aaxis": {
             "endlinecolor": "#2a3f5f",
             "gridcolor": "white",
             "linecolor": "white",
             "minorgridcolor": "white",
             "startlinecolor": "#2a3f5f"
            },
            "baxis": {
             "endlinecolor": "#2a3f5f",
             "gridcolor": "white",
             "linecolor": "white",
             "minorgridcolor": "white",
             "startlinecolor": "#2a3f5f"
            },
            "type": "carpet"
           }
          ],
          "choropleth": [
           {
            "colorbar": {
             "outlinewidth": 0,
             "ticks": ""
            },
            "type": "choropleth"
           }
          ],
          "contour": [
           {
            "colorbar": {
             "outlinewidth": 0,
             "ticks": ""
            },
            "colorscale": [
             [
              0,
              "#0d0887"
             ],
             [
              0.1111111111111111,
              "#46039f"
             ],
             [
              0.2222222222222222,
              "#7201a8"
             ],
             [
              0.3333333333333333,
              "#9c179e"
             ],
             [
              0.4444444444444444,
              "#bd3786"
             ],
             [
              0.5555555555555556,
              "#d8576b"
             ],
             [
              0.6666666666666666,
              "#ed7953"
             ],
             [
              0.7777777777777778,
              "#fb9f3a"
             ],
             [
              0.8888888888888888,
              "#fdca26"
             ],
             [
              1,
              "#f0f921"
             ]
            ],
            "type": "contour"
           }
          ],
          "contourcarpet": [
           {
            "colorbar": {
             "outlinewidth": 0,
             "ticks": ""
            },
            "type": "contourcarpet"
           }
          ],
          "heatmap": [
           {
            "colorbar": {
             "outlinewidth": 0,
             "ticks": ""
            },
            "colorscale": [
             [
              0,
              "#0d0887"
             ],
             [
              0.1111111111111111,
              "#46039f"
             ],
             [
              0.2222222222222222,
              "#7201a8"
             ],
             [
              0.3333333333333333,
              "#9c179e"
             ],
             [
              0.4444444444444444,
              "#bd3786"
             ],
             [
              0.5555555555555556,
              "#d8576b"
             ],
             [
              0.6666666666666666,
              "#ed7953"
             ],
             [
              0.7777777777777778,
              "#fb9f3a"
             ],
             [
              0.8888888888888888,
              "#fdca26"
             ],
             [
              1,
              "#f0f921"
             ]
            ],
            "type": "heatmap"
           }
          ],
          "histogram": [
           {
            "marker": {
             "pattern": {
              "fillmode": "overlay",
              "size": 10,
              "solidity": 0.2
             }
            },
            "type": "histogram"
           }
          ],
          "histogram2d": [
           {
            "colorbar": {
             "outlinewidth": 0,
             "ticks": ""
            },
            "colorscale": [
             [
              0,
              "#0d0887"
             ],
             [
              0.1111111111111111,
              "#46039f"
             ],
             [
              0.2222222222222222,
              "#7201a8"
             ],
             [
              0.3333333333333333,
              "#9c179e"
             ],
             [
              0.4444444444444444,
              "#bd3786"
             ],
             [
              0.5555555555555556,
              "#d8576b"
             ],
             [
              0.6666666666666666,
              "#ed7953"
             ],
             [
              0.7777777777777778,
              "#fb9f3a"
             ],
             [
              0.8888888888888888,
              "#fdca26"
             ],
             [
              1,
              "#f0f921"
             ]
            ],
            "type": "histogram2d"
           }
          ],
          "histogram2dcontour": [
           {
            "colorbar": {
             "outlinewidth": 0,
             "ticks": ""
            },
            "colorscale": [
             [
              0,
              "#0d0887"
             ],
             [
              0.1111111111111111,
              "#46039f"
             ],
             [
              0.2222222222222222,
              "#7201a8"
             ],
             [
              0.3333333333333333,
              "#9c179e"
             ],
             [
              0.4444444444444444,
              "#bd3786"
             ],
             [
              0.5555555555555556,
              "#d8576b"
             ],
             [
              0.6666666666666666,
              "#ed7953"
             ],
             [
              0.7777777777777778,
              "#fb9f3a"
             ],
             [
              0.8888888888888888,
              "#fdca26"
             ],
             [
              1,
              "#f0f921"
             ]
            ],
            "type": "histogram2dcontour"
           }
          ],
          "mesh3d": [
           {
            "colorbar": {
             "outlinewidth": 0,
             "ticks": ""
            },
            "type": "mesh3d"
           }
          ],
          "parcoords": [
           {
            "line": {
             "colorbar": {
              "outlinewidth": 0,
              "ticks": ""
             }
            },
            "type": "parcoords"
           }
          ],
          "pie": [
           {
            "automargin": true,
            "type": "pie"
           }
          ],
          "scatter": [
           {
            "fillpattern": {
             "fillmode": "overlay",
             "size": 10,
             "solidity": 0.2
            },
            "type": "scatter"
           }
          ],
          "scatter3d": [
           {
            "line": {
             "colorbar": {
              "outlinewidth": 0,
              "ticks": ""
             }
            },
            "marker": {
             "colorbar": {
              "outlinewidth": 0,
              "ticks": ""
             }
            },
            "type": "scatter3d"
           }
          ],
          "scattercarpet": [
           {
            "marker": {
             "colorbar": {
              "outlinewidth": 0,
              "ticks": ""
             }
            },
            "type": "scattercarpet"
           }
          ],
          "scattergeo": [
           {
            "marker": {
             "colorbar": {
              "outlinewidth": 0,
              "ticks": ""
             }
            },
            "type": "scattergeo"
           }
          ],
          "scattergl": [
           {
            "marker": {
             "colorbar": {
              "outlinewidth": 0,
              "ticks": ""
             }
            },
            "type": "scattergl"
           }
          ],
          "scattermap": [
           {
            "marker": {
             "colorbar": {
              "outlinewidth": 0,
              "ticks": ""
             }
            },
            "type": "scattermap"
           }
          ],
          "scattermapbox": [
           {
            "marker": {
             "colorbar": {
              "outlinewidth": 0,
              "ticks": ""
             }
            },
            "type": "scattermapbox"
           }
          ],
          "scatterpolar": [
           {
            "marker": {
             "colorbar": {
              "outlinewidth": 0,
              "ticks": ""
             }
            },
            "type": "scatterpolar"
           }
          ],
          "scatterpolargl": [
           {
            "marker": {
             "colorbar": {
              "outlinewidth": 0,
              "ticks": ""
             }
            },
            "type": "scatterpolargl"
           }
          ],
          "scatterternary": [
           {
            "marker": {
             "colorbar": {
              "outlinewidth": 0,
              "ticks": ""
             }
            },
            "type": "scatterternary"
           }
          ],
          "surface": [
           {
            "colorbar": {
             "outlinewidth": 0,
             "ticks": ""
            },
            "colorscale": [
             [
              0,
              "#0d0887"
             ],
             [
              0.1111111111111111,
              "#46039f"
             ],
             [
              0.2222222222222222,
              "#7201a8"
             ],
             [
              0.3333333333333333,
              "#9c179e"
             ],
             [
              0.4444444444444444,
              "#bd3786"
             ],
             [
              0.5555555555555556,
              "#d8576b"
             ],
             [
              0.6666666666666666,
              "#ed7953"
             ],
             [
              0.7777777777777778,
              "#fb9f3a"
             ],
             [
              0.8888888888888888,
              "#fdca26"
             ],
             [
              1,
              "#f0f921"
             ]
            ],
            "type": "surface"
           }
          ],
          "table": [
           {
            "cells": {
             "fill": {
              "color": "#EBF0F8"
             },
             "line": {
              "color": "white"
             }
            },
            "header": {
             "fill": {
              "color": "#C8D4E3"
             },
             "line": {
              "color": "white"
             }
            },
            "type": "table"
           }
          ]
         },
         "layout": {
          "annotationdefaults": {
           "arrowcolor": "#2a3f5f",
           "arrowhead": 0,
           "arrowwidth": 1
          },
          "autotypenumbers": "strict",
          "coloraxis": {
           "colorbar": {
            "outlinewidth": 0,
            "ticks": ""
           }
          },
          "colorscale": {
           "diverging": [
            [
             0,
             "#8e0152"
            ],
            [
             0.1,
             "#c51b7d"
            ],
            [
             0.2,
             "#de77ae"
            ],
            [
             0.3,
             "#f1b6da"
            ],
            [
             0.4,
             "#fde0ef"
            ],
            [
             0.5,
             "#f7f7f7"
            ],
            [
             0.6,
             "#e6f5d0"
            ],
            [
             0.7,
             "#b8e186"
            ],
            [
             0.8,
             "#7fbc41"
            ],
            [
             0.9,
             "#4d9221"
            ],
            [
             1,
             "#276419"
            ]
           ],
           "sequential": [
            [
             0,
             "#0d0887"
            ],
            [
             0.1111111111111111,
             "#46039f"
            ],
            [
             0.2222222222222222,
             "#7201a8"
            ],
            [
             0.3333333333333333,
             "#9c179e"
            ],
            [
             0.4444444444444444,
             "#bd3786"
            ],
            [
             0.5555555555555556,
             "#d8576b"
            ],
            [
             0.6666666666666666,
             "#ed7953"
            ],
            [
             0.7777777777777778,
             "#fb9f3a"
            ],
            [
             0.8888888888888888,
             "#fdca26"
            ],
            [
             1,
             "#f0f921"
            ]
           ],
           "sequentialminus": [
            [
             0,
             "#0d0887"
            ],
            [
             0.1111111111111111,
             "#46039f"
            ],
            [
             0.2222222222222222,
             "#7201a8"
            ],
            [
             0.3333333333333333,
             "#9c179e"
            ],
            [
             0.4444444444444444,
             "#bd3786"
            ],
            [
             0.5555555555555556,
             "#d8576b"
            ],
            [
             0.6666666666666666,
             "#ed7953"
            ],
            [
             0.7777777777777778,
             "#fb9f3a"
            ],
            [
             0.8888888888888888,
             "#fdca26"
            ],
            [
             1,
             "#f0f921"
            ]
           ]
          },
          "colorway": [
           "#636efa",
           "#EF553B",
           "#00cc96",
           "#ab63fa",
           "#FFA15A",
           "#19d3f3",
           "#FF6692",
           "#B6E880",
           "#FF97FF",
           "#FECB52"
          ],
          "font": {
           "color": "#2a3f5f"
          },
          "geo": {
           "bgcolor": "white",
           "lakecolor": "white",
           "landcolor": "#E5ECF6",
           "showlakes": true,
           "showland": true,
           "subunitcolor": "white"
          },
          "hoverlabel": {
           "align": "left"
          },
          "hovermode": "closest",
          "mapbox": {
           "style": "light"
          },
          "paper_bgcolor": "white",
          "plot_bgcolor": "#E5ECF6",
          "polar": {
           "angularaxis": {
            "gridcolor": "white",
            "linecolor": "white",
            "ticks": ""
           },
           "bgcolor": "#E5ECF6",
           "radialaxis": {
            "gridcolor": "white",
            "linecolor": "white",
            "ticks": ""
           }
          },
          "scene": {
           "xaxis": {
            "backgroundcolor": "#E5ECF6",
            "gridcolor": "white",
            "gridwidth": 2,
            "linecolor": "white",
            "showbackground": true,
            "ticks": "",
            "zerolinecolor": "white"
           },
           "yaxis": {
            "backgroundcolor": "#E5ECF6",
            "gridcolor": "white",
            "gridwidth": 2,
            "linecolor": "white",
            "showbackground": true,
            "ticks": "",
            "zerolinecolor": "white"
           },
           "zaxis": {
            "backgroundcolor": "#E5ECF6",
            "gridcolor": "white",
            "gridwidth": 2,
            "linecolor": "white",
            "showbackground": true,
            "ticks": "",
            "zerolinecolor": "white"
           }
          },
          "shapedefaults": {
           "line": {
            "color": "#2a3f5f"
           }
          },
          "ternary": {
           "aaxis": {
            "gridcolor": "white",
            "linecolor": "white",
            "ticks": ""
           },
           "baxis": {
            "gridcolor": "white",
            "linecolor": "white",
            "ticks": ""
           },
           "bgcolor": "#E5ECF6",
           "caxis": {
            "gridcolor": "white",
            "linecolor": "white",
            "ticks": ""
           }
          },
          "title": {
           "x": 0.05
          },
          "xaxis": {
           "automargin": true,
           "gridcolor": "white",
           "linecolor": "white",
           "ticks": "",
           "title": {
            "standoff": 15
           },
           "zerolinecolor": "white",
           "zerolinewidth": 2
          },
          "yaxis": {
           "automargin": true,
           "gridcolor": "white",
           "linecolor": "white",
           "ticks": "",
           "title": {
            "standoff": 15
           },
           "zerolinecolor": "white",
           "zerolinewidth": 2
          }
         }
        },
        "title": {
         "text": "Top 5 Best vs Worst LGAs for School Travel Time"
        },
        "xaxis": {
         "anchor": "y",
         "domain": [
          0,
          1
         ],
         "tickangle": -45,
         "title": {
          "text": "LGA(Local Government Area)"
         }
        },
        "yaxis": {
         "anchor": "x",
         "domain": [
          0,
          1
         ],
         "title": {
          "text": "Average Travel Time (mins)"
         }
        }
       }
      }
     },
     "metadata": {},
     "output_type": "display_data"
    }
   ],
   "source": [
    "import plotly.express as px\n",
    "\n",
    "# compare top 5 best vs worst Travel time to school by LGAs\n",
    "fig_combined = px.bar(\n",
    "    combined,\n",
    "    x=lga_col,\n",
    "    y='avg_time',\n",
    "    color='Category',\n",
    "    barmode='group',\n",
    "    title='Top 5 Best vs Worst LGAs for School Travel Time',\n",
    "    labels={lga_col: 'LGA(Local Government Area)', 'avg_time': 'Average Travel Time (mins)'},\n",
    "    color_discrete_map={\n",
    "        'Best (Shortest Avg Time)': '#2E7D6C',  \n",
    "        'Worst (Longest Avg Time)': '#003366'   \n",
    "    }\n",
    ")\n",
    "\n",
    "fig_combined.update_layout(\n",
    "    xaxis_tickangle=-45,\n",
    "    height=600,\n",
    "    margin=dict(l=40, r=20, t=60, b=120)\n",
    ")\n",
    "\n",
    "fig_combined.show()\n"
   ]
  },
  {
   "cell_type": "code",
   "execution_count": 29,
   "id": "08eb57dd",
   "metadata": {},
   "outputs": [],
   "source": [
    "# fig_combined.write_html(\"top5_best_vs_worst_LGAs.html\")"
   ]
  },
  {
   "cell_type": "code",
   "execution_count": 30,
   "id": "11e61e07",
   "metadata": {},
   "outputs": [
    {
     "data": {
      "text/html": [
       "<div>\n",
       "<style scoped>\n",
       "    .dataframe tbody tr th:only-of-type {\n",
       "        vertical-align: middle;\n",
       "    }\n",
       "\n",
       "    .dataframe tbody tr th {\n",
       "        vertical-align: top;\n",
       "    }\n",
       "\n",
       "    .dataframe thead th {\n",
       "        text-align: right;\n",
       "    }\n",
       "</style>\n",
       "<table border=\"1\" class=\"dataframe\">\n",
       "  <thead>\n",
       "    <tr style=\"text-align: right;\">\n",
       "      <th></th>\n",
       "      <th>Education_Sector</th>\n",
       "      <th>Entity_Type</th>\n",
       "      <th>School_No</th>\n",
       "      <th>School_Name</th>\n",
       "      <th>School_Type</th>\n",
       "      <th>School_Status</th>\n",
       "      <th>Address_Line_1</th>\n",
       "      <th>Address_Line_2</th>\n",
       "      <th>Address_Town</th>\n",
       "      <th>Address_State</th>\n",
       "      <th>...</th>\n",
       "      <th>Postal_State</th>\n",
       "      <th>Postal_Postcode</th>\n",
       "      <th>Full_Phone_No</th>\n",
       "      <th>Region</th>\n",
       "      <th>Area</th>\n",
       "      <th>LGA_ID</th>\n",
       "      <th>LGA_Name</th>\n",
       "      <th>LGA_TYPE</th>\n",
       "      <th>X</th>\n",
       "      <th>Y</th>\n",
       "    </tr>\n",
       "  </thead>\n",
       "  <tbody>\n",
       "    <tr>\n",
       "      <th>0</th>\n",
       "      <td>Catholic</td>\n",
       "      <td>2</td>\n",
       "      <td>20</td>\n",
       "      <td>Parade College</td>\n",
       "      <td>Secondary</td>\n",
       "      <td>O</td>\n",
       "      <td>1436 Plenty Road</td>\n",
       "      <td>NaN</td>\n",
       "      <td>BUNDOORA</td>\n",
       "      <td>VIC</td>\n",
       "      <td>...</td>\n",
       "      <td>VIC</td>\n",
       "      <td>3083</td>\n",
       "      <td>03 9468 3300</td>\n",
       "      <td>NORTH-WESTERN VICTORIA</td>\n",
       "      <td>North Eastern Melbourne</td>\n",
       "      <td>66</td>\n",
       "      <td>Banyule (C)</td>\n",
       "      <td>Metro</td>\n",
       "      <td>145.066978</td>\n",
       "      <td>-37.690178</td>\n",
       "    </tr>\n",
       "    <tr>\n",
       "      <th>1</th>\n",
       "      <td>Catholic</td>\n",
       "      <td>2</td>\n",
       "      <td>25</td>\n",
       "      <td>Simonds Catholic College</td>\n",
       "      <td>Secondary</td>\n",
       "      <td>O</td>\n",
       "      <td>273 Victoria Street</td>\n",
       "      <td>NaN</td>\n",
       "      <td>WEST MELBOURNE</td>\n",
       "      <td>VIC</td>\n",
       "      <td>...</td>\n",
       "      <td>VIC</td>\n",
       "      <td>3003</td>\n",
       "      <td>03 9321 9200</td>\n",
       "      <td>SOUTH-WESTERN VICTORIA</td>\n",
       "      <td>Western Melbourne</td>\n",
       "      <td>460</td>\n",
       "      <td>Melbourne (C)</td>\n",
       "      <td>Metro</td>\n",
       "      <td>144.952883</td>\n",
       "      <td>-37.805971</td>\n",
       "    </tr>\n",
       "    <tr>\n",
       "      <th>2</th>\n",
       "      <td>Catholic</td>\n",
       "      <td>2</td>\n",
       "      <td>26</td>\n",
       "      <td>St Mary’s College Melbourne</td>\n",
       "      <td>Secondary</td>\n",
       "      <td>O</td>\n",
       "      <td>11 Westbury Street</td>\n",
       "      <td>NaN</td>\n",
       "      <td>ST KILDA EAST</td>\n",
       "      <td>VIC</td>\n",
       "      <td>...</td>\n",
       "      <td>VIC</td>\n",
       "      <td>3182</td>\n",
       "      <td>03 9529 6611</td>\n",
       "      <td>SOUTH-EASTERN VICTORIA</td>\n",
       "      <td>Bayside Peninsula</td>\n",
       "      <td>590</td>\n",
       "      <td>Port Phillip (C)</td>\n",
       "      <td>Metro</td>\n",
       "      <td>144.997001</td>\n",
       "      <td>-37.859365</td>\n",
       "    </tr>\n",
       "    <tr>\n",
       "      <th>3</th>\n",
       "      <td>Catholic</td>\n",
       "      <td>2</td>\n",
       "      <td>28</td>\n",
       "      <td>St Patrick's College Ballarat</td>\n",
       "      <td>Secondary</td>\n",
       "      <td>O</td>\n",
       "      <td>1431 Sturt Street</td>\n",
       "      <td>NaN</td>\n",
       "      <td>BALLARAT</td>\n",
       "      <td>VIC</td>\n",
       "      <td>...</td>\n",
       "      <td>VIC</td>\n",
       "      <td>3350</td>\n",
       "      <td>03 5331 1688</td>\n",
       "      <td>SOUTH-WESTERN VICTORIA</td>\n",
       "      <td>Central Highlands</td>\n",
       "      <td>57</td>\n",
       "      <td>Ballarat (C)</td>\n",
       "      <td>Non Metro</td>\n",
       "      <td>143.831558</td>\n",
       "      <td>-37.559711</td>\n",
       "    </tr>\n",
       "    <tr>\n",
       "      <th>4</th>\n",
       "      <td>Catholic</td>\n",
       "      <td>2</td>\n",
       "      <td>29</td>\n",
       "      <td>St Patrick's School</td>\n",
       "      <td>Primary</td>\n",
       "      <td>O</td>\n",
       "      <td>119 Drummond Street South</td>\n",
       "      <td>NaN</td>\n",
       "      <td>BALLARAT</td>\n",
       "      <td>VIC</td>\n",
       "      <td>...</td>\n",
       "      <td>VIC</td>\n",
       "      <td>3350</td>\n",
       "      <td>03 5332 7680</td>\n",
       "      <td>SOUTH-WESTERN VICTORIA</td>\n",
       "      <td>Central Highlands</td>\n",
       "      <td>57</td>\n",
       "      <td>Ballarat (C)</td>\n",
       "      <td>Non Metro</td>\n",
       "      <td>143.847147</td>\n",
       "      <td>-37.564397</td>\n",
       "    </tr>\n",
       "  </tbody>\n",
       "</table>\n",
       "<p>5 rows × 24 columns</p>\n",
       "</div>"
      ],
      "text/plain": [
       "  Education_Sector  Entity_Type  School_No                    School_Name  \\\n",
       "0         Catholic            2         20                 Parade College   \n",
       "1         Catholic            2         25       Simonds Catholic College   \n",
       "2         Catholic            2         26    St Mary’s College Melbourne   \n",
       "3         Catholic            2         28  St Patrick's College Ballarat   \n",
       "4         Catholic            2         29            St Patrick's School   \n",
       "\n",
       "  School_Type School_Status             Address_Line_1 Address_Line_2  \\\n",
       "0   Secondary             O           1436 Plenty Road            NaN   \n",
       "1   Secondary             O        273 Victoria Street            NaN   \n",
       "2   Secondary             O         11 Westbury Street            NaN   \n",
       "3   Secondary             O          1431 Sturt Street            NaN   \n",
       "4     Primary             O  119 Drummond Street South            NaN   \n",
       "\n",
       "     Address_Town Address_State  ...  Postal_State Postal_Postcode  \\\n",
       "0        BUNDOORA           VIC  ...           VIC            3083   \n",
       "1  WEST MELBOURNE           VIC  ...           VIC            3003   \n",
       "2   ST KILDA EAST           VIC  ...           VIC            3182   \n",
       "3        BALLARAT           VIC  ...           VIC            3350   \n",
       "4        BALLARAT           VIC  ...           VIC            3350   \n",
       "\n",
       "  Full_Phone_No                  Region                     Area  LGA_ID  \\\n",
       "0  03 9468 3300  NORTH-WESTERN VICTORIA  North Eastern Melbourne      66   \n",
       "1  03 9321 9200  SOUTH-WESTERN VICTORIA        Western Melbourne     460   \n",
       "2  03 9529 6611  SOUTH-EASTERN VICTORIA        Bayside Peninsula     590   \n",
       "3  03 5331 1688  SOUTH-WESTERN VICTORIA        Central Highlands      57   \n",
       "4  03 5332 7680  SOUTH-WESTERN VICTORIA        Central Highlands      57   \n",
       "\n",
       "           LGA_Name   LGA_TYPE           X          Y  \n",
       "0       Banyule (C)      Metro  145.066978 -37.690178  \n",
       "1     Melbourne (C)      Metro  144.952883 -37.805971  \n",
       "2  Port Phillip (C)      Metro  144.997001 -37.859365  \n",
       "3      Ballarat (C)  Non Metro  143.831558 -37.559711  \n",
       "4      Ballarat (C)  Non Metro  143.847147 -37.564397  \n",
       "\n",
       "[5 rows x 24 columns]"
      ]
     },
     "execution_count": 30,
     "metadata": {},
     "output_type": "execute_result"
    }
   ],
   "source": [
    "schools_df.head()"
   ]
  },
  {
   "cell_type": "code",
   "execution_count": 31,
   "id": "bcf42905",
   "metadata": {},
   "outputs": [
    {
     "name": "stderr",
     "output_type": "stream",
     "text": [
      "/tmp/ipykernel_89024/2730339269.py:3: DeprecationWarning:\n",
      "\n",
      "*scatter_mapbox* is deprecated! Use *scatter_map* instead. Learn more at: https://plotly.com/python/mapbox-to-maplibre/\n",
      "\n"
     ]
    },
    {
     "data": {
      "application/vnd.plotly.v1+json": {
       "config": {
        "plotlyServerURL": "https://plot.ly"
       },
       "data": [
        {
         "customdata": [
          [
           "Secondary",
           "BUNDOORA"
          ],
          [
           "Secondary",
           "WEST MELBOURNE"
          ],
          [
           "Secondary",
           "ST KILDA EAST"
          ],
          [
           "Secondary",
           "BALLARAT"
          ],
          [
           "Secondary",
           "WARRNAMBOOL"
          ],
          [
           "Secondary",
           "BALLARAT"
          ],
          [
           "Secondary",
           "KILMORE"
          ],
          [
           "Secondary",
           "BENDIGO"
          ],
          [
           "Secondary",
           "NEWTOWN"
          ],
          [
           "Secondary",
           "MILDURA"
          ],
          [
           "Secondary",
           "BRIGHTON"
          ],
          [
           "Secondary",
           "MOUNT CLEAR"
          ],
          [
           "Secondary",
           "KYNETON"
          ],
          [
           "Secondary",
           "BENALLA"
          ],
          [
           "Secondary",
           "ARARAT"
          ],
          [
           "Secondary",
           "FITZROY"
          ],
          [
           "Secondary",
           "LILYDALE"
          ],
          [
           "Secondary",
           "COLAC"
          ],
          [
           "Secondary",
           "MENTONE"
          ],
          [
           "Secondary",
           "MORNINGTON"
          ],
          [
           "Secondary",
           "SHEPPARTON"
          ],
          [
           "Secondary",
           "YARRAWONGA"
          ],
          [
           "Secondary",
           "DRYSDALE"
          ],
          [
           "Secondary",
           "ELTHAM"
          ],
          [
           "Secondary",
           "ECHUCA"
          ],
          [
           "Secondary",
           "NORTH MELBOURNE"
          ],
          [
           "Secondary",
           "SALE"
          ],
          [
           "Secondary",
           "CAMPERDOWN"
          ],
          [
           "Secondary",
           "ESSENDON"
          ],
          [
           "Secondary",
           "HEIDELBERG"
          ],
          [
           "Secondary",
           "HORSHAM"
          ],
          [
           "Secondary",
           "BOX HILL"
          ],
          [
           "Secondary",
           "SUNBURY"
          ],
          [
           "Secondary",
           "NORTHCOTE"
          ],
          [
           "Secondary",
           "NEWTOWN"
          ],
          [
           "Secondary",
           "MENTONE"
          ],
          [
           "Secondary",
           "CAMBERWELL"
          ],
          [
           "Secondary",
           "ESSENDON"
          ],
          [
           "Secondary",
           "DONVALE"
          ],
          [
           "Secondary",
           "BENTLEIGH"
          ],
          [
           "Secondary",
           "CHADSTONE"
          ],
          [
           "Secondary",
           "BULLEEN"
          ],
          [
           "Secondary",
           "WARRAGUL"
          ],
          [
           "Secondary",
           "HAMILTON"
          ],
          [
           "Secondary",
           "SPRINGVALE"
          ],
          [
           "Secondary",
           "HERNE HILL"
          ],
          [
           "Secondary",
           "HUGHESDALE"
          ],
          [
           "Secondary",
           "DANDENONG"
          ],
          [
           "Secondary",
           "BAIRNSDALE"
          ],
          [
           "Secondary",
           "NATHALIA"
          ],
          [
           "Secondary",
           "RINGWOOD"
          ],
          [
           "Secondary",
           "ABERFELDIE"
          ],
          [
           "Secondary",
           "SUNSHINE WEST"
          ],
          [
           "Secondary",
           "ALTONA"
          ],
          [
           "Secondary",
           "BELGRAVE"
          ],
          [
           "Secondary",
           "FERNTREE GULLY"
          ],
          [
           "Secondary",
           "MOUNT WAVERLEY"
          ],
          [
           "Secondary",
           "ALTONA NORTH"
          ],
          [
           "Secondary",
           "EPPING"
          ],
          [
           "Secondary",
           "COBURG"
          ],
          [
           "Secondary",
           "FRANKSTON"
          ],
          [
           "Secondary",
           "MULGRAVE"
          ],
          [
           "Secondary",
           "WERRIBEE"
          ],
          [
           "Secondary",
           "MYRTLEFORD"
          ],
          [
           "Secondary",
           "WANGARATTA"
          ],
          [
           "Secondary",
           "ST ALBANS"
          ],
          [
           "Secondary",
           "BEACONSFIELD"
          ],
          [
           "Secondary",
           "WODONGA"
          ],
          [
           "Secondary",
           "BRAYBROOK"
          ],
          [
           "Secondary",
           "WATSONIA"
          ],
          [
           "Secondary",
           "MELTON"
          ],
          [
           "Secondary",
           "SYDENHAM"
          ],
          [
           "Secondary",
           "KEILOR NORTH"
          ],
          [
           "Secondary",
           "NOBLE PARK NORTH"
          ],
          [
           "Secondary",
           "LEONGATHA"
          ],
          [
           "Secondary",
           "SWAN HILL"
          ],
          [
           "Secondary",
           "CRANBOURNE"
          ],
          [
           "Secondary",
           "BROADMEADOWS"
          ],
          [
           "Secondary",
           "TARNEIT"
          ],
          [
           "Secondary",
           "TRARALGON"
          ],
          [
           "Secondary",
           "CAROLINE SPRINGS"
          ],
          [
           "Secondary",
           "GREENVALE LAKES"
          ],
          [
           "Secondary",
           "CHARLEMONT"
          ],
          [
           "Secondary",
           "RICHMOND"
          ],
          [
           "Secondary",
           "Frankston South"
          ],
          [
           "Secondary",
           "Mont Albert North"
          ],
          [
           "Secondary",
           "Wollert"
          ],
          [
           "Secondary",
           "Craigieburn"
          ],
          [
           "Secondary",
           "Clyde"
          ],
          [
           "Secondary",
           "Cobden"
          ],
          [
           "Secondary",
           "Cranbourne"
          ],
          [
           "Secondary",
           "Daylesford"
          ],
          [
           "Secondary",
           "Dromana"
          ],
          [
           "Secondary",
           "Grovedale"
          ],
          [
           "Secondary",
           "Irymple"
          ],
          [
           "Secondary",
           "Kangaroo Flat"
          ],
          [
           "Secondary",
           "Lalor"
          ],
          [
           "Secondary",
           "Lilydale"
          ],
          [
           "Secondary",
           "Melton South"
          ],
          [
           "Secondary",
           "Mildura"
          ],
          [
           "Secondary",
           "Bentleigh East"
          ],
          [
           "Secondary",
           "Mount Clear"
          ],
          [
           "Secondary",
           "Niddrie"
          ],
          [
           "Secondary",
           "Preston"
          ],
          [
           "Secondary",
           "Hawthorn"
          ],
          [
           "Secondary",
           "Southbank"
          ],
          [
           "Secondary",
           "Warrnambool"
          ],
          [
           "Secondary",
           "Werribee"
          ],
          [
           "Secondary",
           "Bendigo"
          ],
          [
           "Secondary",
           "Whittlesea"
          ],
          [
           "Secondary",
           "Aintree"
          ],
          [
           "Secondary",
           "Alexandra"
          ],
          [
           "Secondary",
           "Hawthorn East"
          ],
          [
           "Secondary",
           "LAKE GARDENS"
          ],
          [
           "Secondary",
           "Balwyn North"
          ],
          [
           "Secondary",
           "Bayswater"
          ],
          [
           "Secondary",
           "Beaufort"
          ],
          [
           "Secondary",
           "Beaumaris"
          ],
          [
           "Secondary",
           "Beechworth"
          ],
          [
           "Secondary",
           "Belmont"
          ],
          [
           "Secondary",
           "Bendigo"
          ],
          [
           "Secondary",
           "Berwick"
          ],
          [
           "Secondary",
           "Blackburn"
          ],
          [
           "Secondary",
           "Box Hill"
          ],
          [
           "Secondary",
           "Braybrook"
          ],
          [
           "Secondary",
           "Glen Waverley"
          ],
          [
           "Secondary",
           "Brighton East"
          ],
          [
           "Secondary",
           "Broadford"
          ],
          [
           "Secondary",
           "Essendon"
          ],
          [
           "Secondary",
           "Canterbury"
          ],
          [
           "Secondary",
           "Canterbury"
          ],
          [
           "Secondary",
           "Casterton"
          ],
          [
           "Secondary",
           "Cheltenham"
          ],
          [
           "Secondary",
           "Clyde North"
          ],
          [
           "Secondary",
           "Cobram"
          ],
          [
           "Secondary",
           "Cohuna"
          ],
          [
           "Secondary",
           "Cranbourne"
          ],
          [
           "Secondary",
           "Cranbourne West"
          ],
          [
           "Secondary",
           "Croydon"
          ],
          [
           "Secondary",
           "Flemington"
          ],
          [
           "Secondary",
           "Dimboola"
          ],
          [
           "Secondary",
           "Doncaster East"
          ],
          [
           "Secondary",
           "Donald"
          ],
          [
           "Secondary",
           "Doncaster"
          ],
          [
           "Secondary",
           "Drouin"
          ],
          [
           "Secondary",
           "Eaglehawk"
          ],
          [
           "Secondary",
           "Eltham"
          ],
          [
           "Secondary",
           "Elwood"
          ],
          [
           "Secondary",
           "Epping"
          ],
          [
           "Secondary",
           "Euroa"
          ],
          [
           "Secondary",
           "Knoxfield"
          ],
          [
           "Secondary",
           "Bendigo"
          ],
          [
           "Secondary",
           "Port Melbourne"
          ],
          [
           "Secondary",
           "Footscray"
          ],
          [
           "Secondary",
           "Foster"
          ],
          [
           "Secondary",
           "Frankston"
          ],
          [
           "Secondary",
           "East Geelong"
          ],
          [
           "Secondary",
           "North Geelong"
          ],
          [
           "Secondary",
           "Gisborne"
          ],
          [
           "Secondary",
           "Gladstone Park"
          ],
          [
           "Secondary",
           "Bundoora"
          ],
          [
           "Secondary",
           "Shepparton"
          ],
          [
           "Secondary",
           "Hastings"
          ],
          [
           "Secondary",
           "Healesville"
          ],
          [
           "Secondary",
           "Heywood"
          ],
          [
           "Secondary",
           "Glen Waverley"
          ],
          [
           "Secondary",
           "Kerang"
          ],
          [
           "Secondary",
           "Kensington"
          ],
          [
           "Secondary",
           "Kew East"
          ],
          [
           "Secondary",
           "Mont Albert North"
          ],
          [
           "Secondary",
           "Koo Wee Rup"
          ],
          [
           "Secondary",
           "Korumburra"
          ],
          [
           "Secondary",
           "Kyneton"
          ],
          [
           "Secondary",
           "Lalor"
          ],
          [
           "Secondary",
           "Epping"
          ],
          [
           "Secondary",
           "Lilydale"
          ],
          [
           "Secondary",
           "Werribee"
          ],
          [
           "Secondary",
           "Dandenong North"
          ],
          [
           "Secondary",
           "Richmond"
          ],
          [
           "Secondary",
           "Maffra"
          ],
          [
           "Secondary",
           "Mansfield"
          ],
          [
           "Secondary",
           "Maribyrnong"
          ],
          [
           "Secondary",
           "Geelong"
          ],
          [
           "Secondary",
           "South Yarra"
          ],
          [
           "Secondary",
           "Melton"
          ],
          [
           "Secondary",
           "Mentone"
          ],
          [
           "Secondary",
           "Mickleham"
          ],
          [
           "Secondary",
           "Mildura"
          ],
          [
           "Secondary",
           "Mirboo North"
          ],
          [
           "Secondary",
           "Monbulk"
          ],
          [
           "Secondary",
           "Montmorency"
          ],
          [
           "Secondary",
           "Mooroolbark"
          ],
          [
           "Secondary",
           "Mordialloc"
          ],
          [
           "Secondary",
           "Mount Beauty"
          ],
          [
           "Secondary",
           "Mount Eliza"
          ],
          [
           "Secondary",
           "Mount Waverley"
          ],
          [
           "Secondary",
           "Mckinnon"
          ],
          [
           "Secondary",
           "Melbourne"
          ],
          [
           "Secondary",
           "Nathalia"
          ],
          [
           "Secondary",
           "Neerim South"
          ],
          [
           "Secondary",
           "Newcomb"
          ],
          [
           "Secondary",
           "Northcote"
          ],
          [
           "Secondary",
           "Ringwood"
          ],
          [
           "Secondary",
           "Numurkah"
          ],
          [
           "Secondary",
           "Armstrong Creek"
          ],
          [
           "Secondary",
           "Pakenham"
          ],
          [
           "Secondary",
           "Pakenham"
          ],
          [
           "Secondary",
           "Mordialloc"
          ],
          [
           "Secondary",
           "Pascoe Vale"
          ],
          [
           "Secondary",
           "Windsor"
          ],
          [
           "Secondary",
           "Preston"
          ],
          [
           "Secondary",
           "Princes Hill"
          ],
          [
           "Secondary",
           "Point Cook"
          ],
          [
           "Secondary",
           "Drysdale"
          ],
          [
           "Secondary",
           "Red Cliffs"
          ],
          [
           "Secondary",
           "Ringwood"
          ],
          [
           "Secondary",
           "Richmond"
          ],
          [
           "Secondary",
           "Rochester"
          ],
          [
           "Secondary",
           "Rosebud"
          ],
          [
           "Secondary",
           "Tarneit"
          ],
          [
           "Secondary",
           "Rutherglen"
          ],
          [
           "Secondary",
           "Scoresby"
          ],
          [
           "Secondary",
           "St Albans"
          ],
          [
           "Secondary",
           "St Arnaud"
          ],
          [
           "Secondary",
           "Caulfield North"
          ],
          [
           "Secondary",
           "Strathmore"
          ],
          [
           "Secondary",
           "Sunbury"
          ],
          [
           "Secondary",
           "Brunswick"
          ],
          [
           "Secondary",
           "Tallangatta"
          ],
          [
           "Secondary",
           "Thomastown"
          ],
          [
           "Secondary",
           "Trafalgar"
          ],
          [
           "Secondary",
           "Truganina"
          ],
          [
           "Secondary",
           "Parkville"
          ],
          [
           "Secondary",
           "Roxburgh Park"
          ],
          [
           "Secondary",
           "Yarra Junction"
          ],
          [
           "Secondary",
           "Upwey"
          ],
          [
           "Secondary",
           "Vermont"
          ],
          [
           "Secondary",
           "Berwick"
          ],
          [
           "Secondary",
           "Carrum Downs"
          ],
          [
           "Secondary",
           "Wangaratta"
          ],
          [
           "Secondary",
           "Greenvale"
          ],
          [
           "Secondary",
           "Wantirna"
          ],
          [
           "Secondary",
           "Warracknabeal"
          ],
          [
           "Secondary",
           "Warrandyte"
          ],
          [
           "Secondary",
           "Mulgrave"
          ],
          [
           "Secondary",
           "Werribee"
          ],
          [
           "Secondary",
           "Bairnsdale"
          ],
          [
           "Secondary",
           "Clayton South"
          ],
          [
           "Secondary",
           "Wheelers Hill"
          ],
          [
           "Secondary",
           "Williamstown"
          ],
          [
           "Secondary",
           "Wodonga"
          ],
          [
           "Secondary",
           "Yarram"
          ],
          [
           "Secondary",
           "Ballarat East"
          ],
          [
           "Secondary",
           "Yea"
          ],
          [
           "Secondary",
           "Caulfield East"
          ],
          [
           "Secondary",
           "Craigieburn"
          ],
          [
           "Secondary",
           "Emerald"
          ],
          [
           "Secondary",
           "Reservoir"
          ],
          [
           "Secondary",
           "Hampton Park"
          ],
          [
           "Secondary",
           "Hoppers Crossing"
          ],
          [
           "Secondary",
           "Keilor Downs"
          ],
          [
           "Secondary",
           "Morwell"
          ],
          [
           "Secondary",
           "Kurunjang"
          ],
          [
           "Secondary",
           "Lakes Entrance"
          ],
          [
           "Secondary",
           "Langwarrin"
          ],
          [
           "Secondary",
           "Sunbury"
          ],
          [
           "Secondary",
           "Burwood East"
          ],
          [
           "Secondary",
           "Seaford"
          ],
          [
           "Secondary",
           "Eltham North"
          ],
          [
           "Secondary",
           "Stawell"
          ],
          [
           "Secondary",
           "Rowville"
          ],
          [
           "Secondary",
           "Wonthaggi"
          ],
          [
           "Secondary",
           "Sandringham"
          ],
          [
           "Secondary",
           "Fitzroy North"
          ],
          [
           "Secondary",
           "Ashwood"
          ],
          [
           "Secondary",
           "Mitcham"
          ],
          [
           "Secondary",
           "Leongatha"
          ],
          [
           "Secondary",
           "Diamond Creek"
          ],
          [
           "Secondary",
           "Greensborough"
          ],
          [
           "Secondary",
           "Ararat"
          ],
          [
           "Secondary",
           "Mill Park"
          ],
          [
           "Secondary",
           "Bacchus Marsh"
          ],
          [
           "Secondary",
           "Fraser Rise"
          ],
          [
           "Secondary",
           "Taylors Lakes"
          ],
          [
           "Secondary",
           "Sunshine West"
          ],
          [
           "Secondary",
           "Wallan"
          ],
          [
           "Secondary",
           "Thornbury"
          ],
          [
           "Secondary",
           "Portland"
          ],
          [
           "Secondary",
           "Delahey"
          ],
          [
           "Secondary",
           "Oakleigh South"
          ],
          [
           "Secondary",
           "Swan Hill"
          ],
          [
           "Secondary",
           "Traralgon"
          ],
          [
           "Secondary",
           "Mornington"
          ],
          [
           "Secondary",
           "Keilor East"
          ],
          [
           "Secondary",
           "Brunswick"
          ],
          [
           "Secondary",
           "Glen Waverley"
          ],
          [
           "Secondary",
           "Frankston North"
          ],
          [
           "Secondary",
           "Warrnambool"
          ],
          [
           "Secondary",
           "Viewbank"
          ],
          [
           "Secondary",
           "Noble Park"
          ],
          [
           "Secondary",
           "Hamilton"
          ],
          [
           "Secondary",
           "Mooroolbark"
          ],
          [
           "Secondary",
           "Heathmont"
          ],
          [
           "Secondary",
           "Horsham"
          ],
          [
           "Secondary",
           "Richmond"
          ],
          [
           "Secondary",
           "Hamlyn Heights"
          ],
          [
           "Secondary",
           "Newborough"
          ],
          [
           "Secondary",
           "Templestowe Lower"
          ],
          [
           "Secondary",
           "Castlemaine"
          ],
          [
           "Secondary",
           "Warragul"
          ],
          [
           "Secondary",
           "Wendouree"
          ],
          [
           "Secondary",
           "Sale"
          ],
          [
           "Secondary",
           "Frankston"
          ],
          [
           "Secondary",
           "Lara"
          ],
          [
           "Secondary",
           "Point Cook"
          ],
          [
           "Secondary",
           "Coburg"
          ],
          [
           "Secondary",
           "Tarneit"
          ],
          [
           "Secondary",
           "Echuca"
          ],
          [
           "Secondary",
           "Clayton"
          ],
          [
           "Secondary",
           "Dandenong"
          ],
          [
           "Secondary",
           "Broadmeadows"
          ],
          [
           "Secondary",
           "Colac"
          ],
          [
           "Secondary",
           "Berwick"
          ],
          [
           "Secondary",
           "Werribee"
          ],
          [
           "Secondary",
           "Springvale South"
          ],
          [
           "Secondary",
           "Hallam"
          ],
          [
           "Secondary",
           "Endeavour Hills"
          ],
          [
           "Secondary",
           "Narre Warren"
          ],
          [
           "Secondary",
           "Cranbourne North"
          ],
          [
           "Secondary",
           "Somerville"
          ],
          [
           "Secondary",
           "Albert Park"
          ],
          [
           "Secondary",
           "Cairnlea"
          ],
          [
           "Secondary",
           "Glenroy"
          ],
          [
           "Secondary",
           "Fawkner"
          ],
          [
           "Secondary",
           "Reservoir"
          ],
          [
           "Secondary",
           "Wollert"
          ],
          [
           "Secondary",
           "Cranbourne East"
          ],
          [
           "Secondary",
           "Torquay"
          ],
          [
           "Secondary",
           "Officer"
          ],
          [
           "Secondary",
           "Caroline Springs"
          ],
          [
           "Secondary",
           "Croydon"
          ],
          [
           "Secondary",
           "South Yarra"
          ],
          [
           "Secondary",
           "MARYBOROUGH"
          ],
          [
           "Secondary",
           "PORTLAND"
          ],
          [
           "Secondary",
           "CROYDON HILLS"
          ],
          [
           "Secondary",
           "NUNAWADING"
          ],
          [
           "Secondary",
           "HAWTHORN EAST"
          ],
          [
           "Secondary",
           "MELBOURNE"
          ],
          [
           "Secondary",
           "MELBOURNE"
          ],
          [
           "Secondary",
           "SHEPPARTON"
          ],
          [
           "Secondary",
           "CAMBERWELL"
          ],
          [
           "Secondary",
           "RYANSTON"
          ],
          [
           "Secondary",
           "MELTON"
          ],
          [
           "Secondary",
           "SOUTH MELBOURNE"
          ],
          [
           "Secondary",
           "SOUTH MORANG"
          ],
          [
           "Secondary",
           "BORONIA"
          ],
          [
           "Secondary",
           "COBURG"
          ],
          [
           "Secondary",
           "EPPING"
          ],
          [
           "Secondary",
           "WEST FOOTSCRAY"
          ],
          [
           "Secondary",
           "FOSTER"
          ]
         ],
         "hovertemplate": "<b>%{hovertext}</b><br><br>School_Type=%{customdata[0]}<br>Y=%{lat}<br>X=%{lon}<br>Address_Town=%{customdata[1]}<extra></extra>",
         "hovertext": [
          "Parade College",
          "Simonds Catholic College",
          "St Mary’s College Melbourne",
          "St Patrick's College Ballarat",
          "Emmanuel College Warrnambool",
          "Loreto College",
          "Assumption College",
          "Catherine McAuley College",
          "Sacred Heart College",
          "St Joseph's College Mildura",
          "Star of the Sea College",
          "Damascus College",
          "Sacred Heart College",
          "FCJ College",
          "Marian College",
          "Academy of Mary Immaculate",
          "Mount Lilydale Mercy College",
          "Trinity College Colac",
          "Kilbreda College",
          "Padua College",
          "Notre Dame College",
          "Sacred Heart College",
          "St Ignatius College Geelong",
          "Catholic Ladies' College Ltd",
          "St Joseph's College",
          "St Aloysius College",
          "Catholic College Sale",
          "Mercy Regional College",
          "St Columba's College",
          "Our Lady of Mercy College",
          "St Brigid's College",
          "Our Lady of Sion College",
          "Salesian College Sunbury",
          "Santa Maria College",
          "St Joseph's College Geelong",
          "St Bede's College",
          "Siena College Ltd",
          "St Bernard's College",
          "Whitefriars College",
          "Our Lady of the Sacred Heart College",
          "Salesian College Chadstone",
          "Marcellin College",
          "Marist-Sion College",
          "Monivae College",
          "Killester College",
          "Clonard College",
          "Sacred Heart Girls' College",
          "St John's Regional College",
          "Nagle College",
          "St Mary of the Angels College",
          "Aquinas College",
          "Ave Maria College",
          "Marian College",
          "Mount St Joseph Girls' College",
          "Mater Christi College",
          "St Joseph's College",
          "Avila College",
          "Emmanuel College",
          "St Monica's College",
          "Mercy College",
          "John Paul College",
          "Mazenod College",
          "MacKillop Catholic Regional College",
          "Marian College",
          "Galen Catholic College",
          "Catholic Regional College St Albans",
          "St Francis Xavier College",
          "Catholic College Wodonga",
          "Caroline Chisholm Catholic College",
          "Loyola College",
          "St Francis Catholic College",
          "Catholic Regional College Institute of Training",
          "Catholic Regional College North Keilor",
          "Nazareth College",
          "Mary MacKillop Catholic Regional College",
          "St Mary MacKillop College",
          "St Peter's College",
          "Penola Catholic College",
          "Thomas Carr College",
          "Lavalla Catholic College",
          "Catholic Regional College Caroline Springs",
          "Kolbe Catholic College",
          "Iona College Geelong",
          "Ignatius Learning Centre",
          "Mount Erin Secondary College",
          "Box Hill Senior Secondary College",
          "Edgars Creek Secondary College",
          "Elevation Secondary College",
          "Clyde Secondary College",
          "Cobden Technical School",
          "Lyndhurst Secondary College",
          "Daylesford Secondary College",
          "Dromana Secondary College",
          "Grovedale College",
          "Irymple Secondary College",
          "Crusoe 7-10 Secondary College",
          "Peter Lalor Secondary College",
          "Lilydale Heights College",
          "Staughton College",
          "Chaffey Secondary College",
          "Bentleigh Secondary College",
          "Mount Clear College",
          "Rosehill Secondary College",
          "Northern College of the Arts and Technology",
          "Swinburne Senior Secondary College",
          "Victorian College Of The Arts Secondary School",
          "Brauer Secondary College",
          "Wyndham Central Secondary College",
          "Weeroona College Bendigo",
          "Whittlesea Secondary College",
          "Yarrabing Secondary College",
          "Alexandra Secondary College",
          "Auburn High School",
          "Ballarat High School",
          "Balwyn High School",
          "Bayswater Secondary College",
          "Beaufort Secondary College",
          "Beaumaris Secondary College",
          "Beechworth Secondary College",
          "Belmont High School",
          "Bendigo Senior Secondary College",
          "Berwick Secondary College",
          "Blackburn High School",
          "Box Hill High School",
          "Braybrook College",
          "Brentwood Secondary College",
          "Brighton Secondary College",
          "Broadford Secondary College",
          "Buckley Park College",
          "Camberwell High School",
          "Canterbury Girls Secondary College",
          "Casterton Secondary College",
          "Cheltenham Secondary College",
          "Wulerrp Secondary College",
          "Cobram Secondary College",
          "Cohuna Secondary College",
          "Cranbourne Secondary College",
          "Cranbourne West Secondary College",
          "Croydon Community School",
          "Mount Alexander 7-12 College",
          "Dimboola Memorial Secondary College",
          "East Doncaster Secondary College",
          "Donald High School",
          "Doncaster Secondary College",
          "Drouin Secondary College",
          "Eaglehawk Secondary College",
          "Eltham High School",
          "Elwood College",
          "Epping Secondary College",
          "Euroa Secondary College",
          "Fairhills High School",
          "Bendigo South East 7-10 Secondary College",
          "Port Melbourne Secondary College",
          "Footscray High School",
          "Foster Secondary College",
          "Frankston High School",
          "Geelong High School",
          "North Geelong Secondary College",
          "Gisborne Secondary College",
          "Gladstone Park Secondary College",
          "Bundoora Secondary College",
          "Greater Shepparton Secondary College",
          "Western Port Secondary College",
          "Healesville High School",
          "Heywood District Secondary College",
          "Highvale Secondary College",
          "Kerang Technical High School",
          "Kensington Community High School",
          "Kew High School",
          "Koonung Secondary College",
          "Koo Wee Rup Secondary College",
          "Korumburra Secondary College",
          "Kyneton High School",
          "Lalor Secondary College",
          "Lalor North Secondary College",
          "Lilydale High School",
          "Walcom Ngarrwa Secondary College",
          "Lyndale Secondary College",
          "Bindjiroo Yaluk Community School",
          "Maffra Secondary College",
          "Mansfield Secondary College",
          "Maribyrnong College",
          "Matthew Flinders Girls Secondary College",
          "Melbourne High School",
          "Melton Secondary College",
          "Mentone Girls Secondary College",
          "Mickleham Secondary College",
          "Mildura Senior College",
          "Mirboo North Secondary College",
          "Monbulk College",
          "Montmorency Secondary College",
          "Mooroolbark College",
          "Mordialloc College",
          "Mount Beauty Secondary College",
          "Mount Eliza Secondary College",
          "Mount Waverley Secondary College",
          "McKinnon Secondary College",
          "MacRobertson Girls High School",
          "Nathalia Secondary College",
          "Neerim District Secondary College",
          "Newcomb Secondary College",
          "Northcote High School",
          "Norwood Secondary College",
          "Numurkah Secondary College",
          "Oberon High School",
          "Pakenham Secondary College",
          "Edenbrook Secondary College",
          "Parkdale Secondary College",
          "Pascoe Vale Girls Secondary College",
          "Prahran High School",
          "Preston High School",
          "Princes Hill Secondary College",
          "Homestead Senior Secondary College",
          "Bellarine Secondary College",
          "Red Cliffs Secondary College",
          "Ringwood Secondary College",
          "Richmond High School",
          "Rochester Secondary College",
          "Rosebud Secondary College",
          "Brinbeal Secondary College",
          "Rutherglen High School",
          "Scoresby Secondary College",
          "St Albans Secondary College",
          "St Arnaud Secondary College",
          "Oakwood School",
          "Strathmore Secondary College",
          "Sunbury College",
          "Sydney Road Community School",
          "Tallangatta Secondary College",
          "Thomastown Secondary College",
          "Trafalgar High School",
          "Bemin Secondary College",
          "University High School",
          "Roxburgh College",
          "Upper Yarra Secondary College",
          "Upwey High School",
          "Vermont Secondary College",
          "Kambrya College",
          "Carrum Downs Secondary College",
          "Wangaratta High School",
          "Greenvale Secondary College",
          "Wantirna College",
          "Warracknabeal Secondary College",
          "Warrandyte High School",
          "Wellington Secondary College",
          "Werribee Secondary College",
          "Bairnsdale Secondary College",
          "Westall Secondary College",
          "Wheelers Hill Secondary College",
          "Williamstown High School",
          "Wodonga Senior Secondary College",
          "Yarram Secondary College",
          "Woodmans Hill Secondary College",
          "Yea High School",
          "Glen Eira College",
          "Craigieburn Secondary College",
          "Emerald Secondary College",
          "Reservoir High School",
          "Hampton Park Secondary College",
          "Hoppers Crossing Secondary College",
          "Keilor Downs Secondary College",
          "Kurnai College",
          "Kurunjang Secondary College",
          "Lakes Entrance Secondary College",
          "Elisabeth Murdoch College",
          "Sunbury Downs Secondary College",
          "Forest Hill College",
          "Patterson River Secondary College",
          "St Helena Secondary College",
          "Stawell Secondary College",
          "Rowville Secondary College",
          "Bass Coast College",
          "Sandringham College",
          "Fitzroy High School",
          "Ashwood High School",
          "Mullauna Secondary College",
          "Leongatha Secondary College",
          "Diamond Valley College",
          "Greensborough Secondary College",
          "Ararat Secondary College",
          "Mill Park Secondary College",
          "Bacchus Marsh College",
          "Springside West Secondary College",
          "Taylors Lakes Secondary College",
          "Sunshine College",
          "Wallan Secondary College",
          "Thornbury High School",
          "Portland Secondary College",
          "Copperfield College",
          "South Oakleigh College",
          "Swan Hill College",
          "Traralgon College",
          "Mornington Secondary College",
          "Essendon Keilor College",
          "Brunswick Secondary College",
          "Glen Waverley Secondary College",
          "Monterey Secondary College",
          "Warrnambool College",
          "Viewbank College",
          "Noble Park Secondary College",
          "Baimbridge College",
          "Yarra Hills Secondary College",
          "Heathmont College",
          "Horsham College",
          "Melbourne Girls College",
          "Western Heights Secondary College",
          "Lowanna College",
          "Templestowe College",
          "Castlemaine Secondary College",
          "Warragul Regional College",
          "Mount Rowan Secondary College",
          "Sale College",
          "McClelland Secondary College",
          "Lara Secondary College",
          "Point Cook Senior Secondary College",
          "Coburg High School",
          "Tarneit Senior College",
          "Echuca College",
          "John Monash Science School",
          "Dandenong High School",
          "Hume Central Secondary College",
          "Colac Secondary College",
          "Nossal High School",
          "Suzanne Cory High School",
          "Keysborough Secondary College",
          "Hallam Secondary College",
          "Gleneagles Secondary College",
          "Fountain Gate Secondary College",
          "Alkira Secondary College",
          "Somerville Secondary College",
          "Albert Park College",
          "Victoria University Secondary College",
          "Glenroy College",
          "John Fawkner Secondary College",
          "William Ruthven Secondary College",
          "Wollert Secondary College",
          "Cranbourne East Secondary College",
          "Surf Coast Secondary College",
          "Officer Secondary College",
          "Lakeview Senior College",
          "Melba Secondary College",
          "Centre for Higher Education Studies",
          "Highview College",
          "Bayview College",
          "Luther College",
          "Nunawading Christian College-Secondary",
          "Alia College",
          "Ozford College",
          "Holmes Grammar School",
          "Shepparton ACE Secondary College",
          "SEDA College (Victoria)",
          "Village High School",
          "Djerriwarrh Community & Education Services | Djerriwarrh Community College",
          "Youth2Industry College",
          "Plenty River College",
          "Urban College",
          "Islamic College of Sport",
          "Y Community School",
          "OakTree College",
          "Corner Inlet College"
         ],
         "lat": {
          "bdata": "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",
          "dtype": "f8"
         },
         "legendgroup": "Secondary",
         "lon": {
          "bdata": "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",
          "dtype": "f8"
         },
         "marker": {
          "color": "#636efa"
         },
         "mode": "markers",
         "name": "Secondary",
         "showlegend": true,
         "subplot": "mapbox",
         "type": "scattermapbox"
        },
        {
         "customdata": [
          [
           "Primary",
           "BALLARAT"
          ],
          [
           "Primary",
           "BALLARAT EAST"
          ],
          [
           "Primary",
           "MANSFIELD"
          ],
          [
           "Primary",
           "NEWPORT"
          ],
          [
           "Primary",
           "WILLIAMSTOWN"
          ],
          [
           "Primary",
           "NORTH MELBOURNE"
          ],
          [
           "Primary",
           "WANGARATTA"
          ],
          [
           "Primary",
           "ST KILDA EAST"
          ],
          [
           "Primary",
           "FLEMINGTON"
          ],
          [
           "Primary",
           "MARYBOROUGH"
          ],
          [
           "Primary",
           "BAIRNSDALE"
          ],
          [
           "Primary",
           "REDAN"
          ],
          [
           "Primary",
           "HAWTHORN"
          ],
          [
           "Primary",
           "NORTHCOTE"
          ],
          [
           "Primary",
           "PRESTON"
          ],
          [
           "Primary",
           "MORWELL"
          ],
          [
           "Primary",
           "TRARALGON"
          ],
          [
           "Primary",
           "SHEPPARTON"
          ],
          [
           "Primary",
           "DONALD"
          ],
          [
           "Primary",
           "SALE"
          ],
          [
           "Primary",
           "KILMORE"
          ],
          [
           "Primary",
           "BALLAN"
          ],
          [
           "Primary",
           "GORDON"
          ],
          [
           "Primary",
           "LANCEFIELD"
          ],
          [
           "Primary",
           "CRESWICK"
          ],
          [
           "Primary",
           "KANGAROO FLAT"
          ],
          [
           "Primary",
           "BENALLA"
          ],
          [
           "Primary",
           "ST ARNAUD"
          ],
          [
           "Primary",
           "BRIGHTON"
          ],
          [
           "Primary",
           "BENTLEIGH EAST"
          ],
          [
           "Primary",
           "EAGLEHAWK"
          ],
          [
           "Primary",
           "CASTLEMAINE"
          ],
          [
           "Primary",
           "WOODEND"
          ],
          [
           "Primary",
           "CHARLTON"
          ],
          [
           "Primary",
           "TATURA"
          ],
          [
           "Primary",
           "COBURG"
          ],
          [
           "Primary",
           "WERRIBEE"
          ],
          [
           "Primary",
           "GISBORNE"
          ],
          [
           "Primary",
           "SUNBURY"
          ],
          [
           "Primary",
           "CHILTERN"
          ],
          [
           "Primary",
           "RUTHERGLEN"
          ],
          [
           "Primary",
           "INGLEWOOD"
          ],
          [
           "Primary",
           "PAKENHAM"
          ],
          [
           "Primary",
           "YARRAWONGA"
          ],
          [
           "Primary",
           "PENSHURST"
          ],
          [
           "Primary",
           "CASTERTON"
          ],
          [
           "Primary",
           "BACCHUS MARSH"
          ],
          [
           "Primary",
           "KOROIT"
          ],
          [
           "Primary",
           "FITZROY"
          ],
          [
           "Primary",
           "FOOTSCRAY"
          ],
          [
           "Primary",
           "YARRAVILLE"
          ],
          [
           "Primary",
           "HORSHAM"
          ],
          [
           "Primary",
           "COLAC"
          ],
          [
           "Primary",
           "NUMURKAH"
          ],
          [
           "Primary",
           "WARRNAMBOOL"
          ],
          [
           "Primary",
           "GEELONG"
          ],
          [
           "Primary",
           "GEELONG WEST"
          ],
          [
           "Primary",
           "MOONEE PONDS"
          ],
          [
           "Primary",
           "LILYDALE"
          ],
          [
           "Primary",
           "COLLINGWOOD"
          ],
          [
           "Primary",
           "WARRACKNABEAL"
          ],
          [
           "Primary",
           "ECHUCA"
          ],
          [
           "Primary",
           "KEW"
          ],
          [
           "Primary",
           "ARARAT"
          ],
          [
           "Primary",
           "PORT FAIRY"
          ],
          [
           "Primary",
           "ROCHESTER"
          ],
          [
           "Primary",
           "PORTLAND"
          ],
          [
           "Primary",
           "SURREY HILLS"
          ],
          [
           "Primary",
           "ELMORE"
          ],
          [
           "Primary",
           "BEECHWORTH"
          ],
          [
           "Primary",
           "COLERAINE"
          ],
          [
           "Primary",
           "CAMPERDOWN"
          ],
          [
           "Primary",
           "DAYLESFORD"
          ],
          [
           "Primary",
           "HAMILTON"
          ],
          [
           "Primary",
           "BENDIGO"
          ],
          [
           "Primary",
           "WODONGA"
          ],
          [
           "Primary",
           "STAWELL"
          ],
          [
           "Primary",
           "MENTONE"
          ],
          [
           "Primary",
           "TERANG"
          ],
          [
           "Primary",
           "WARRAGUL"
          ],
          [
           "Primary",
           "QUARRY HILL"
          ],
          [
           "Primary",
           "HEIDELBERG"
          ],
          [
           "Primary",
           "BRUNSWICK WEST"
          ],
          [
           "Primary",
           "MORDIALLOC"
          ],
          [
           "Primary",
           "BALLARAT NORTH"
          ],
          [
           "Primary",
           "BRUNSWICK EAST"
          ],
          [
           "Primary",
           "GLEN HUNTLY"
          ],
          [
           "Primary",
           "DANDENONG"
          ],
          [
           "Primary",
           "SANDRINGHAM"
          ],
          [
           "Primary",
           "WONTHAGGI"
          ],
          [
           "Primary",
           "ASCOT VALE"
          ],
          [
           "Primary",
           "KERANG"
          ],
          [
           "Primary",
           "BRUNSWICK NORTH"
          ],
          [
           "Primary",
           "BALLARAT EAST"
          ],
          [
           "Primary",
           "LEONGATHA"
          ],
          [
           "Primary",
           "KORUMBURRA"
          ],
          [
           "Primary",
           "HEALESVILLE"
          ],
          [
           "Primary",
           "NAR NAR GOON"
          ],
          [
           "Primary",
           "MALVERN EAST"
          ],
          [
           "Primary",
           "KENSINGTON"
          ],
          [
           "Primary",
           "QUEENSCLIFF"
          ],
          [
           "Primary",
           "ALPHINGTON"
          ],
          [
           "Primary",
           "MALVERN"
          ],
          [
           "Primary",
           "YARRAM"
          ],
          [
           "Primary",
           "WHITE HILLS"
          ],
          [
           "Primary",
           "ELWOOD"
          ],
          [
           "Primary",
           "KYNETON"
          ],
          [
           "Primary",
           "SWAN HILL"
          ],
          [
           "Primary",
           "HASTINGS"
          ],
          [
           "Primary",
           "CORAGULAC"
          ],
          [
           "Primary",
           "SUNSHINE"
          ],
          [
           "Primary",
           "THORNBURY"
          ],
          [
           "Primary",
           "DENNINGTON"
          ],
          [
           "Primary",
           "BRIGHTON"
          ],
          [
           "Primary",
           "EUROA"
          ],
          [
           "Primary",
           "FOOTSCRAY"
          ],
          [
           "Primary",
           "COBRAM"
          ],
          [
           "Primary",
           "IVANHOE"
          ],
          [
           "Primary",
           "NAGAMBIE"
          ],
          [
           "Primary",
           "PRAHRAN EAST"
          ],
          [
           "Primary",
           "ORBOST"
          ],
          [
           "Primary",
           "MYRTLEFORD"
          ],
          [
           "Primary",
           "ESSENDON"
          ],
          [
           "Primary",
           "YEA"
          ],
          [
           "Primary",
           "DEEPDENE"
          ],
          [
           "Primary",
           "CHELSEA"
          ],
          [
           "Primary",
           "BRIGHTON EAST"
          ],
          [
           "Primary",
           "CAMBERWELL EAST"
          ],
          [
           "Primary",
           "HAMPTON"
          ],
          [
           "Primary",
           "HEATHCOTE"
          ],
          [
           "Primary",
           "COHUNA"
          ],
          [
           "Primary",
           "CRIB POINT"
          ],
          [
           "Primary",
           "MORELAND"
          ],
          [
           "Primary",
           "BOX HILL"
          ],
          [
           "Primary",
           "ALTONA"
          ],
          [
           "Primary",
           "ELTHAM"
          ],
          [
           "Primary",
           "MERBEIN"
          ],
          [
           "Primary",
           "FRANKSTON"
          ],
          [
           "Primary",
           "RESERVOIR"
          ],
          [
           "Primary",
           "BENTLEIGH"
          ],
          [
           "Primary",
           "STRATFORD"
          ],
          [
           "Primary",
           "TRAFALGAR"
          ],
          [
           "Primary",
           "MURRUMBEENA"
          ],
          [
           "Primary",
           "GLEN IRIS"
          ],
          [
           "Primary",
           "KEW EAST"
          ],
          [
           "Primary",
           "RINGWOOD"
          ],
          [
           "Primary",
           "MONTMORENCY"
          ],
          [
           "Primary",
           "SORRENTO"
          ],
          [
           "Primary",
           "GLEN IRIS"
          ],
          [
           "Primary",
           "ELSTERNWICK"
          ],
          [
           "Primary",
           "RED CLIFFS"
          ],
          [
           "Primary",
           "EPPING"
          ],
          [
           "Primary",
           "OAKLEIGH"
          ],
          [
           "Primary",
           "FAWKNER"
          ],
          [
           "Primary",
           "FERNTREE GULLY"
          ],
          [
           "Primary",
           "MITCHAM"
          ],
          [
           "Primary",
           "MOOROOPNA"
          ],
          [
           "Primary",
           "PRESTON WEST"
          ],
          [
           "Primary",
           "KOO WEE RUP"
          ],
          [
           "Primary",
           "STRATHMORE"
          ],
          [
           "Primary",
           "SPRINGVALE"
          ],
          [
           "Primary",
           "PRESTON EAST"
          ],
          [
           "Primary",
           "COBURG EAST"
          ],
          [
           "Primary",
           "PASCOE VALE"
          ],
          [
           "Primary",
           "KINGSVILLE"
          ],
          [
           "Primary",
           "NEWTOWN"
          ],
          [
           "Primary",
           "ASHBURTON"
          ],
          [
           "Primary",
           "CLARKES HILL"
          ],
          [
           "Primary",
           "BALWYN NORTH"
          ],
          [
           "Primary",
           "NHILL"
          ],
          [
           "Primary",
           "GEELONG EAST"
          ],
          [
           "Primary",
           "MOE"
          ],
          [
           "Primary",
           "ALBION"
          ],
          [
           "Primary",
           "IVANHOE WEST"
          ],
          [
           "Primary",
           "MORTLAKE"
          ],
          [
           "Primary",
           "HIGHETT"
          ],
          [
           "Primary",
           "CHELTENHAM"
          ],
          [
           "Primary",
           "CROYDON"
          ],
          [
           "Primary",
           "EDENHOPE"
          ],
          [
           "Primary",
           "ALEXANDRA"
          ],
          [
           "Primary",
           "THORNBURY EAST"
          ],
          [
           "Primary",
           "ST ALBANS"
          ],
          [
           "Primary",
           "BLACKBURN"
          ],
          [
           "Primary",
           "RUSHWORTH"
          ],
          [
           "Primary",
           "HEYFIELD"
          ],
          [
           "Primary",
           "NORLANE"
          ],
          [
           "Primary",
           "HEIDELBERG WEST"
          ],
          [
           "Primary",
           "SPOTSWOOD"
          ],
          [
           "Primary",
           "NOBLE PARK"
          ],
          [
           "Primary",
           "CLAYTON"
          ],
          [
           "Primary",
           "HOPETOUN"
          ],
          [
           "Primary",
           "NIDDRIE"
          ],
          [
           "Primary",
           "BELL PARK"
          ],
          [
           "Primary",
           "MANIFOLD HEIGHTS"
          ],
          [
           "Primary",
           "GREENSBOROUGH"
          ],
          [
           "Primary",
           "ARDEER"
          ],
          [
           "Primary",
           "DEER PARK"
          ],
          [
           "Primary",
           "BRAYBROOK"
          ],
          [
           "Primary",
           "GLENROY"
          ],
          [
           "Primary",
           "SUNSHINE WEST"
          ],
          [
           "Primary",
           "BEAUMARIS"
          ],
          [
           "Primary",
           "KENNINGTON"
          ],
          [
           "Primary",
           "SUNSHINE NORTH"
          ],
          [
           "Primary",
           "SEBASTOPOL"
          ],
          [
           "Primary",
           "MILDURA"
          ],
          [
           "Primary",
           "MARIBYRNONG"
          ],
          [
           "Primary",
           "NEWBOROUGH"
          ],
          [
           "Primary",
           "MOUNT WAVERLEY"
          ],
          [
           "Primary",
           "DANDENONG NORTH"
          ],
          [
           "Primary",
           "SHEPPARTON SOUTH"
          ],
          [
           "Primary",
           "SURREY HILLS"
          ],
          [
           "Primary",
           "MOORABBIN"
          ],
          [
           "Primary",
           "MORWELL EAST"
          ],
          [
           "Primary",
           "SEA LAKE"
          ],
          [
           "Primary",
           "YARRA JUNCTION"
          ],
          [
           "Primary",
           "LAKES ENTRANCE"
          ],
          [
           "Primary",
           "ROSANNA"
          ],
          [
           "Primary",
           "TALLANGATTA"
          ],
          [
           "Primary",
           "OAKLEIGH EAST"
          ],
          [
           "Primary",
           "ABERFELDIE"
          ],
          [
           "Primary",
           "WANGARATTA"
          ],
          [
           "Primary",
           "BROADMEADOWS"
          ],
          [
           "Primary",
           "TONGALA"
          ],
          [
           "Primary",
           "GLEN WAVERLEY"
          ],
          [
           "Primary",
           "BENNETTSWOOD"
          ],
          [
           "Primary",
           "GLEN WAVERLEY"
          ],
          [
           "Primary",
           "PARKDALE EAST"
          ],
          [
           "Primary",
           "DONCASTER EAST"
          ],
          [
           "Primary",
           "DOVETON"
          ],
          [
           "Primary",
           "FAWKNER NORTH"
          ],
          [
           "Primary",
           "MULGRAVE"
          ],
          [
           "Primary",
           "LALOR"
          ],
          [
           "Primary",
           "OAK PARK"
          ],
          [
           "Primary",
           "BELGRAVE"
          ],
          [
           "Primary",
           "WARRNAMBOOL WEST"
          ],
          [
           "Primary",
           "AIRPORT WEST"
          ],
          [
           "Primary",
           "ELIMINYT"
          ],
          [
           "Primary",
           "DIAMOND CREEK"
          ],
          [
           "Primary",
           "BERWICK"
          ],
          [
           "Primary",
           "KINGSBURY"
          ],
          [
           "Primary",
           "BLACKBURN SOUTH"
          ],
          [
           "Primary",
           "WANGARATTA"
          ],
          [
           "Primary",
           "MURTOA"
          ],
          [
           "Primary",
           "WENDOUREE"
          ],
          [
           "Primary",
           "BULLEEN"
          ],
          [
           "Primary",
           "BORONIA"
          ],
          [
           "Primary",
           "CORRYONG"
          ],
          [
           "Primary",
           "BAYSWATER"
          ],
          [
           "Primary",
           "BROOKLYN"
          ],
          [
           "Primary",
           "ASPENDALE"
          ],
          [
           "Primary",
           "HADFIELD"
          ],
          [
           "Primary",
           "BLACKBURN NORTH"
          ],
          [
           "Primary",
           "DALLAS"
          ],
          [
           "Primary",
           "MOOROOLBARK"
          ],
          [
           "Primary",
           "BUNDOORA"
          ],
          [
           "Primary",
           "NEWCOMB"
          ],
          [
           "Primary",
           "MAFFRA"
          ],
          [
           "Primary",
           "MORNINGTON"
          ],
          [
           "Primary",
           "FRANKSTON EAST"
          ],
          [
           "Primary",
           "SEAFORD"
          ],
          [
           "Primary",
           "AVONDALE HEIGHTS"
          ],
          [
           "Primary",
           "DONCASTER"
          ],
          [
           "Primary",
           "TEMPLESTOWE LOWER"
          ],
          [
           "Primary",
           "VERMONT"
          ],
          [
           "Primary",
           "WHEELERS HILL"
          ],
          [
           "Primary",
           "SALE"
          ],
          [
           "Primary",
           "ALTONA NORTH"
          ],
          [
           "Primary",
           "KEILOR EAST"
          ],
          [
           "Primary",
           "WARRNAMBOOL EAST"
          ],
          [
           "Primary",
           "LAVERTON"
          ],
          [
           "Primary",
           "SCORESBY"
          ],
          [
           "Primary",
           "WODONGA WEST"
          ],
          [
           "Primary",
           "BENDIGO NORTH"
          ],
          [
           "Primary",
           "DINGLEY"
          ],
          [
           "Primary",
           "ST ALBANS"
          ],
          [
           "Primary",
           "MILDURA"
          ],
          [
           "Primary",
           "HOPPERS CROSSING"
          ],
          [
           "Primary",
           "THOMASTOWN EAST"
          ],
          [
           "Primary",
           "GLADSTONE PARK"
          ],
          [
           "Primary",
           "CRANBOURNE"
          ],
          [
           "Primary",
           "KEYSBOROUGH"
          ],
          [
           "Primary",
           "MELTON"
          ],
          [
           "Primary",
           "CORIO"
          ],
          [
           "Primary",
           "RINGWOOD NORTH"
          ],
          [
           "Primary",
           "CHURCHILL"
          ],
          [
           "Primary",
           "THOMASTOWN WEST"
          ],
          [
           "Primary",
           "SUNBURY"
          ],
          [
           "Primary",
           "DONVALE"
          ],
          [
           "Primary",
           "LANGWARRIN"
          ],
          [
           "Primary",
           "KEALBA"
          ],
          [
           "Primary",
           "DANDENONG NORTH"
          ],
          [
           "Primary",
           "RESERVOIR NORTH"
          ],
          [
           "Primary",
           "KINGS PARK"
          ],
          [
           "Primary",
           "GROVEDALE"
          ],
          [
           "Primary",
           "KEILOR"
          ],
          [
           "Primary",
           "MELTON SOUTH"
          ],
          [
           "Primary",
           "GREENSBOROUGH NORTH"
          ],
          [
           "Primary",
           "WANTIRNA"
          ],
          [
           "Primary",
           "SUNSHINE WEST"
          ],
          [
           "Primary",
           "ALFREDTON"
          ],
          [
           "Primary",
           "MOUNT EVELYN"
          ],
          [
           "Primary",
           "PARK ORCHARDS"
          ],
          [
           "Primary",
           "TRARALGON WEST"
          ],
          [
           "Primary",
           "CRAIGIEBURN"
          ],
          [
           "Primary",
           "FRANKSTON SOUTH"
          ],
          [
           "Primary",
           "MILL PARK"
          ],
          [
           "Primary",
           "ENDEAVOUR HILLS"
          ],
          [
           "Primary",
           "CLAYTON SOUTH"
          ],
          [
           "Primary",
           "MOUNT ELIZA"
          ],
          [
           "Primary",
           "NATHALIA"
          ],
          [
           "Primary",
           "HOPPERS CROSSING NORTH"
          ],
          [
           "Primary",
           "ROWVILLE"
          ],
          [
           "Primary",
           "ALTONA MEADOWS"
          ],
          [
           "Primary",
           "NARRE WARREN"
          ],
          [
           "Primary",
           "OCEAN GROVE"
          ],
          [
           "Primary",
           "THE BASIN"
          ],
          [
           "Primary",
           "LALOR WEST"
          ],
          [
           "Primary",
           "LARA"
          ],
          [
           "Primary",
           "WHITTLESEA"
          ],
          [
           "Primary",
           "TEMPLESTOWE"
          ],
          [
           "Primary",
           "KEILOR DOWNS"
          ],
          [
           "Primary",
           "MELTON WEST"
          ],
          [
           "Primary",
           "MONBULK"
          ],
          [
           "Primary",
           "ROSEBUD"
          ],
          [
           "Primary",
           "WHEELERS HILL"
          ],
          [
           "Primary",
           "KILSYTH"
          ],
          [
           "Primary",
           "WANTIRNA SOUTH"
          ],
          [
           "Primary",
           "ENDEAVOUR HILLS"
          ],
          [
           "Primary",
           "WERRIBEE"
          ],
          [
           "Primary",
           "TORQUAY"
          ],
          [
           "Primary",
           "CARRUM DOWNS"
          ],
          [
           "Primary",
           "ELTHAM NORTH"
          ],
          [
           "Primary",
           "GREENVALE"
          ],
          [
           "Primary",
           "HAMPTON PARK"
          ],
          [
           "Primary",
           "CRANBOURNE"
          ],
          [
           "Primary",
           "DROUIN"
          ],
          [
           "Primary",
           "DELACOMBE"
          ],
          [
           "Primary",
           "STRATHFIELDSAYE"
          ],
          [
           "Primary",
           "SOUTH MELBOURNE"
          ],
          [
           "Primary",
           "SOMERVILLE"
          ],
          [
           "Primary",
           "NARRE WARREN NORTH"
          ],
          [
           "Primary",
           "WERRIBEE NORTH"
          ],
          [
           "Primary",
           "ROXBURGH PARK"
          ],
          [
           "Primary",
           "NEW GISBORNE"
          ],
          [
           "Primary",
           "BERWICK"
          ],
          [
           "Primary",
           "SYDENHAM"
          ],
          [
           "Primary",
           "DRYSDALE"
          ],
          [
           "Primary",
           "BELMONT"
          ],
          [
           "Primary",
           "CAROLINE SPRINGS"
          ],
          [
           "Primary",
           "POINT COOK"
          ],
          [
           "Primary",
           "NARRE WARREN SOUTH"
          ],
          [
           "Primary",
           "BUNYIP"
          ],
          [
           "Primary",
           "HILLSIDE"
          ],
          [
           "Primary",
           "SHEPPARTON NORTH"
          ],
          [
           "Primary",
           "BARANDUDA"
          ],
          [
           "Primary",
           "POINT COOK"
          ],
          [
           "Primary",
           "RICHMOND"
          ],
          [
           "Primary",
           "MOUNT CLEAR"
          ],
          [
           "Primary",
           "MT RIDLEY"
          ],
          [
           "Primary",
           "MANOR LAKES"
          ],
          [
           "Primary",
           "CAROLINE SPRINGS"
          ],
          [
           "Primary",
           "MERNDA"
          ],
          [
           "Primary",
           "OFFICER"
          ],
          [
           "Primary",
           "LYNBROOK"
          ],
          [
           "Primary",
           "DERRIMUT"
          ],
          [
           "Primary",
           "TARNEIT"
          ],
          [
           "Primary",
           "EPPING NORTH"
          ],
          [
           "Primary",
           "POINT COOK"
          ],
          [
           "Primary",
           "CRANBOURNE EAST"
          ],
          [
           "Primary",
           "TARNEIT"
          ],
          [
           "Primary",
           "TRUGANINA SOUTH"
          ],
          [
           "Primary",
           "OFFICER"
          ],
          [
           "Primary",
           "DOREEN"
          ],
          [
           "Primary",
           "LUCAS"
          ],
          [
           "Primary",
           "CRAIGIEBURN WEST"
          ],
          [
           "Primary",
           "BANNOCKBURN"
          ],
          [
           "Primary",
           "WALLAN EAST"
          ],
          [
           "Primary",
           "TORQUAY NORTH"
          ],
          [
           "Primary",
           "COWES"
          ],
          [
           "Primary",
           "SUNBURY"
          ],
          [
           "Primary",
           "WOLLERT"
          ],
          [
           "Primary",
           "ARMSTRONG CREEK"
          ],
          [
           "Primary",
           "WERRIBEE"
          ],
          [
           "Primary",
           "WARRAGUL"
          ],
          [
           "Primary",
           "WEIR VIEWS"
          ],
          [
           "Primary",
           "MICKLEHAM"
          ],
          [
           "Primary",
           "GREENVALE"
          ],
          [
           "Primary",
           "TARNEIT NORTH"
          ],
          [
           "Primary",
           "CLYDE NORTH"
          ],
          [
           "Primary",
           "WOLLERT WEST"
          ],
          [
           "Primary",
           "Alberton"
          ],
          [
           "Primary",
           "Allansford"
          ],
          [
           "Primary",
           "Avoca"
          ],
          [
           "Primary",
           "Avenel"
          ],
          [
           "Primary",
           "Warrandyte"
          ],
          [
           "Primary",
           "Belmont"
          ],
          [
           "Primary",
           "Bacchus Marsh"
          ],
          [
           "Primary",
           "Ballarat"
          ],
          [
           "Primary",
           "Wodonga"
          ],
          [
           "Primary",
           "Berwick"
          ],
          [
           "Primary",
           "Beaufort"
          ],
          [
           "Primary",
           "Cheltenham"
          ],
          [
           "Primary",
           "Cudgee"
          ],
          [
           "Primary",
           "Newport"
          ],
          [
           "Primary",
           "Cavendish"
          ],
          [
           "Primary",
           "Colac"
          ],
          [
           "Primary",
           "Castlemaine"
          ],
          [
           "Primary",
           "Campbells Creek"
          ],
          [
           "Primary",
           "Creswick"
          ],
          [
           "Primary",
           "California Gully"
          ],
          [
           "Primary",
           "St Andrews"
          ],
          [
           "Primary",
           "Warrnambool"
          ],
          [
           "Primary",
           "Dromana"
          ],
          [
           "Primary",
           "Doncaster"
          ],
          [
           "Primary",
           "Echuca"
          ],
          [
           "Primary",
           "Eltham"
          ],
          [
           "Primary",
           "Eaglehawk"
          ],
          [
           "Primary",
           "Elphinstone"
          ],
          [
           "Primary",
           "Hallam"
          ],
          [
           "Primary",
           "Flemington"
          ],
          [
           "Primary",
           "Footscray"
          ],
          [
           "Primary",
           "Gisborne"
          ],
          [
           "Primary",
           "Sandringham"
          ],
          [
           "Primary",
           "Wandiligong"
          ],
          [
           "Primary",
           "Grovedale"
          ],
          [
           "Primary",
           "Hawthorn"
          ],
          [
           "Primary",
           "Heidelberg"
          ],
          [
           "Primary",
           "Hamilton"
          ],
          [
           "Primary",
           "Heathcote"
          ],
          [
           "Primary",
           "Highton"
          ],
          [
           "Primary",
           "Huntly"
          ],
          [
           "Primary",
           "Bellbrae"
          ],
          [
           "Primary",
           "Chiltern"
          ],
          [
           "Primary",
           "Kyneton"
          ],
          [
           "Primary",
           "Romsey"
          ],
          [
           "Primary",
           "Shelford"
          ],
          [
           "Primary",
           "Lockwood South"
          ],
          [
           "Primary",
           "Marong"
          ],
          [
           "Primary",
           "Mount Macedon"
          ],
          [
           "Primary",
           "Mount Clear"
          ],
          [
           "Primary",
           "Melton"
          ],
          [
           "Primary",
           "Fitzroy"
          ],
          [
           "Primary",
           "Newstead"
          ],
          [
           "Primary",
           "Newlyn"
          ],
          [
           "Primary",
           "Burwood East"
          ],
          [
           "Primary",
           "New Gisborne"
          ],
          [
           "Primary",
           "Beeac"
          ],
          [
           "Primary",
           "Essendon"
          ],
          [
           "Primary",
           "Coburg"
          ],
          [
           "Primary",
           "Penshurst"
          ],
          [
           "Primary",
           "Myrniong"
          ],
          [
           "Primary",
           "Mernda"
          ],
          [
           "Primary",
           "Portland"
          ],
          [
           "Primary",
           "Stawell"
          ],
          [
           "Primary",
           "Rutherglen"
          ],
          [
           "Primary",
           "Riddells Creek"
          ],
          [
           "Primary",
           "Rokewood"
          ],
          [
           "Primary",
           "Geelong East"
          ],
          [
           "Primary",
           "Sale"
          ],
          [
           "Primary",
           "Skipton"
          ],
          [
           "Primary",
           "South Yarra"
          ],
          [
           "Primary",
           "Stratford"
          ],
          [
           "Primary",
           "Taradale"
          ],
          [
           "Primary",
           "Koroit"
          ],
          [
           "Primary",
           "Tylden"
          ],
          [
           "Primary",
           "Thomastown"
          ],
          [
           "Primary",
           "Wangaratta"
          ],
          [
           "Primary",
           "Wahgunyah"
          ],
          [
           "Primary",
           "Woodend"
          ],
          [
           "Primary",
           "Woodford"
          ],
          [
           "Primary",
           "Werribee"
          ],
          [
           "Primary",
           "Castlemaine"
          ],
          [
           "Primary",
           "Wooragee"
          ],
          [
           "Primary",
           "Wallan"
          ],
          [
           "Primary",
           "Woolsthorpe"
          ],
          [
           "Primary",
           "Yandoit"
          ],
          [
           "Primary",
           "Yarram"
          ],
          [
           "Primary",
           "Lake Wendouree"
          ],
          [
           "Primary",
           "Yea"
          ],
          [
           "Primary",
           "Lancefield"
          ],
          [
           "Primary",
           "Coimadai"
          ],
          [
           "Primary",
           "Birregurra"
          ],
          [
           "Primary",
           "Clayton"
          ],
          [
           "Primary",
           "Milawa"
          ],
          [
           "Primary",
           "Lockwood"
          ],
          [
           "Primary",
           "Bealiba"
          ],
          [
           "Primary",
           "Bairnsdale"
          ],
          [
           "Primary",
           "Gordon"
          ],
          [
           "Primary",
           "Hepburn"
          ],
          [
           "Primary",
           "Lara Lake"
          ],
          [
           "Primary",
           "Rosedale"
          ],
          [
           "Primary",
           "Rochester"
          ],
          [
           "Primary",
           "Ararat"
          ],
          [
           "Primary",
           "Jamieson"
          ],
          [
           "Primary",
           "Preston"
          ],
          [
           "Primary",
           "Omeo"
          ],
          [
           "Primary",
           "Harrietville"
          ],
          [
           "Primary",
           "Mordialloc"
          ],
          [
           "Primary",
           "Healesville"
          ],
          [
           "Primary",
           "Toongabbie"
          ],
          [
           "Primary",
           "Waubra"
          ],
          [
           "Primary",
           "Great Western"
          ],
          [
           "Primary",
           "Maffra"
          ],
          [
           "Primary",
           "Broken Creek"
          ],
          [
           "Primary",
           "Lal Lal"
          ],
          [
           "Primary",
           "Cobden"
          ],
          [
           "Primary",
           "St Leonards"
          ],
          [
           "Primary",
           "Lilydale"
          ],
          [
           "Primary",
           "Bendigo"
          ],
          [
           "Primary",
           "Darraweit Guim"
          ],
          [
           "Primary",
           "Linton"
          ],
          [
           "Primary",
           "Invermay"
          ],
          [
           "Primary",
           "Mitta Mitta"
          ],
          [
           "Primary",
           "Camberwell"
          ],
          [
           "Primary",
           "Greenvale"
          ],
          [
           "Primary",
           "Alexandra"
          ],
          [
           "Primary",
           "Rockbank"
          ],
          [
           "Primary",
           "Doreen"
          ],
          [
           "Primary",
           "Talbot"
          ],
          [
           "Primary",
           "Yarra Glen"
          ],
          [
           "Primary",
           "Kangaroo Flat"
          ],
          [
           "Primary",
           "Westmeadows"
          ],
          [
           "Primary",
           "Sunbury"
          ],
          [
           "Primary",
           "Diamond Creek"
          ],
          [
           "Primary",
           "Hesket"
          ],
          [
           "Primary",
           "Axedale"
          ],
          [
           "Primary",
           "Vermont"
          ],
          [
           "Primary",
           "Tarnagulla"
          ],
          [
           "Primary",
           "Balwyn"
          ],
          [
           "Primary",
           "Scoresby"
          ],
          [
           "Primary",
           "Carisbrook"
          ],
          [
           "Primary",
           "Wandin North"
          ],
          [
           "Primary",
           "Yering"
          ],
          [
           "Primary",
           "Dartmoor"
          ],
          [
           "Primary",
           "Mickleham"
          ],
          [
           "Primary",
           "Inglewood"
          ],
          [
           "Primary",
           "Chewton"
          ],
          [
           "Primary",
           "Bolinda"
          ],
          [
           "Primary",
           "Napoleons"
          ],
          [
           "Primary",
           "Kew"
          ],
          [
           "Primary",
           "Haddon"
          ],
          [
           "Primary",
           "Sorrento"
          ],
          [
           "Primary",
           "Alfredton"
          ],
          [
           "Primary",
           "Bridgewater On Loddon"
          ],
          [
           "Primary",
           "Hastings"
          ],
          [
           "Primary",
           "Yackandandah"
          ],
          [
           "Primary",
           "Nagambie"
          ],
          [
           "Primary",
           "Heyfield"
          ],
          [
           "Primary",
           "Moorabbin"
          ],
          [
           "Primary",
           "Mansfield"
          ],
          [
           "Primary",
           "Indigo Valley"
          ],
          [
           "Primary",
           "Briagolong"
          ],
          [
           "Primary",
           "Lindenow"
          ],
          [
           "Primary",
           "Broadford"
          ],
          [
           "Primary",
           "Murchison"
          ],
          [
           "Primary",
           "Panton Hill"
          ],
          [
           "Primary",
           "Glen Park"
          ],
          [
           "Primary",
           "CONCONGELLA"
          ],
          [
           "Primary",
           "Bruthen"
          ],
          [
           "Primary",
           "Swan Hill"
          ],
          [
           "Primary",
           "Porepunkah"
          ],
          [
           "Primary",
           "Leopold"
          ],
          [
           "Primary",
           "Inverleigh"
          ],
          [
           "Primary",
           "Glen Iris"
          ],
          [
           "Primary",
           "Trawalla"
          ],
          [
           "Primary",
           "Quarry Hill"
          ],
          [
           "Primary",
           "Sebastopol"
          ],
          [
           "Primary",
           "Woodside"
          ],
          [
           "Primary",
           "Noorat"
          ],
          [
           "Primary",
           "Albert Park"
          ],
          [
           "Primary",
           "Williamstown"
          ],
          [
           "Primary",
           "Boneo"
          ],
          [
           "Primary",
           "Queenscliff"
          ],
          [
           "Primary",
           "Portland North"
          ],
          [
           "Primary",
           "Timor"
          ],
          [
           "Primary",
           "Apsley"
          ],
          [
           "Primary",
           "Strathfieldsaye"
          ],
          [
           "Primary",
           "Skye"
          ],
          [
           "Primary",
           "Eastwood"
          ],
          [
           "Primary",
           "Upper Plenty"
          ],
          [
           "Primary",
           "Carlton North"
          ],
          [
           "Primary",
           "Maldon"
          ],
          [
           "Primary",
           "Woori Yallock"
          ],
          [
           "Primary",
           "Moyston"
          ],
          [
           "Primary",
           "Buninyong"
          ],
          [
           "Primary",
           "Marysville"
          ],
          [
           "Primary",
           "Langley"
          ],
          [
           "Primary",
           "Wandong"
          ],
          [
           "Primary",
           "Cowes"
          ],
          [
           "Primary",
           "Bullarto"
          ],
          [
           "Primary",
           "Lismore"
          ],
          [
           "Primary",
           "Lower Plenty"
          ],
          [
           "Primary",
           "Golden Square"
          ],
          [
           "Primary",
           "Bolwarra"
          ],
          [
           "Primary",
           "Navarre"
          ],
          [
           "Primary",
           "Warracknabeal"
          ],
          [
           "Primary",
           "Moyhu"
          ],
          [
           "Primary",
           "Natte Yallock"
          ],
          [
           "Primary",
           "Clifton Hill"
          ],
          [
           "Primary",
           "Christmas Hills"
          ],
          [
           "Primary",
           "Tallangatta"
          ],
          [
           "Primary",
           "Kialla"
          ],
          [
           "Primary",
           "Mount Eliza"
          ],
          [
           "Primary",
           "San Remo"
          ],
          [
           "Primary",
           "Dimboola"
          ],
          [
           "Primary",
           "Whorouly"
          ],
          [
           "Primary",
           "Merrijig"
          ],
          [
           "Primary",
           "Lethbridge"
          ],
          [
           "Primary",
           "Oxley"
          ],
          [
           "Primary",
           "Northcote"
          ],
          [
           "Primary",
           "North Melbourne"
          ],
          [
           "Primary",
           "Dandenong"
          ],
          [
           "Primary",
           "Malmsbury"
          ],
          [
           "Primary",
           "Williamstown"
          ],
          [
           "Primary",
           "Kerang"
          ],
          [
           "Primary",
           "Drouin West"
          ],
          [
           "Primary",
           "Meredith"
          ],
          [
           "Primary",
           "Eaglehawk"
          ],
          [
           "Primary",
           "Mooroopna"
          ],
          [
           "Primary",
           "Cairnlea"
          ],
          [
           "Primary",
           "Ballan"
          ],
          [
           "Primary",
           "Ballarat"
          ],
          [
           "Primary",
           "Tatura"
          ],
          [
           "Primary",
           "Toolamba"
          ],
          [
           "Primary",
           "HARSTON"
          ],
          [
           "Primary",
           "Osbornes Flat"
          ],
          [
           "Primary",
           "Frankston"
          ],
          [
           "Primary",
           "Donald"
          ],
          [
           "Primary",
           "Beveridge"
          ],
          [
           "Primary",
           "St Kilda"
          ],
          [
           "Primary",
           "Cape Clear"
          ],
          [
           "Primary",
           "Warburton"
          ],
          [
           "Primary",
           "Tallarook"
          ],
          [
           "Primary",
           "Barnawartha"
          ],
          [
           "Primary",
           "Fitzroy North"
          ],
          [
           "Primary",
           "Geelong West"
          ],
          [
           "Primary",
           "Preston"
          ],
          [
           "Primary",
           "Tooradin"
          ],
          [
           "Primary",
           "Hawthorn"
          ],
          [
           "Primary",
           "Elmore"
          ],
          [
           "Primary",
           "Dookie"
          ],
          [
           "Primary",
           "Brighton"
          ],
          [
           "Primary",
           "Natimuk"
          ],
          [
           "Primary",
           "Big Hill"
          ],
          [
           "Primary",
           "Clunes"
          ],
          [
           "Primary",
           "Marnoo"
          ],
          [
           "Primary",
           "Beechworth"
          ],
          [
           "Primary",
           "Ardmona"
          ],
          [
           "Primary",
           "Kilmore"
          ],
          [
           "Primary",
           "Macarthur"
          ],
          [
           "Primary",
           "Barwon Heads"
          ],
          [
           "Primary",
           "Keilor"
          ],
          [
           "Primary",
           "Dunolly"
          ],
          [
           "Primary",
           "Springhurst"
          ],
          [
           "Primary",
           "Trentham"
          ],
          [
           "Primary",
           "Warrenheip"
          ],
          [
           "Primary",
           "Maiden Gully"
          ],
          [
           "Primary",
           "Rupanyup"
          ],
          [
           "Primary",
           "Goornong"
          ],
          [
           "Primary",
           "Oakleigh"
          ],
          [
           "Primary",
           "Ceres"
          ],
          [
           "Primary",
           "Malvern"
          ],
          [
           "Primary",
           "Daylesford"
          ],
          [
           "Primary",
           "Mooroopna"
          ],
          [
           "Primary",
           "Swan Reach"
          ],
          [
           "Primary",
           "Amphitheatre"
          ],
          [
           "Primary",
           "Deans Marsh"
          ],
          [
           "Primary",
           "Drysdale"
          ],
          [
           "Primary",
           "St Arnaud"
          ],
          [
           "Primary",
           "Nullawarre"
          ],
          [
           "Primary",
           "Macedon"
          ],
          [
           "Primary",
           "Arthurs Creek"
          ],
          [
           "Primary",
           "Rye"
          ],
          [
           "Primary",
           "Buxton"
          ],
          [
           "Primary",
           "Moonambel"
          ],
          [
           "Primary",
           "Longford"
          ],
          [
           "Primary",
           "Harkaway"
          ],
          [
           "Primary",
           "Balnarring"
          ],
          [
           "Primary",
           "Londrigan"
          ],
          [
           "Primary",
           "Euroa"
          ],
          [
           "Primary",
           "Shepparton East"
          ],
          [
           "Primary",
           "Nicholson"
          ],
          [
           "Primary",
           "Kialla West"
          ],
          [
           "Primary",
           "Miners Rest"
          ],
          [
           "Primary",
           "Glenrowan"
          ],
          [
           "Primary",
           "Warrnambool"
          ],
          [
           "Primary",
           "Undera"
          ],
          [
           "Primary",
           "Dederang"
          ],
          [
           "Primary",
           "Axe Creek"
          ],
          [
           "Primary",
           "Silvan"
          ],
          [
           "Primary",
           "Wendouree"
          ],
          [
           "Primary",
           "Lancaster"
          ],
          [
           "Primary",
           "Raywood"
          ],
          [
           "Primary",
           "Puckapunyal"
          ],
          [
           "Primary",
           "Landsborough"
          ],
          [
           "Primary",
           "Lysterfield"
          ],
          [
           "Primary",
           "Winton"
          ],
          [
           "Primary",
           "Merrigum"
          ],
          [
           "Primary",
           "Bethanga"
          ],
          [
           "Primary",
           "Abbotsford"
          ],
          [
           "Primary",
           "Newtown"
          ],
          [
           "Primary",
           "Windsor"
          ],
          [
           "Primary",
           "Narre  Warren  North"
          ],
          [
           "Primary",
           "Buchan"
          ],
          [
           "Primary",
           "Anakie"
          ],
          [
           "Primary",
           "Moolap"
          ],
          [
           "Primary",
           "Footscray"
          ],
          [
           "Primary",
           "Newham"
          ],
          [
           "Primary",
           "Mill Park"
          ],
          [
           "Primary",
           "White Hills"
          ],
          [
           "Primary",
           "Mount Egerton"
          ],
          [
           "Primary",
           "Drouin"
          ],
          [
           "Primary",
           "Wunghnu"
          ],
          [
           "Primary",
           "Maroona"
          ],
          [
           "Primary",
           "Jindivick"
          ],
          [
           "Primary",
           "Talgarno"
          ],
          [
           "Primary",
           "Bungaree"
          ],
          [
           "Primary",
           "Little River"
          ],
          [
           "Primary",
           "Cowwarr"
          ],
          [
           "Primary",
           "South Morang"
          ],
          [
           "Primary",
           "Bendigo"
          ],
          [
           "Primary",
           "Pyalong"
          ],
          [
           "Primary",
           "Winchelsea"
          ],
          [
           "Primary",
           "Buln Buln"
          ],
          [
           "Primary",
           "Soldiers Hill"
          ],
          [
           "Primary",
           "Elliminyt"
          ],
          [
           "Primary",
           "Mornington"
          ],
          [
           "Primary",
           "Hamilton"
          ],
          [
           "Primary",
           "Blowhard"
          ],
          [
           "Primary",
           "Creswick"
          ],
          [
           "Primary",
           "Ballarat"
          ],
          [
           "Primary",
           "Brighton"
          ],
          [
           "Primary",
           "Castlemaine"
          ],
          [
           "Primary",
           "Yarrambat"
          ],
          [
           "Primary",
           "Casterton"
          ],
          [
           "Primary",
           "Nathalia"
          ],
          [
           "Primary",
           "Newtown"
          ],
          [
           "Primary",
           "Greensborough"
          ],
          [
           "Primary",
           "Teesdale"
          ],
          [
           "Primary",
           "Cranbourne"
          ],
          [
           "Primary",
           "Katamatite"
          ],
          [
           "Primary",
           "Buangor"
          ],
          [
           "Primary",
           "Leitchville"
          ],
          [
           "Primary",
           "Whittlesea"
          ],
          [
           "Primary",
           "Nerrina"
          ],
          [
           "Primary",
           "Ballarat"
          ],
          [
           "Primary",
           "Warragul"
          ],
          [
           "Primary",
           "Kangaroo Ground"
          ],
          [
           "Primary",
           "Traralgon South"
          ],
          [
           "Primary",
           "Coleraine"
          ],
          [
           "Primary",
           "Ripplebrook"
          ],
          [
           "Primary",
           "Numurkah"
          ],
          [
           "Primary",
           "Moe"
          ],
          [
           "Primary",
           "South Geelong"
          ],
          [
           "Primary",
           "Bayswater"
          ],
          [
           "Primary",
           "Minyip"
          ],
          [
           "Primary",
           "Mulgrave"
          ],
          [
           "Primary",
           "Yarragon"
          ],
          [
           "Primary",
           "Tyers"
          ],
          [
           "Primary",
           "Trafalgar"
          ],
          [
           "Primary",
           "Kinglake"
          ],
          [
           "Primary",
           "Ellinbank"
          ],
          [
           "Primary",
           "Tambo Upper"
          ],
          [
           "Primary",
           "Baranduda"
          ],
          [
           "Primary",
           "Tungamah"
          ],
          [
           "Primary",
           "Bunyip"
          ],
          [
           "Primary",
           "Gunbower"
          ],
          [
           "Primary",
           "Nar Nar Goon"
          ],
          [
           "Primary",
           "Toora"
          ],
          [
           "Primary",
           "Montrose"
          ],
          [
           "Primary",
           "Koondrook"
          ],
          [
           "Primary",
           "Magpie"
          ],
          [
           "Primary",
           "Tawonga"
          ],
          [
           "Primary",
           "Narracan"
          ],
          [
           "Primary",
           "Drouin South"
          ],
          [
           "Primary",
           "Eskdale"
          ],
          [
           "Primary",
           "Darnum"
          ],
          [
           "Primary",
           "Moorooduc"
          ],
          [
           "Primary",
           "The Basin"
          ],
          [
           "Primary",
           "Paynesville"
          ],
          [
           "Primary",
           "Epsom"
          ],
          [
           "Primary",
           "Kensington"
          ],
          [
           "Primary",
           "Hazelwood North"
          ],
          [
           "Primary",
           "Mirboo North"
          ],
          [
           "Primary",
           "Yinnar"
          ],
          [
           "Primary",
           "Neerim South"
          ],
          [
           "Primary",
           "Ivanhoe"
          ],
          [
           "Primary",
           "Portarlington"
          ],
          [
           "Primary",
           "Menzies Creek"
          ],
          [
           "Primary",
           "St Kilda"
          ],
          [
           "Primary",
           "Labertouche"
          ],
          [
           "Primary",
           "Diggers Rest"
          ],
          [
           "Primary",
           "Longwarry"
          ],
          [
           "Primary",
           "Gembrook"
          ],
          [
           "Primary",
           "Wurruk"
          ],
          [
           "Primary",
           "Willow Grove"
          ],
          [
           "Primary",
           "Hoddles Creek"
          ],
          [
           "Primary",
           "BEACONSFIELD UPPER"
          ],
          [
           "Primary",
           "Congupna"
          ],
          [
           "Primary",
           "Redesdale"
          ],
          [
           "Primary",
           "Malvern East"
          ],
          [
           "Primary",
           "Launching Place"
          ],
          [
           "Primary",
           "Carlton"
          ],
          [
           "Primary",
           "Ascot Vale"
          ],
          [
           "Primary",
           "Boolarra"
          ],
          [
           "Primary",
           "Rosebud"
          ],
          [
           "Primary",
           "Koo Wee Rup"
          ],
          [
           "Primary",
           "Armadale"
          ],
          [
           "Primary",
           "Mount Martha"
          ],
          [
           "Primary",
           "Somerville"
          ],
          [
           "Primary",
           "Willaura"
          ],
          [
           "Primary",
           "Echuca"
          ],
          [
           "Primary",
           "Lakes Entrance"
          ],
          [
           "Primary",
           "Myrrhee"
          ],
          [
           "Primary",
           "Longwood"
          ],
          [
           "Primary",
           "Forrest"
          ],
          [
           "Primary",
           "Fairfield"
          ],
          [
           "Primary",
           "Nilma"
          ],
          [
           "Primary",
           "Garfield"
          ],
          [
           "Primary",
           "Yinnar South"
          ],
          [
           "Primary",
           "Officer"
          ],
          [
           "Primary",
           "Brunswick East"
          ],
          [
           "Primary",
           "Inverloch"
          ],
          [
           "Primary",
           "Surrey Hills"
          ],
          [
           "Primary",
           "Strathmerton"
          ],
          [
           "Primary",
           "Walwa"
          ],
          [
           "Primary",
           "Middle Park"
          ],
          [
           "Primary",
           "Seville"
          ],
          [
           "Primary",
           "Yarraville"
          ],
          [
           "Primary",
           "Coburg"
          ],
          [
           "Primary",
           "Tanjil South"
          ],
          [
           "Primary",
           "Pomonal"
          ],
          [
           "Primary",
           "Brighton"
          ],
          [
           "Primary",
           "Glengarry"
          ],
          [
           "Primary",
           "Carnegie"
          ],
          [
           "Primary",
           "Lang Lang"
          ],
          [
           "Primary",
           "Croydon"
          ],
          [
           "Primary",
           "Moonee Ponds"
          ],
          [
           "Primary",
           "Mitcham"
          ],
          [
           "Primary",
           "Loch"
          ],
          [
           "Primary",
           "Mildura"
          ],
          [
           "Primary",
           "Blackburn"
          ],
          [
           "Primary",
           "Newmerella"
          ],
          [
           "Primary",
           "Port Melbourne"
          ],
          [
           "Primary",
           "Hawthorn East"
          ],
          [
           "Primary",
           "Mentone"
          ],
          [
           "Primary",
           "PRINCES HILL"
          ],
          [
           "Primary",
           "Research"
          ],
          [
           "Primary",
           "Pearcedale"
          ],
          [
           "Primary",
           "Lindenow South"
          ],
          [
           "Primary",
           "Thorpdale"
          ],
          [
           "Primary",
           "St Albans"
          ],
          [
           "Primary",
           "Leongatha"
          ],
          [
           "Primary",
           "Jeparit"
          ],
          [
           "Primary",
           "Toorak"
          ],
          [
           "Primary",
           "Baxter"
          ],
          [
           "Primary",
           "Fish Creek"
          ],
          [
           "Primary",
           "Beaconsfield"
          ],
          [
           "Primary",
           "Metung"
          ],
          [
           "Primary",
           "Newhaven"
          ],
          [
           "Primary",
           "Halls Gap"
          ],
          [
           "Primary",
           "Tallygaroopna"
          ],
          [
           "Primary",
           "Ormond"
          ],
          [
           "Primary",
           "Korumburra"
          ],
          [
           "Primary",
           "Crib Point"
          ],
          [
           "Primary",
           "Pascoe Vale"
          ],
          [
           "Primary",
           "Flowerdale"
          ],
          [
           "Primary",
           "Ocean Grove"
          ],
          [
           "Primary",
           "Beulah"
          ],
          [
           "Primary",
           "Fitzroy North"
          ],
          [
           "Primary",
           "Sunshine"
          ],
          [
           "Primary",
           "Tyabb"
          ],
          [
           "Primary",
           "Thornbury"
          ],
          [
           "Primary",
           "Sandy Creek"
          ],
          [
           "Primary",
           "Clifton Hill"
          ],
          [
           "Primary",
           "Kew East"
          ],
          [
           "Primary",
           "Nichols Point"
          ],
          [
           "Primary",
           "Irymple"
          ],
          [
           "Primary",
           "Brunswick East"
          ],
          [
           "Primary",
           "Eagle Point"
          ],
          [
           "Primary",
           "Yarra Junction"
          ],
          [
           "Primary",
           "Sassafras"
          ],
          [
           "Primary",
           "Ferny Creek"
          ],
          [
           "Primary",
           "Toolangi"
          ],
          [
           "Primary",
           "Wonga Park"
          ],
          [
           "Primary",
           "Kinglake West"
          ],
          [
           "Primary",
           "French Island"
          ],
          [
           "Primary",
           "Monbulk"
          ],
          [
           "Primary",
           "Lake Boga"
          ],
          [
           "Primary",
           "Chum Creek"
          ],
          [
           "Primary",
           "Mount Dandenong"
          ],
          [
           "Primary",
           "Healesville"
          ],
          [
           "Primary",
           "Kinglake Central"
          ],
          [
           "Primary",
           "Point Lonsdale"
          ],
          [
           "Primary",
           "Kongwak"
          ],
          [
           "Primary",
           "Clarinda"
          ],
          [
           "Primary",
           "Chelsea Heights"
          ],
          [
           "Primary",
           "Wallington"
          ],
          [
           "Primary",
           "Tecoma"
          ],
          [
           "Primary",
           "Torquay"
          ],
          [
           "Primary",
           "Emerald"
          ],
          [
           "Primary",
           "Carrum"
          ],
          [
           "Primary",
           "Nyora"
          ],
          [
           "Primary",
           "Exford"
          ],
          [
           "Primary",
           "Mount Waverley"
          ],
          [
           "Primary",
           "Marlo"
          ],
          [
           "Primary",
           "Murrumbeena"
          ],
          [
           "Primary",
           "Wesburn"
          ],
          [
           "Primary",
           "Koorlong"
          ],
          [
           "Primary",
           "Warranwood"
          ],
          [
           "Primary",
           "Willowmavin"
          ],
          [
           "Primary",
           "Olinda"
          ],
          [
           "Primary",
           "Carlisle River"
          ],
          [
           "Primary",
           "Bendigo"
          ],
          [
           "Primary",
           "Langwarrin"
          ],
          [
           "Primary",
           "Cockatoo"
          ],
          [
           "Primary",
           "Tyabb"
          ],
          [
           "Primary",
           "Belgrave South"
          ],
          [
           "Primary",
           "Sydenham"
          ],
          [
           "Primary",
           "Canterbury"
          ],
          [
           "Primary",
           "Cabarita"
          ],
          [
           "Primary",
           "Traralgon"
          ],
          [
           "Primary",
           "Brunswick West"
          ],
          [
           "Primary",
           "Fawkner"
          ],
          [
           "Primary",
           "Alphington"
          ],
          [
           "Primary",
           "Bona Vista"
          ],
          [
           "Primary",
           "Carrum Downs"
          ],
          [
           "Primary",
           "Bundoora"
          ],
          [
           "Primary",
           "Macclesfield"
          ],
          [
           "Primary",
           "Black Rock"
          ],
          [
           "Primary",
           "Mount Evelyn"
          ],
          [
           "Primary",
           "Kilsyth"
          ],
          [
           "Primary",
           "Wonthaggi"
          ],
          [
           "Primary",
           "Spotswood"
          ],
          [
           "Primary",
           "Clyde"
          ],
          [
           "Primary",
           "Noble Park"
          ],
          [
           "Primary",
           "Deepdene"
          ],
          [
           "Primary",
           "Clifton Creek"
          ],
          [
           "Primary",
           "Kennington"
          ],
          [
           "Primary",
           "Cardinia"
          ],
          [
           "Primary",
           "Grahamvale"
          ],
          [
           "Primary",
           "Irymple"
          ],
          [
           "Primary",
           "Glen Huntly"
          ],
          [
           "Primary",
           "Nanneella"
          ],
          [
           "Primary",
           "Wantirna"
          ],
          [
           "Primary",
           "Wonthaggi"
          ],
          [
           "Primary",
           "Melton South"
          ],
          [
           "Primary",
           "Chelsea"
          ],
          [
           "Primary",
           "Hampton"
          ],
          [
           "Primary",
           "Balliang East"
          ],
          [
           "Primary",
           "Edithvale"
          ],
          [
           "Primary",
           "Orrvale"
          ],
          [
           "Primary",
           "Thornbury"
          ],
          [
           "Primary",
           "Underbool"
          ],
          [
           "Primary",
           "Caulfield North"
          ],
          [
           "Primary",
           "Seaford"
          ],
          [
           "Primary",
           "Burwood"
          ],
          [
           "Primary",
           "Murrabit"
          ],
          [
           "Primary",
           "Preston"
          ],
          [
           "Primary",
           "Thornbury"
          ],
          [
           "Primary",
           "West Footscray"
          ],
          [
           "Primary",
           "Wandin North"
          ],
          [
           "Primary",
           "Brighton East"
          ],
          [
           "Primary",
           "Beaumaris"
          ],
          [
           "Primary",
           "Altona"
          ],
          [
           "Primary",
           "Devon Meadows"
          ],
          [
           "Primary",
           "Upper Ferntree Gully"
          ],
          [
           "Primary",
           "Eildon"
          ],
          [
           "Primary",
           "Bittern"
          ],
          [
           "Primary",
           "Colbinabbin"
          ],
          [
           "Primary",
           "Stanhope"
          ],
          [
           "Primary",
           "Hurstbridge"
          ],
          [
           "Primary",
           "Coburg"
          ],
          [
           "Primary",
           "Elwood"
          ],
          [
           "Primary",
           "Mont Albert"
          ],
          [
           "Primary",
           "Strathewen"
          ],
          [
           "Primary",
           "Don Valley"
          ],
          [
           "Primary",
           "Reservoir"
          ],
          [
           "Primary",
           "Yallourn North"
          ],
          [
           "Primary",
           "Lake Tyers Beach"
          ],
          [
           "Primary",
           "Girgarre"
          ],
          [
           "Primary",
           "Gladysdale"
          ],
          [
           "Primary",
           "Mildura"
          ],
          [
           "Primary",
           "Moonee Ponds"
          ],
          [
           "Primary",
           "Yarraville"
          ],
          [
           "Primary",
           "Kallista"
          ],
          [
           "Primary",
           "Essendon North"
          ],
          [
           "Primary",
           "Ascot Vale"
          ],
          [
           "Primary",
           "Camberwell"
          ],
          [
           "Primary",
           "Red Cliffs"
          ],
          [
           "Primary",
           "Wattle Glen"
          ],
          [
           "Primary",
           "Hampton Park"
          ],
          [
           "Primary",
           "Colac"
          ],
          [
           "Primary",
           "St Kilda East"
          ],
          [
           "Primary",
           "Montmorency"
          ],
          [
           "Primary",
           "Moriac"
          ],
          [
           "Primary",
           "Ringwood North"
          ],
          [
           "Primary",
           "Red Cliffs"
          ],
          [
           "Primary",
           "Malvern East"
          ],
          [
           "Primary",
           "Bayswater North"
          ],
          [
           "Primary",
           "Pascoe Vale"
          ],
          [
           "Primary",
           "Footscray"
          ],
          [
           "Primary",
           "Airly"
          ],
          [
           "Primary",
           "Glen Iris"
          ],
          [
           "Primary",
           "Parkdale"
          ],
          [
           "Primary",
           "Hughesdale"
          ],
          [
           "Primary",
           "Northcote"
          ],
          [
           "Primary",
           "Hawthorn East"
          ],
          [
           "Primary",
           "Aspendale"
          ],
          [
           "Primary",
           "Eltham North"
          ],
          [
           "Primary",
           "Warrnambool"
          ],
          [
           "Primary",
           "Dandenong"
          ],
          [
           "Primary",
           "CROYDON NORTH"
          ],
          [
           "Primary",
           "ABERFELDIE"
          ],
          [
           "Primary",
           "Manifold Heights"
          ],
          [
           "Primary",
           "Nungurner"
          ],
          [
           "Primary",
           "Dingley Village"
          ],
          [
           "Primary",
           "Cardross"
          ],
          [
           "Primary",
           "Albion"
          ],
          [
           "Primary",
           "Lemnos"
          ],
          [
           "Primary",
           "Tarwin Lower"
          ],
          [
           "Primary",
           "Brunswick West"
          ],
          [
           "Primary",
           "Preston"
          ],
          [
           "Primary",
           "Surrey Hills"
          ],
          [
           "Primary",
           "Caulfield South"
          ],
          [
           "Primary",
           "Ashburton"
          ],
          [
           "Primary",
           "Bentleigh"
          ],
          [
           "Primary",
           "Anglesea"
          ],
          [
           "Primary",
           "Briar Hill"
          ],
          [
           "Primary",
           "Zeerust"
          ],
          [
           "Primary",
           "Ormond"
          ],
          [
           "Primary",
           "Clayton South"
          ],
          [
           "Primary",
           "Ivanhoe East"
          ],
          [
           "Primary",
           "Cobains"
          ],
          [
           "Primary",
           "Mildura South"
          ],
          [
           "Primary",
           "Geelong East"
          ],
          [
           "Primary",
           "Brunswick West"
          ],
          [
           "Primary",
           "Katandra West"
          ],
          [
           "Primary",
           "Narre Warren"
          ],
          [
           "Primary",
           "Sandringham"
          ],
          [
           "Primary",
           "Seaholme"
          ],
          [
           "Primary",
           "Somers"
          ],
          [
           "Primary",
           "Upwey"
          ],
          [
           "Primary",
           "Coburg"
          ],
          [
           "Primary",
           "Rosanna"
          ],
          [
           "Primary",
           "Wantirna South"
          ],
          [
           "Primary",
           "Strathmore"
          ],
          [
           "Primary",
           "Balwyn North"
          ],
          [
           "Primary",
           "Ashburton"
          ],
          [
           "Primary",
           "Wangaratta"
          ],
          [
           "Primary",
           "Mount Beauty"
          ],
          [
           "Primary",
           "Preston"
          ],
          [
           "Primary",
           "Newborough"
          ],
          [
           "Primary",
           "Traralgon"
          ],
          [
           "Primary",
           "Shepparton"
          ],
          [
           "Primary",
           "Tootgarook"
          ],
          [
           "Primary",
           "Moe"
          ],
          [
           "Primary",
           "Belmont"
          ],
          [
           "Primary",
           "Newport"
          ],
          [
           "Primary",
           "Shepparton"
          ],
          [
           "Primary",
           "Malvern East"
          ],
          [
           "Primary",
           "Newborough"
          ],
          [
           "Primary",
           "Hamlyn Heights"
          ],
          [
           "Primary",
           "Frankston"
          ],
          [
           "Primary",
           "Selby"
          ],
          [
           "Primary",
           "Reservoir"
          ],
          [
           "Primary",
           "Bentleigh"
          ],
          [
           "Primary",
           "Katunga"
          ],
          [
           "Primary",
           "Ballarat"
          ],
          [
           "Primary",
           "Bandiana"
          ],
          [
           "Primary",
           "Balwyn North"
          ],
          [
           "Primary",
           "Warragul"
          ],
          [
           "Primary",
           "Horsham"
          ],
          [
           "Primary",
           "Traralgon"
          ],
          [
           "Primary",
           "Traralgon"
          ],
          [
           "Primary",
           "Ringwood East"
          ],
          [
           "Primary",
           "Pascoe Vale South"
          ],
          [
           "Primary",
           "Lalor"
          ],
          [
           "Primary",
           "Reservoir"
          ],
          [
           "Primary",
           "Bentleigh East"
          ],
          [
           "Primary",
           "Blackburn North"
          ],
          [
           "Primary",
           "Oakleigh South"
          ],
          [
           "Primary",
           "Box Hill North"
          ],
          [
           "Primary",
           "Ferntree Gully"
          ],
          [
           "Primary",
           "Ararat"
          ],
          [
           "Primary",
           "Oak Park"
          ],
          [
           "Primary",
           "Dandenong"
          ],
          [
           "Primary",
           "Bairnsdale"
          ],
          [
           "Primary",
           "Noble Park"
          ],
          [
           "Primary",
           "Pascoe Vale"
          ],
          [
           "Primary",
           "Balwyn North"
          ],
          [
           "Primary",
           "Belmont"
          ],
          [
           "Primary",
           "Moe"
          ],
          [
           "Primary",
           "St Albans"
          ],
          [
           "Primary",
           "Shepparton"
          ],
          [
           "Primary",
           "Swan Hill"
          ],
          [
           "Primary",
           "Sunshine"
          ],
          [
           "Primary",
           "Sunshine North"
          ],
          [
           "Primary",
           "Rosanna"
          ],
          [
           "Primary",
           "Portland"
          ],
          [
           "Primary",
           "Rosanna"
          ],
          [
           "Primary",
           "Cheltenham"
          ],
          [
           "Primary",
           "Cranbourne South"
          ],
          [
           "Primary",
           "Wangaratta"
          ],
          [
           "Primary",
           "East Preston"
          ],
          [
           "Primary",
           "Craigieburn"
          ],
          [
           "Primary",
           "Warrnambool"
          ],
          [
           "Primary",
           "Colac"
          ],
          [
           "Primary",
           "Hamilton"
          ],
          [
           "Primary",
           "Bentleigh East"
          ],
          [
           "Primary",
           "Frankston"
          ],
          [
           "Primary",
           "Yarraville"
          ],
          [
           "Primary",
           "Bonbeach"
          ],
          [
           "Primary",
           "Springvale"
          ],
          [
           "Primary",
           "Beaumaris"
          ],
          [
           "Primary",
           "Hamlyn Heights"
          ],
          [
           "Primary",
           "Noble Park"
          ],
          [
           "Primary",
           "Nunawading"
          ],
          [
           "Primary",
           "Glenroy"
          ],
          [
           "Primary",
           "Dandenong"
          ],
          [
           "Primary",
           "St Albans"
          ],
          [
           "Primary",
           "Avondale Heights"
          ],
          [
           "Primary",
           "Doncaster East"
          ],
          [
           "Primary",
           "Wodonga"
          ],
          [
           "Primary",
           "Frankston"
          ],
          [
           "Primary",
           "Box Hill North"
          ],
          [
           "Primary",
           "Heathmont"
          ],
          [
           "Primary",
           "Strathmore"
          ],
          [
           "Primary",
           "Oakleigh South"
          ],
          [
           "Primary",
           "Thomastown"
          ],
          [
           "Primary",
           "Mount Waverley"
          ],
          [
           "Primary",
           "Bentleigh East"
          ],
          [
           "Primary",
           "Watsonia"
          ],
          [
           "Primary",
           "Parkdale"
          ],
          [
           "Primary",
           "Mitcham"
          ],
          [
           "Primary",
           "Kingsbury"
          ],
          [
           "Primary",
           "Ardeer"
          ],
          [
           "Primary",
           "Clayton South"
          ],
          [
           "Primary",
           "Tullamarine"
          ],
          [
           "Primary",
           "Sale"
          ],
          [
           "Primary",
           "Park Orchards"
          ],
          [
           "Primary",
           "Sunshine North"
          ],
          [
           "Primary",
           "Blackburn"
          ],
          [
           "Primary",
           "Blackburn"
          ],
          [
           "Primary",
           "Bell Post Hill"
          ],
          [
           "Primary",
           "Highton"
          ],
          [
           "Primary",
           "Mount Waverley"
          ],
          [
           "Primary",
           "Broadmeadows"
          ],
          [
           "Primary",
           "Fawkner"
          ],
          [
           "Primary",
           "Keilor East"
          ],
          [
           "Primary",
           "Croydon"
          ],
          [
           "Primary",
           "Forest Hill"
          ],
          [
           "Primary",
           "Lara"
          ],
          [
           "Primary",
           "Ringwood"
          ],
          [
           "Primary",
           "Cranbourne"
          ],
          [
           "Primary",
           "Viewbank"
          ],
          [
           "Primary",
           "Greensborough"
          ],
          [
           "Primary",
           "Upwey"
          ],
          [
           "Primary",
           "Simpson"
          ],
          [
           "Primary",
           "Eltham"
          ],
          [
           "Primary",
           "Seaford"
          ],
          [
           "Primary",
           "Mount Waverley"
          ],
          [
           "Primary",
           "Ferntree Gully"
          ],
          [
           "Primary",
           "Ferntree Gully"
          ],
          [
           "Primary",
           "Boronia"
          ],
          [
           "Primary",
           "Moorabbin"
          ],
          [
           "Primary",
           "Ringwood North"
          ],
          [
           "Primary",
           "Croydon"
          ],
          [
           "Primary",
           "Newtown"
          ],
          [
           "Primary",
           "Frankston"
          ],
          [
           "Primary",
           "Glen Waverley"
          ],
          [
           "Primary",
           "Mount Waverley"
          ],
          [
           "Primary",
           "Montmorency"
          ],
          [
           "Primary",
           "Altona North"
          ],
          [
           "Primary",
           "Burwood East"
          ],
          [
           "Primary",
           "Stawell"
          ],
          [
           "Primary",
           "Greensborough"
          ],
          [
           "Primary",
           "Wendouree"
          ],
          [
           "Primary",
           "Mooroolbark"
          ],
          [
           "Primary",
           "Frankston North"
          ],
          [
           "Primary",
           "Shepparton"
          ],
          [
           "Primary",
           "Bundoora"
          ],
          [
           "Primary",
           "St Albans"
          ],
          [
           "Primary",
           "St Albans"
          ],
          [
           "Primary",
           "Kerang"
          ],
          [
           "Primary",
           "Mentone"
          ],
          [
           "Primary",
           "Donvale"
          ],
          [
           "Primary",
           "Bell Park"
          ],
          [
           "Primary",
           "Boronia"
          ],
          [
           "Primary",
           "Churchill"
          ],
          [
           "Primary",
           "Highton"
          ],
          [
           "Primary",
           "Bayswater"
          ],
          [
           "Primary",
           "Seaford"
          ],
          [
           "Primary",
           "Morwell"
          ],
          [
           "Primary",
           "Thomastown"
          ],
          [
           "Primary",
           "Carlton"
          ],
          [
           "Primary",
           "Belmont"
          ],
          [
           "Primary",
           "Lower Templestowe"
          ],
          [
           "Primary",
           "Glen Waverley"
          ],
          [
           "Primary",
           "Watsonia North"
          ],
          [
           "Primary",
           "Dandenong"
          ],
          [
           "Primary",
           "Knoxfield"
          ],
          [
           "Primary",
           "Doncaster"
          ],
          [
           "Primary",
           "Ararat"
          ],
          [
           "Primary",
           "Frankston South"
          ],
          [
           "Primary",
           "Thomastown"
          ],
          [
           "Primary",
           "Rowville"
          ],
          [
           "Primary",
           "Hoppers Crossing"
          ],
          [
           "Primary",
           "Templestowe Lower"
          ],
          [
           "Primary",
           "Frankston"
          ],
          [
           "Primary",
           "Sunbury"
          ],
          [
           "Primary",
           "Gladstone Park"
          ],
          [
           "Primary",
           "Mooroolbark"
          ],
          [
           "Primary",
           "Glen Waverley"
          ],
          [
           "Primary",
           "Mooroolbark"
          ],
          [
           "Primary",
           "Ferntree Gully"
          ],
          [
           "Primary",
           "Briar Hill"
          ],
          [
           "Primary",
           "Doncaster East"
          ],
          [
           "Primary",
           "Shepparton"
          ],
          [
           "Primary",
           "Sale"
          ],
          [
           "Primary",
           "Deer Park"
          ],
          [
           "Primary",
           "Campbellfield"
          ],
          [
           "Primary",
           "Lalor"
          ],
          [
           "Primary",
           "Melton West"
          ],
          [
           "Primary",
           "Diamond Creek"
          ],
          [
           "Primary",
           "Wheelers Hill"
          ],
          [
           "Primary",
           "Bayswater"
          ],
          [
           "Primary",
           "Mornington"
          ],
          [
           "Primary",
           "Wodonga"
          ],
          [
           "Primary",
           "Frankston North"
          ],
          [
           "Primary",
           "Richmond"
          ],
          [
           "Primary",
           "Heathmont"
          ],
          [
           "Primary",
           "St Albans"
          ],
          [
           "Primary",
           "Mount Evelyn"
          ],
          [
           "Primary",
           "Hoppers Crossing"
          ],
          [
           "Primary",
           "Sunshine West"
          ],
          [
           "Primary",
           "Frankston"
          ],
          [
           "Primary",
           "Noble Park"
          ],
          [
           "Primary",
           "Lilydale"
          ],
          [
           "Primary",
           "Mooroolbark"
          ],
          [
           "Primary",
           "Sunshine West"
          ],
          [
           "Primary",
           "Kilsyth"
          ],
          [
           "Primary",
           "Falls Creek"
          ],
          [
           "Primary",
           "Flemington"
          ],
          [
           "Primary",
           "Narre Warren"
          ],
          [
           "Primary",
           "Ringwood East"
          ],
          [
           "Primary",
           "Grovedale"
          ],
          [
           "Primary",
           "Ferntree Gully"
          ],
          [
           "Primary",
           "Deer Park"
          ],
          [
           "Primary",
           "Dandenong North"
          ],
          [
           "Primary",
           "Mooroopna"
          ],
          [
           "Primary",
           "Melton South"
          ],
          [
           "Primary",
           "Werribee"
          ],
          [
           "Primary",
           "Gladstone Park"
          ],
          [
           "Primary",
           "Wheelers Hill"
          ],
          [
           "Primary",
           "Broadmeadows"
          ],
          [
           "Primary",
           "Cheltenham"
          ],
          [
           "Primary",
           "Warrandyte"
          ],
          [
           "Primary",
           "Wheelers Hill"
          ],
          [
           "Primary",
           "Dingley Village"
          ],
          [
           "Primary",
           "Glen Waverley"
          ],
          [
           "Primary",
           "Vermont South"
          ],
          [
           "Primary",
           "Churchill"
          ],
          [
           "Primary",
           "St Albans"
          ],
          [
           "Primary",
           "Noble Park North"
          ],
          [
           "Primary",
           "Ringwood"
          ],
          [
           "Primary",
           "Whittington"
          ],
          [
           "Primary",
           "Coldstream"
          ],
          [
           "Primary",
           "Templestowe"
          ],
          [
           "Primary",
           "Hampton Park"
          ],
          [
           "Primary",
           "Wantirna"
          ],
          [
           "Primary",
           "Croydon"
          ],
          [
           "Primary",
           "Capel Sound"
          ],
          [
           "Primary",
           "Thomastown"
          ],
          [
           "Primary",
           "Frankston"
          ],
          [
           "Primary",
           "Endeavour Hills"
          ],
          [
           "Primary",
           "KINGS PARK"
          ],
          [
           "Primary",
           "Mount Eliza"
          ],
          [
           "Primary",
           "West Wodonga"
          ],
          [
           "Primary",
           "Wyndham Vale"
          ],
          [
           "Primary",
           "Vermont South"
          ],
          [
           "Primary",
           "Mill Park"
          ],
          [
           "Primary",
           "Templestowe"
          ],
          [
           "Primary",
           "Mount Martha"
          ],
          [
           "Primary",
           "Altona Meadows"
          ],
          [
           "Primary",
           "The Patch"
          ],
          [
           "Primary",
           "Wheelers Hill"
          ],
          [
           "Primary",
           "Albanvale"
          ],
          [
           "Primary",
           "Sunbury"
          ],
          [
           "Primary",
           "Mount Eliza"
          ],
          [
           "Primary",
           "Greensborough"
          ],
          [
           "Primary",
           "Grovedale"
          ],
          [
           "Primary",
           "Meadow Heights"
          ],
          [
           "Primary",
           "Cranbourne"
          ],
          [
           "Primary",
           "Patterson Lakes"
          ],
          [
           "Primary",
           "Seaford"
          ],
          [
           "Primary",
           "Montrose"
          ],
          [
           "Primary",
           "Chirnside Park"
          ],
          [
           "Primary",
           "Corinella"
          ],
          [
           "Primary",
           "Wantirna"
          ],
          [
           "Primary",
           "Sunbury"
          ],
          [
           "Primary",
           "Darley"
          ],
          [
           "Primary",
           "Delacombe"
          ],
          [
           "Primary",
           "Hastings"
          ],
          [
           "Primary",
           "Endeavour Hills"
          ],
          [
           "Primary",
           "Melton West"
          ],
          [
           "Primary",
           "Wangaratta"
          ],
          [
           "Primary",
           "Doncaster East"
          ],
          [
           "Primary",
           "Berwick"
          ],
          [
           "Primary",
           "Botanic Ridge"
          ],
          [
           "Primary",
           "Meadow Heights"
          ],
          [
           "Primary",
           "Portland"
          ],
          [
           "Primary",
           "Endeavour Hills"
          ],
          [
           "Primary",
           "Cranbourne"
          ],
          [
           "Primary",
           "Wantirna South"
          ],
          [
           "Primary",
           "Endeavour Hills"
          ],
          [
           "Primary",
           "St Albans"
          ],
          [
           "Primary",
           "Mooroolbark"
          ],
          [
           "Primary",
           "Craigieburn"
          ],
          [
           "Primary",
           "Mill Park"
          ],
          [
           "Primary",
           "Loch Sport"
          ],
          [
           "Primary",
           "Sunbury"
          ],
          [
           "Primary",
           "Hoppers Crossing"
          ],
          [
           "Primary",
           "Croydon Hills"
          ],
          [
           "Primary",
           "Melton"
          ],
          [
           "Primary",
           "Langwarrin"
          ],
          [
           "Primary",
           "Taylors Lakes"
          ],
          [
           "Primary",
           "Eltham North"
          ],
          [
           "Primary",
           "Richmond"
          ],
          [
           "Primary",
           "Richmond"
          ],
          [
           "Primary",
           "Clifton Springs"
          ],
          [
           "Primary",
           "Rowville"
          ],
          [
           "Primary",
           "Blackburn South"
          ],
          [
           "Primary",
           "Epping"
          ],
          [
           "Primary",
           "Altona Meadows"
          ],
          [
           "Primary",
           "Balwyn North"
          ],
          [
           "Primary",
           "Hampton Park"
          ],
          [
           "Primary",
           "Narre Warren"
          ],
          [
           "Primary",
           "Endeavour Hills"
          ],
          [
           "Primary",
           "Rowville"
          ],
          [
           "Primary",
           "Delahey"
          ],
          [
           "Primary",
           "Aspendale Gardens"
          ],
          [
           "Primary",
           "Berwick"
          ],
          [
           "Primary",
           "Berwick"
          ],
          [
           "Primary",
           "Wollert"
          ],
          [
           "Primary",
           "Eynesbury"
          ],
          [
           "Primary",
           "Hoppers Crossing"
          ],
          [
           "Primary",
           "Carrum Downs"
          ],
          [
           "Primary",
           "Langwarrin"
          ],
          [
           "Primary",
           "Mill Park"
          ],
          [
           "Primary",
           "Keilor Downs"
          ],
          [
           "Primary",
           "Seabrook"
          ],
          [
           "Primary",
           "Craigieburn"
          ],
          [
           "Primary",
           "Werribee"
          ],
          [
           "Primary",
           "Rowville"
          ],
          [
           "Primary",
           "Mildura"
          ],
          [
           "Primary",
           "Hampton Park"
          ],
          [
           "Primary",
           "Sunbury"
          ],
          [
           "Primary",
           "Ocean Grove"
          ],
          [
           "Primary",
           "Officer"
          ],
          [
           "Primary",
           "Werribee"
          ],
          [
           "Primary",
           "Narre Warren"
          ],
          [
           "Primary",
           "Werribee"
          ],
          [
           "Primary",
           "Violet Town"
          ],
          [
           "Primary",
           "Bacchus Marsh"
          ],
          [
           "Primary",
           "Pakenham"
          ],
          [
           "Primary",
           "Cranbourne North"
          ],
          [
           "Primary",
           "Somerville"
          ],
          [
           "Primary",
           "Branxholme"
          ],
          [
           "Primary",
           "Mount Duneed"
          ],
          [
           "Primary",
           "Grasmere"
          ],
          [
           "Primary",
           "Narrawong"
          ],
          [
           "Primary",
           "Ballarat East"
          ],
          [
           "Primary",
           "Brown Hill"
          ],
          [
           "Primary",
           "Clyde North"
          ],
          [
           "Primary",
           "Tempy"
          ],
          [
           "Primary",
           "Rawson"
          ],
          [
           "Primary",
           "Bundalaguah"
          ],
          [
           "Primary",
           "Lardner"
          ],
          [
           "Primary",
           "Nayook"
          ],
          [
           "Primary",
           "Nambrok"
          ],
          [
           "Primary",
           "Welshpool"
          ],
          [
           "Primary",
           "Whitfield"
          ],
          [
           "Primary",
           "Greta South"
          ],
          [
           "Primary",
           "Everton"
          ],
          [
           "Primary",
           "Nangiloc"
          ],
          [
           "Primary",
           "Harcourt"
          ],
          [
           "Primary",
           "Beverford"
          ],
          [
           "Primary",
           "Niddrie"
          ],
          [
           "Primary",
           "Greenvale"
          ],
          [
           "Primary",
           "Lucas"
          ],
          [
           "Primary",
           "Toolern Vale"
          ],
          [
           "Primary",
           "Ashwood"
          ],
          [
           "Primary",
           "Seaford"
          ],
          [
           "Primary",
           "Box Hill South"
          ],
          [
           "Primary",
           "Meeniyan"
          ],
          [
           "Primary",
           "Bayles"
          ],
          [
           "Primary",
           "Cheltenham"
          ],
          [
           "Primary",
           "Dalyston"
          ],
          [
           "Primary",
           "Glen Waverley"
          ],
          [
           "Primary",
           "Knoxfield"
          ],
          [
           "Primary",
           "Mulgrave"
          ],
          [
           "Primary",
           "Oakleigh East"
          ],
          [
           "Primary",
           "Boronia"
          ],
          [
           "Primary",
           "Mount Waverley"
          ],
          [
           "Primary",
           "Mitcham"
          ],
          [
           "Primary",
           "Glen Waverley"
          ],
          [
           "Primary",
           "Yallambie"
          ],
          [
           "Primary",
           "Woorinen South"
          ],
          [
           "Primary",
           "Smythesdale"
          ],
          [
           "Primary",
           "Millgrove"
          ],
          [
           "Primary",
           "Gormandale"
          ],
          [
           "Primary",
           "Roxburgh Park"
          ],
          [
           "Primary",
           "Newcomb"
          ],
          [
           "Primary",
           "Braybrook"
          ],
          [
           "Primary",
           "Glenroy"
          ],
          [
           "Primary",
           "Doncaster East"
          ],
          [
           "Primary",
           "Nyah West"
          ],
          [
           "Primary",
           "Narre Warren South"
          ],
          [
           "Primary",
           "Heathmont"
          ],
          [
           "Primary",
           "Hillside"
          ],
          [
           "Primary",
           "Narre Warren South"
          ],
          [
           "Primary",
           "Roxburgh Park"
          ],
          [
           "Primary",
           "Mornington"
          ],
          [
           "Primary",
           "Caulfield South"
          ],
          [
           "Primary",
           "Roxburgh Park"
          ],
          [
           "Primary",
           "Lynbrook"
          ],
          [
           "Primary",
           "Doreen"
          ],
          [
           "Primary",
           "Truganina"
          ],
          [
           "Primary",
           "Burnside Heights"
          ],
          [
           "Primary",
           "Epping"
          ],
          [
           "Primary",
           "Burnside"
          ],
          [
           "Primary",
           "Berwick"
          ],
          [
           "Primary",
           "Pakenham"
          ],
          [
           "Primary",
           "Tarneit"
          ],
          [
           "Primary",
           "Pakenham"
          ],
          [
           "Primary",
           "Taylors Hill"
          ],
          [
           "Primary",
           "Cranbourne"
          ],
          [
           "Primary",
           "Derrimut"
          ],
          [
           "Primary",
           "Epping"
          ],
          [
           "Primary",
           "Echuca"
          ],
          [
           "Primary",
           "Cranbourne East"
          ],
          [
           "Primary",
           "Lyndhurst"
          ],
          [
           "Primary",
           "Craigieburn"
          ],
          [
           "Primary",
           "Reservoir"
          ],
          [
           "Primary",
           "Broadmeadows"
          ],
          [
           "Primary",
           "Mernda"
          ],
          [
           "Primary",
           "Sunshine"
          ],
          [
           "Primary",
           "Pakenham"
          ],
          [
           "Primary",
           "Blackburn North"
          ],
          [
           "Primary",
           "Golden Square"
          ],
          [
           "Primary",
           "Lalor"
          ],
          [
           "Primary",
           "Keysborough"
          ],
          [
           "Primary",
           "Springvale South"
          ],
          [
           "Primary",
           "Dandenong North"
          ],
          [
           "Primary",
           "Springvale South"
          ],
          [
           "Primary",
           "Springvale"
          ],
          [
           "Primary",
           "Springvale"
          ],
          [
           "Primary",
           "Keilor Downs"
          ],
          [
           "Primary",
           "Werribee"
          ],
          [
           "Primary",
           "Bendigo"
          ],
          [
           "Primary",
           "Glenroy"
          ],
          [
           "Primary",
           "Reservoir"
          ],
          [
           "Primary",
           "Craigieburn"
          ],
          [
           "Primary",
           "Dallas"
          ],
          [
           "Primary",
           "Horsham"
          ],
          [
           "Primary",
           "Wyndham Vale"
          ],
          [
           "Primary",
           "Epping"
          ],
          [
           "Primary",
           "Cranbourne North"
          ],
          [
           "Primary",
           "Coolaroo"
          ],
          [
           "Primary",
           "Torquay"
          ],
          [
           "Primary",
           "Harkness"
          ],
          [
           "Primary",
           "Clyde North"
          ],
          [
           "Primary",
           "Southbank"
          ],
          [
           "Primary",
           "Cranbourne West"
          ],
          [
           "Primary",
           "Pakenham"
          ],
          [
           "Primary",
           "Albert Park"
          ],
          [
           "Primary",
           "Officer"
          ],
          [
           "Primary",
           "Armstrong Creek"
          ],
          [
           "Primary",
           "Aireys Inlet"
          ],
          [
           "Primary",
           "Craigieburn"
          ],
          [
           "Primary",
           "Morwell"
          ],
          [
           "Primary",
           "Doreen"
          ],
          [
           "Primary",
           "Cranbourne East"
          ],
          [
           "Primary",
           "Mount Duneed"
          ],
          [
           "Primary",
           "Keysborough"
          ],
          [
           "Primary",
           "Docklands"
          ],
          [
           "Primary",
           "Truganina"
          ],
          [
           "Primary",
           "Aintree"
          ],
          [
           "Primary",
           "Mickleham"
          ],
          [
           "Primary",
           "Donnybrook"
          ],
          [
           "Primary",
           "Deanside"
          ],
          [
           "Primary",
           "Mickleham"
          ],
          [
           "Primary",
           "Wyndham Vale"
          ],
          [
           "Primary",
           "Clyde North"
          ],
          [
           "Primary",
           "Wollert"
          ],
          [
           "Primary",
           "Strathtulloh"
          ],
          [
           "Primary",
           "Kalkallo"
          ],
          [
           "Primary",
           "Wollert"
          ],
          [
           "Primary",
           "Gisborne"
          ],
          [
           "Primary",
           "Clyde"
          ],
          [
           "Primary",
           "Wollert"
          ],
          [
           "Primary",
           "Cranbourne West"
          ],
          [
           "Primary",
           "Manor Lakes"
          ],
          [
           "Primary",
           "Werribee"
          ],
          [
           "Primary",
           "Officer"
          ],
          [
           "Primary",
           "Thornhill Park"
          ],
          [
           "Primary",
           "Tarneit"
          ],
          [
           "Primary",
           "Tarneit"
          ],
          [
           "Primary",
           "Clyde North"
          ],
          [
           "Primary",
           "Mambourin"
          ],
          [
           "Primary",
           "Brookfield"
          ],
          [
           "Primary",
           "Kalkallo"
          ],
          [
           "Primary",
           "Officer"
          ],
          [
           "Primary",
           "Tarneit"
          ],
          [
           "Primary",
           "Truganina"
          ],
          [
           "Primary",
           "Clyde North"
          ],
          [
           "Primary",
           "Tarneit"
          ],
          [
           "Primary",
           "Pakenham"
          ],
          [
           "Primary",
           "Clyde North"
          ],
          [
           "Primary",
           "Alvie"
          ],
          [
           "Primary",
           "Boisdale"
          ],
          [
           "Primary",
           "Cobram"
          ],
          [
           "Primary",
           "Cohuna"
          ],
          [
           "Primary",
           "Dunkeld"
          ],
          [
           "Primary",
           "Foster"
          ],
          [
           "Primary",
           "Heywood"
          ],
          [
           "Primary",
           "Tangambalanga"
          ],
          [
           "Primary",
           "Lockington"
          ],
          [
           "Primary",
           "Merino"
          ],
          [
           "Primary",
           "Pakenham"
          ],
          [
           "Primary",
           "Poowong"
          ],
          [
           "Primary",
           "Port Fairy"
          ],
          [
           "Primary",
           "Red Hill"
          ],
          [
           "Primary",
           "Tongala"
          ],
          [
           "Primary",
           "Tarneit"
          ],
          [
           "Primary",
           "Caroline Springs"
          ],
          [
           "Primary",
           "TARRINGTON"
          ],
          [
           "Primary",
           "SOUTH YARRA"
          ],
          [
           "Primary",
           "NUNAWADING"
          ],
          [
           "Primary",
           "DIMBOOLA"
          ],
          [
           "Primary",
           "COTTLES BRIDGE"
          ],
          [
           "Primary",
           "ELSTERNWICK"
          ],
          [
           "Primary",
           "ST HELENA"
          ],
          [
           "Primary",
           "CROYDON HILLS"
          ],
          [
           "Primary",
           "PORTLAND"
          ],
          [
           "Primary",
           "FITZROY NORTH"
          ],
          [
           "Primary",
           "CROYDON NORTH"
          ],
          [
           "Primary",
           "SUNSHINE NORTH"
          ],
          [
           "Primary",
           "KILSYTH"
          ],
          [
           "Primary",
           "SWAN HILL"
          ],
          [
           "Primary",
           "HAWTHORN"
          ],
          [
           "Primary",
           "RESERVOIR"
          ],
          [
           "Primary",
           "EMERALD"
          ],
          [
           "Primary",
           "MT HELEN"
          ],
          [
           "Primary",
           "FRESHWATER CREEK"
          ],
          [
           "Primary",
           "BEECHWORTH"
          ],
          [
           "Primary",
           "NORTH FITZROY"
          ],
          [
           "Primary",
           "DAYLESFORD"
          ],
          [
           "Primary",
           "KOONWARRA"
          ],
          [
           "Primary",
           "BAIRNSDALE"
          ],
          [
           "Primary",
           "SPRINGVALE SOUTH"
          ],
          [
           "Primary",
           "WILLIAMSTOWN"
          ],
          [
           "Primary",
           "VENTNOR"
          ],
          [
           "Primary",
           "CLAYTON SOUTH"
          ],
          [
           "Primary",
           "CLYDE NORTH"
          ],
          [
           "Primary",
           "CERES"
          ],
          [
           "Primary",
           "NARRE WARREN NORTH"
          ],
          [
           "Primary",
           "NEWPORT"
          ]
         ],
         "hovertemplate": "<b>%{hovertext}</b><br><br>School_Type=%{customdata[0]}<br>Y=%{lat}<br>X=%{lon}<br>Address_Town=%{customdata[1]}<extra></extra>",
         "hovertext": [
          "St Patrick's School",
          "St Alipius' Parish School",
          "St Mary's School",
          "Sacred Heart School",
          "St Mary's School",
          "St Michael’s Primary School",
          "St Patrick's School",
          "St Mary's School",
          "St Brendan's School",
          "St Augustine's School",
          "St Mary's School",
          "St Aloysius' School",
          "St Joseph's School",
          "St Joseph's School",
          "Sacred Heart School",
          "Sacred Heart School",
          "St Michael's School",
          "St Brendan's School",
          "St Mary's School",
          "St Mary's Primary School",
          "St Patrick's Primary School",
          "St Brigid's School",
          "St Patrick's School",
          "St Mary's School",
          "St Augustine's School",
          "St Monica's School",
          "St Joseph's School",
          "St Patrick's School",
          "St James' School",
          "St Peter's School",
          "St Liborius' School",
          "St Mary's School",
          "St Ambrose's School",
          "St Joseph's School",
          "Sacred Heart School",
          "St Paul's School",
          "St Andrew's School",
          "St Brigid's School",
          "Our Lady of Mount Carmel School",
          "St Joseph's School",
          "St Mary's School",
          "St Mary's School",
          "St Patrick's School",
          "Sacred Heart Primary School",
          "St Joseph's School",
          "Sacred Heart School",
          "St Bernard's School",
          "St Patrick's School",
          "Sacred Heart School",
          "St Monica's School",
          "St Augustine's School",
          "Ss Michael and John's Primary School",
          "St Mary's School",
          "St Joseph's School",
          "St Joseph's School",
          "St Mary's School",
          "St Patrick's School",
          "St Monica's Primary School",
          "St Patrick's School",
          "St Joseph's School",
          "St Mary's School",
          "St Mary's School",
          "Sacred Heart School",
          "St Mary's School",
          "St Patrick's School",
          "St Joseph's School",
          "All Saints Parish School",
          "Our Holy Redeemer School",
          "Our Lady of the Sacred Heart Primary",
          "St Joseph's School",
          "St Joseph's School",
          "St Patrick's School",
          "St Michael's School",
          "St Mary's School",
          "St Kilian's School",
          "St Augustine's School",
          "St Patrick's School",
          "St Patrick's School",
          "St Thomas' School",
          "St Joseph's School",
          "St Joseph's School",
          "St John's School",
          "St Joseph's School",
          "St Brigid's School",
          "St Columba's School",
          "Our Lady Help of Christians School",
          "St Anthony's School",
          "St Mary's School",
          "Sacred Heart School",
          "St Joseph's School",
          "St Mary's School",
          "St Joseph's School",
          "St Margaret Mary's School",
          "St Francis Xavier School",
          "St Laurence O'Toole School",
          "St Joseph's School",
          "St Brigid's School",
          "St James School",
          "St Mary's School",
          "Holy Rosary School",
          "St Aloysius' School",
          "St Anthony's School",
          "St Joseph's School",
          "St Mary's School",
          "Holy Rosary School",
          "St Columba's School",
          "Our Lady of the Rosary",
          "St Mary's School",
          "St Mary's School",
          "St Brendan's School",
          "Our Lady of the Immaculate Conception School",
          "St Mary's School",
          "St John's School",
          "St Joan of Arc School",
          "St John's School",
          "St John's School",
          "St Joseph's School",
          "Mary Immaculate School",
          "St Joseph's School",
          "Our Lady of Lourdes School",
          "St Joseph's School",
          "St Mary's School",
          "St Therese's School",
          "Sacred Heart School",
          "Our Lady of Good Counsel School",
          "St Joseph's School",
          "St Finbar's School",
          "St Dominic's School",
          "St Mary's School",
          "Holy Rosary School",
          "St Mary's School",
          "St Joseph's School",
          "St Fidelis' School",
          "St Francis Xavier's School",
          "St Mary's School",
          "Our Lady Help of Christians School",
          "Our Lady of the Sacred Heart School",
          "St Francis Xavier School",
          "St Gabriel's School",
          "St Paul's School",
          "St Patrick's School",
          "St Joseph's School",
          "St Patrick's School",
          "St Roch's School",
          "St Anne's School",
          "Our Lady of Perpetual Help School",
          "St Francis Xavier Primary School",
          "St Joseph's School",
          "St Cecilia's School",
          "St Joseph's School",
          "St Joseph's School",
          "St Peter's School",
          "Sacred Heart School",
          "St Mark's School",
          "St John the Baptist School",
          "St John's School",
          "St Mary's School",
          "St Raphael's School",
          "St John the Baptist's School",
          "St Vincent de Paul's School",
          "St Joseph's School",
          "Holy Name School",
          "St Bernard's School",
          "St Oliver Plunkett's School",
          "Corpus Christi School",
          "St Robert's School",
          "St Michael's School",
          "St Mary's School",
          "St Bede's School",
          "St Patrick's School",
          "St Margaret's School",
          "St Kieran's School",
          "St Theresa's School",
          "St Bernadette's School",
          "St Colman's School",
          "St Agnes' School",
          "Our Lady of the Assumption School",
          "Sacred Heart School",
          "St Malachy's School",
          "St Mary's School",
          "Holy Spirit School",
          "Sacred Heart School",
          "St Thomas The Apostle School",
          "St Mary's School",
          "St Michael's School",
          "St Thomas Aquinas School",
          "St Pius X School",
          "St Margaret Mary's School",
          "St Anthony's School",
          "St Peter's School",
          "St Joseph's School",
          "St John Bosco's School",
          "Holy Family School",
          "Holy Spirit Parish School",
          "St Mary's School",
          "Mother of God School",
          "St Peter Chanel School",
          "Christ the King Primary School",
          "Corpus Christi School",
          "St Paul's School",
          "Stella Maris School",
          "St Therese's School",
          "St Bernadette's School",
          "St James' School",
          "Sacred Heart School",
          "St Margaret's Primary School",
          "Immaculate Heart of Mary School",
          "Holy Family School",
          "St Gerard's School",
          "St Mel's School",
          "Our Lady of Perpetual Succour School",
          "St Catherine's School",
          "St Vincent de Paul's School",
          "St Mary's School",
          "St Joseph's School",
          "St Brendan's School",
          "St Martin of Tours School",
          "St Michael's School",
          "Christ Our Holy Redeemer School",
          "Our Lady of the Nativity School",
          "Our Lady's School",
          "St Dominic's School",
          "St Patrick's School",
          "St Leonard's School",
          "St Scholastica's School",
          "St Christopher's School",
          "St John Vianney's School",
          "Ss Peter & Paul's School",
          "Holy Family School",
          "St Matthew's School",
          "St John Vianney's School",
          "St Luke's School",
          "St Francis de Sales School",
          "St Thomas More's School",
          "St Pius X School",
          "St Christopher's School",
          "Sacred Heart School",
          "Sacred Heart School",
          "St Michael's School",
          "Our Lady of the Way School",
          "St Luke the Evangelist School",
          "St Bernard's School",
          "Our Lady Help of Christians School",
          "Our Lady Help of Christians School",
          "St Clement of Rome School",
          "St Joseph's Primary School",
          "Sacred Heart School",
          "Our Lady of Lourdes School",
          "Annunciation School",
          "St Louis de Montfort's School",
          "St Thomas More's School",
          "St Philip's School",
          "Holy Child School",
          "St Peter Julian Eymard",
          "St Damian's School",
          "Christ the King School",
          "St Mary's School",
          "St Macartan's School",
          "St John's School",
          "St Anne's School",
          "St Martin de Porres School",
          "St Gregory the Great School",
          "St Kevin's School",
          "St James' School",
          "Good Shepherd School",
          "St Thomas' School",
          "St Leo the Great Primary School",
          "St Peter's School",
          "Our Lady Help of Christians School",
          "St Martin de Porres School",
          "St Jude the Apostle School",
          "St Monica's School",
          "St Peter's School",
          "St Mark's School",
          "Holy Eucharist School",
          "St Paul's Primary School",
          "St Peter Apostle School",
          "St John XXIII Primary School",
          "School of the Good Shepherd",
          "St Agatha's School",
          "Resurrection School",
          "St Dominic's School",
          "St Francis Xavier School",
          "Holy Spirit School",
          "Lumen Christi School",
          "St Clare's School",
          "St Anne's School",
          "Our Lady of the Pines School",
          "St Jude's School",
          "St Paul's Kealba Catholic School",
          "St Elizabeth's School",
          "St Joseph the Worker School",
          "Resurrection School",
          "Nazareth School",
          "St Augustine's Primary School",
          "St Anthony's School",
          "St Thomas the Apostle School",
          "St Luke's School",
          "St Peter's School",
          "St Thomas More School",
          "St Mary's School",
          "St Anne's School",
          "St Gabriel's School",
          "Our Lady's School",
          "St Augustine's School",
          "St Francis of Assisi School",
          "St Paul Apostle South School",
          "St Andrew's School",
          "St Thomas More's School",
          "St Francis' School",
          "St James the Apostle School",
          "St Simon's School",
          "Queen of Peace Primary School",
          "Don Bosco School",
          "Our Lady Star of the Sea School",
          "St Bernadette's Catholic Primary School",
          "St Catherine's School",
          "St Anthony's School",
          "St Mary's School",
          "St Charles Borromeo School",
          "St Mary MacKillop Primary School",
          "St Catherine of Siena School",
          "St Paul's School",
          "Our Lady of Fatima School",
          "St Justin's School",
          "St Richard's Primary School",
          "Holy Trinity School",
          "St Paul Apostle North School",
          "Corpus Christi School",
          "St Therese School",
          "St Joachim's School",
          "Holy Trinity Primary School",
          "St Carlo Borromeo School",
          "St Kevin's School",
          "St Therese's School",
          "St Ita's School",
          "Lumen Christi School",
          "St Francis of the Fields School",
          "Galilee Regional Catholic Primary School",
          "St Brendan's School",
          "Mary MacKillop School",
          "Bethany Catholic Primary School",
          "Good Samaritan Catholic Primary School",
          "Holy Cross Primary School",
          "St Catherine's Primary School",
          "Emmaus Catholic Primary School",
          "St Thomas Primary School",
          "Clairvaux Catholic School",
          "Christ the Priest Catholic Primary School",
          "Lumen Christi School",
          "Trinity Catholic Primary School",
          "Columba Catholic School",
          "Cana Catholic Primary School",
          "St Luke's Catholic Primary School",
          "St Francis of Assisi Primary School, Wodonga",
          "Stella Maris Catholic Primary School",
          "Trinity Catholic School",
          "Emmaus Catholic Primary School",
          "Mother Teresa School",
          "Our Lady of the Southern Cross",
          "St George Preca School",
          "St Joseph's School",
          "St Brigid's School",
          "St Francis de Sales Catholic Primary School",
          "St Lawrence Catholic Primary School",
          "St Francis of Assisi Catholic Primary School",
          "St Mary of the Cross MacKillop Catholic Parish Primary School",
          "St Mary of the Cross Catholic Primary School",
          "St Thomas the Apostle Catholic Primary School",
          "St John the Apostle Catholic Primary School",
          "St Clare's Catholic Primary School",
          "St Clare's Primary School",
          "St Paul the Apostle Catholic Primary School",
          "Siena Catholic Primary School",
          "Oscar Romero Catholic Primary School",
          "St Mary MacKillop Catholic Primary School",
          "Our Lady of the Way Catholic Primary School",
          "Lisieux Catholic Primary School",
          "Our Lady Star of the Sea Catholic Primary School",
          "Holy Trinity Catholic Primary School",
          "Glowrey Catholic Primary School",
          "St Catherine of Siena Catholic Primary School",
          "St Joseph’s Catholic Primary School",
          "St Angela of the Cross Primary School",
          "St Lawrence of Brindisi Catholic Primary School",
          "Holy Cross Catholic Primary School",
          "Mary Queen of Heaven Catholic Primary School",
          "St Teresa of Kolkata Catholic Primary School",
          "St Josephine Bakhita Catholic Primary School",
          "Carlo Acutis Catholic Primary School",
          "Alberton Primary School",
          "Allansford and District Primary School",
          "Avoca Primary School",
          "Avenel Primary School",
          "Warrandyte Primary School",
          "Belmont Primary School",
          "Bacchus Marsh Primary School",
          "Ballarat Primary School (Dana Street)",
          "Wodonga Primary School",
          "Berwick Primary School",
          "Beaufort Primary School",
          "Cheltenham Primary School",
          "Cudgee Primary School",
          "Newport Lakes Primary School",
          "Cavendish Primary School",
          "Colac Primary School",
          "Castlemaine Primary School",
          "Campbells Creek Primary School",
          "Creswick Primary School",
          "California Gully Primary School",
          "St Andrews Primary School",
          "Warrnambool West Primary School",
          "Dromana Primary School",
          "Doncaster Primary School",
          "Echuca Primary School",
          "Eltham Primary School",
          "Eaglehawk Primary School",
          "Elphinstone Primary School",
          "Hallam Primary School",
          "Flemington Primary School",
          "Footscray Primary School",
          "Gisborne Primary School",
          "Sandringham Primary School",
          "Wandiligong Primary School",
          "Grovedale Primary School",
          "Hawthorn West Primary School",
          "Heidelberg Primary School",
          "Hamilton (Gray Street) Primary School",
          "Heathcote Primary School",
          "Highton Primary School",
          "Huntly Primary School",
          "Bellbrae Primary School",
          "Chiltern Primary School",
          "Kyneton Primary School",
          "Romsey Primary School",
          "Shelford Primary School",
          "Lockwood South Primary School",
          "Marong Primary School",
          "Mount Macedon Primary School",
          "Mount Clear Primary School",
          "Melton Primary School",
          "Fitzroy Primary School",
          "Newstead Primary School",
          "Newlyn Primary School",
          "Burwood East Primary School",
          "New Gisborne Primary School",
          "Beeac Primary School",
          "Essendon Primary School",
          "Coburg Primary School",
          "Penshurst Primary School",
          "Myrniong Primary School",
          "Mernda Primary School",
          "Portland Primary School",
          "Stawell Primary School",
          "Rutherglen Primary School",
          "Riddells Creek Primary School",
          "Rokewood Primary School",
          "Geelong East Primary School",
          "Sale Primary School",
          "Skipton Primary School",
          "South Yarra Primary School",
          "Stratford Primary School",
          "Taradale Primary School",
          "Koroit And District Primary School",
          "Tylden Primary School",
          "Thomastown Primary School",
          "Wangaratta Primary School",
          "Wahgunyah Primary School",
          "Woodend Primary School",
          "Woodford Primary School",
          "Werribee Primary School",
          "Winters Flat Primary School",
          "Wooragee Primary School",
          "Wallan Primary School",
          "Woolsthorpe Primary School",
          "Yandoit Primary School",
          "Yarram Primary School",
          "Pleasant Street Primary School (Ballarat)",
          "Yea Primary School",
          "Lancefield Primary School",
          "Coimadai Primary School",
          "Birregurra Primary School",
          "Clayton North Primary School",
          "Milawa Primary School",
          "Lockwood Primary School",
          "Bealiba Primary School",
          "Bairnsdale Primary School",
          "Gordon Primary School",
          "Hepburn Primary School",
          "Lara Lake Primary School",
          "Rosedale Primary School",
          "Rochester Primary School",
          "Ararat Primary School",
          "Jamieson Primary School",
          "Preston South Primary School",
          "Omeo Primary School",
          "Harrietville Primary School",
          "Mordialloc Beach Primary School",
          "Healesville Primary School",
          "Toongabbie Primary School",
          "Waubra Primary School",
          "Great Western Primary School",
          "Maffra Primary School",
          "Broken Creek Primary School",
          "Lal Lal Primary School",
          "Cobden Primary School",
          "St Leonards Primary School",
          "Lilydale Primary School",
          "Bendigo Primary School",
          "Darraweit Guim Primary School",
          "Linton Primary School",
          "Invermay Primary School",
          "Mitta Mitta Primary School",
          "Camberwell Primary School",
          "Greenvale Primary School",
          "Alexandra Primary School",
          "Rockbank Primary School",
          "Doreen Primary School",
          "Talbot Primary School",
          "Yarra Glen Primary School",
          "Kangaroo Flat Primary School",
          "Westmeadows Primary School",
          "Sunbury Primary School",
          "Diamond Creek Primary School",
          "Hesket Primary School",
          "Axedale Primary School",
          "Vermont Primary School",
          "Tarnagulla Primary School",
          "Balwyn Primary School",
          "Scoresby Primary School",
          "Carisbrook Primary School",
          "Wandin Yallock Primary School",
          "Yering Primary School",
          "Dartmoor Primary School",
          "Mickleham Primary School",
          "Inglewood Primary School",
          "Chewton Primary School",
          "Bolinda Primary School",
          "Napoleons Primary School",
          "Kew Primary School",
          "Haddon Primary School",
          "Sorrento Primary School",
          "Alfredton Primary School",
          "Bridgewater Primary School",
          "Hastings Primary School",
          "Yackandandah Primary School",
          "Nagambie Primary School",
          "Heyfield Primary School",
          "Moorabbin Primary School",
          "Mansfield Primary School",
          "Middle Indigo Primary School",
          "Briagolong Primary School",
          "Lindenow Primary School",
          "Broadford Primary School",
          "Murchison Primary School",
          "Panton Hill Primary School",
          "Glen Park Primary School",
          "Concongella Primary School",
          "Bruthen Primary School",
          "Swan Hill Primary School",
          "Porepunkah Primary School",
          "Leopold Primary School",
          "Inverleigh Primary School",
          "Glen Iris Primary School",
          "Trawalla Primary School",
          "Quarry Hill Primary School",
          "Sebastopol Primary School",
          "Woodside Primary School",
          "Noorat Primary School",
          "Albert Park Primary School",
          "Williamstown Primary School",
          "Boneo Primary School",
          "Queenscliff Primary School",
          "Portland North Primary School",
          "Timor Primary School",
          "Apsley Primary School",
          "Strathfieldsaye Primary School",
          "Skye Primary School",
          "Lucknow Primary School",
          "Upper Plenty Primary School",
          "Carlton North Primary School",
          "Maldon Primary School",
          "Woori Yallock Primary School",
          "Moyston Primary School",
          "Buninyong Primary School",
          "Marysville Primary School",
          "Langley Primary School",
          "Wandong Primary School",
          "Cowes Primary School",
          "Bullarto Primary School",
          "Lismore Primary School",
          "Lower Plenty Primary School",
          "Specimen Hill Primary School",
          "Bolwarra Primary School",
          "Navarre Primary School",
          "Warracknabeal Primary School",
          "Moyhu Primary School",
          "Natte Yallock Primary School",
          "Clifton Hill Primary School",
          "Christmas Hills Primary School",
          "Tallangatta Primary School",
          "Kialla Central Primary School",
          "Mount Eliza Primary School",
          "San Remo Primary School",
          "Dimboola Primary School",
          "Whorouly Primary School",
          "Merrijig Primary School",
          "Lethbridge Primary School",
          "Oxley Primary School",
          "Northcote Primary School",
          "North Melbourne Primary School",
          "Dandenong Primary School",
          "Malmsbury Primary School",
          "Williamstown North Primary School",
          "Kerang Primary School",
          "Drouin West Primary School",
          "Meredith Primary School",
          "Eaglehawk North Primary School",
          "Mooroopna Primary School",
          "Cairnlea Park Primary School",
          "Ballan Primary School",
          "Mount Pleasant Primary School",
          "Tatura Primary School",
          "Toolamba Primary School",
          "Harston Primary School",
          "Osbornes Flat Primary School",
          "Frankston Primary School",
          "Donald Primary School",
          "Beveridge Primary School",
          "St Kilda Primary School",
          "Cape Clear Primary School",
          "Warburton Primary School",
          "Tallarook Primary School",
          "Barnawartha Primary School",
          "Fitzroy North Primary School",
          "Ashby Primary School",
          "Preston Primary School",
          "Tooradin Primary School",
          "Glenferrie Primary School",
          "Elmore Primary School",
          "Dookie Primary School",
          "Brighton Primary School",
          "Natimuk Primary School",
          "Big Hill Primary School",
          "Clunes Primary School",
          "Marnoo Primary School",
          "Beechworth Primary School",
          "Ardmona Primary School",
          "Kilmore Primary School",
          "Macarthur Primary School",
          "Barwon Heads Primary School",
          "Keilor Primary School",
          "Dunolly Primary School",
          "Springhurst Primary School",
          "Trentham District Primary School",
          "Warrenheip Primary School",
          "Maiden Gully Primary School",
          "Rupanyup Primary School",
          "Goornong Primary School",
          "Oakleigh Primary School",
          "Ceres Primary School",
          "Malvern Central School",
          "Daylesford Primary School",
          "Mooroopna North Primary School",
          "Swan Reach Primary School",
          "Amphitheatre Primary School",
          "Deans Marsh Primary School",
          "Drysdale Primary School",
          "St Arnaud Primary School",
          "Nullawarre and District Primary School",
          "Macedon Primary School",
          "Arthurs Creek Primary School",
          "Rye Primary School",
          "Buxton Primary School",
          "Moonambel Primary School",
          "Longford Primary School",
          "Harkaway Primary School",
          "Balnarring Primary School",
          "Carraragarmungee Primary School",
          "Euroa Primary School",
          "Shepparton East Primary School",
          "Nicholson Primary School",
          "Kialla West Primary School",
          "Miners Rest Primary School",
          "Glenrowan Primary School",
          "Warrnambool Primary School",
          "Undera Primary School",
          "Dederang Primary School",
          "Eppalock Primary School",
          "Silvan Primary School",
          "Wendouree Primary School",
          "Lancaster Primary School",
          "Raywood Primary School",
          "Puckapunyal Primary School",
          "Landsborough Primary School",
          "Lysterfield Primary School",
          "Winton Primary School",
          "Merrigum Primary School",
          "Bethanga Primary School",
          "Abbotsford Primary School",
          "Newtown Primary School",
          "Windsor Primary School",
          "Narre Warren North Primary School",
          "Buchan Primary School",
          "Anakie Primary School",
          "Moolap Primary School",
          "Footscray City Primary School",
          "Newham Primary School",
          "Plenty Parklands Primary School",
          "White Hills Primary School",
          "Mount Egerton Primary School",
          "Drouin Primary School",
          "Wunghnu Primary School",
          "Maroona Primary School",
          "Jindivick Primary School",
          "Talgarno Primary School",
          "Bungaree Primary School",
          "Little River Primary School",
          "Cowwarr Primary School",
          "Morang South Primary School",
          "Camp Hill Primary School",
          "Pyalong Primary School",
          "Winchelsea Primary School",
          "Buln Buln Primary School",
          "Macarthur Street Primary School",
          "Elliminyt Primary School",
          "Mornington Primary School",
          "Hamilton North Primary School",
          "Mount Blowhard Primary School",
          "Creswick North Primary School",
          "Black Hill Primary School",
          "Brighton Beach Primary School",
          "Castlemaine North Primary School",
          "Yarrambat Primary School",
          "Casterton Primary School",
          "Nathalia Primary School",
          "Chilwell Primary School",
          "Greensborough Primary School",
          "Teesdale Primary School",
          "Cranbourne Primary School",
          "Katamatite Primary School",
          "Buangor Primary School",
          "Leitchville Primary School",
          "Whittlesea Primary School",
          "Little Bendigo Primary School",
          "Newington Primary School",
          "Warragul Primary School",
          "Kangaroo Ground Primary School",
          "Traralgon South Primary School",
          "Coleraine Primary School",
          "Ripplebrook Primary School",
          "Numurkah Primary School",
          "Moe (Albert Street) Primary School",
          "Geelong South Primary School",
          "Bayswater Primary School",
          "Minyip Primary School",
          "Mulgrave Primary School",
          "Yarragon Primary School",
          "Tyers Primary School",
          "Trafalgar Primary School",
          "Kinglake Primary School",
          "Ellinbank Primary School",
          "Tambo Upper Primary School",
          "Baranduda Primary School",
          "Tungamah Primary School",
          "Bunyip Primary School",
          "Gunbower Primary School",
          "Nar Nar Goon Primary School",
          "Toora Primary School",
          "Montrose Primary School",
          "Koondrook Primary School",
          "Magpie Primary School",
          "Tawonga Primary School",
          "Narracan Primary School",
          "Drouin South Primary School",
          "Eskdale Primary School",
          "Darnum Primary School",
          "Moorooduc Primary School",
          "The Basin Primary School",
          "Paynesville Primary School",
          "Epsom Primary School",
          "Kensington Primary School",
          "Hazelwood North Primary School",
          "Mirboo North Primary School",
          "Yinnar Primary School",
          "Neerim South Primary School",
          "Ivanhoe Primary School",
          "Portarlington Primary School",
          "Menzies Creek Primary School",
          "St Kilda Park Primary School",
          "Labertouche Primary School",
          "Diggers Rest Primary School",
          "Longwarry Primary School",
          "Gembrook Primary School",
          "Wurruk Primary School",
          "Willow Grove Primary School",
          "Hoddles Creek Primary School",
          "Beaconsfield Upper Primary School",
          "Congupna Primary School",
          "Redesdale Mia Mia Primary School",
          "Malvern Primary School",
          "Launching Place Primary School",
          "Carlton Gardens Primary School",
          "Ascot Vale Primary School",
          "Boolarra Primary School",
          "Rosebud Primary School",
          "Koo Wee Rup Primary School",
          "Armadale Primary School",
          "Osborne Primary School",
          "Somerville Primary School",
          "Willaura Primary School",
          "Echuca East Primary School",
          "Lakes Entrance Primary School",
          "Myrrhee Primary School",
          "Longwood Primary School",
          "Forrest Primary School",
          "Fairfield Primary School",
          "Nilma Primary School",
          "Garfield Primary School",
          "Yinnar South Primary School",
          "Officer Primary School",
          "Brunswick South Primary School",
          "Inverloch Primary School",
          "Surrey Hills Primary School",
          "Strathmerton Primary School",
          "Walwa Primary School",
          "Middle Park Primary School",
          "Seville Primary School",
          "Yarraville West Primary School",
          "Merri-bek Primary School",
          "Tanjil South Primary School",
          "Pomonal Primary School",
          "Elsternwick Primary School",
          "Glengarry Primary School",
          "Carnegie Primary School",
          "Lang Lang Primary School",
          "Croydon Primary School",
          "Moonee Ponds West Primary School",
          "Mitcham Primary School",
          "Loch Primary School",
          "Mildura Primary School",
          "Blackburn Primary School",
          "Newmerella Primary School",
          "Port Melbourne Primary School",
          "Auburn Primary School",
          "Mentone Primary School",
          "Princes Hill Primary School",
          "Research Primary School",
          "Pearcedale Primary School",
          "Lindenow South Primary School",
          "Thorpdale Primary School",
          "St Albans Primary School",
          "Leongatha Primary School",
          "Jeparit Primary School",
          "Toorak Primary School",
          "Baxter Primary School",
          "Fish Creek and District Primary School",
          "Beaconsfield Primary School",
          "Metung Primary School",
          "Newhaven Primary School",
          "Halls Gap Primary School",
          "Tallygaroopna Primary School",
          "Ormond Primary School",
          "Korumburra Primary School",
          "Crib Point Primary School",
          "Pascoe Vale Primary School",
          "Flowerdale Primary School",
          "Ocean Grove Primary School",
          "Beulah Primary School",
          "Merri Creek Primary School",
          "Sunshine Primary School",
          "Tyabb Primary School",
          "Wales Street Primary School",
          "Upper Sandy Creek Primary School",
          "Spensley Street Primary School",
          "Kew East Primary School",
          "Nichols Point Primary School",
          "Irymple Primary School",
          "Brunswick East Primary School",
          "Eagle Point Primary School",
          "Yarra Junction Primary School",
          "Sassafras Primary School",
          "Ferny Creek Primary School",
          "Toolangi Primary School",
          "Wonga Park Primary School",
          "Kinglake West Primary School",
          "Perseverance Primary School",
          "Monbulk Primary School",
          "Lake Boga Primary School",
          "Chum Creek Primary School",
          "Mount Dandenong Primary School",
          "Badger Creek Primary School",
          "Middle Kinglake Primary School",
          "Point Lonsdale Primary School",
          "Kongwak Primary School",
          "Clarinda Primary School",
          "Chelsea Heights Primary School",
          "Wallington Primary School",
          "Tecoma Primary School",
          "Torquay P-6 College",
          "Emerald Primary School",
          "Carrum Primary School",
          "Nyora Primary School",
          "Exford Primary School",
          "Mount Waverley Primary School",
          "Marlo Primary School",
          "Murrumbeena Primary School",
          "Wesburn Primary School",
          "Koorlong Primary School",
          "Warranwood Primary School",
          "Willowmavin Primary School",
          "Olinda Primary School",
          "Carlisle River Primary School",
          "Spring Gully Primary School",
          "Langwarrin Primary School",
          "Cockatoo Primary School",
          "Tyabb Railway Station Primary School",
          "Belgrave South Primary School",
          "Sydenham - Hillside Primary School",
          "Canterbury Primary School",
          "The Lake Primary School",
          "Grey Street Primary School (Traralgon)",
          "Brunswick North Primary School",
          "Fawkner Primary School",
          "Alphington Primary School",
          "Bona Vista Primary School",
          "Banyan Fields Primary School",
          "Norris Bank Primary School",
          "Macclesfield Primary School",
          "Black Rock Primary School",
          "Mount Evelyn Primary School",
          "Kilsyth Primary School",
          "Wonthaggi Primary School",
          "Spotswood Primary School",
          "Clyde Primary School",
          "Noble Park Primary School",
          "Deepdene Primary School",
          "Clifton Creek Primary School",
          "Kennington Primary School",
          "Cardinia Primary School",
          "Grahamvale Primary School",
          "Irymple South Primary School",
          "Glen Huntly Primary School",
          "Nanneella Estate Primary School",
          "Wantirna Primary School",
          "Wonthaggi North Primary School",
          "Melton South Primary School",
          "Chelsea Primary School",
          "Hampton Primary School",
          "Balliang East Primary School",
          "Edithvale Primary School",
          "Orrvale Primary School",
          "Penders Grove Primary School",
          "Underbool Primary School",
          "Caulfield Junior College",
          "Seaford Primary School",
          "Wattle Park Primary School",
          "Murrabit Group School",
          "Preston West Primary School",
          "Thornbury Primary School",
          "Footscray West Primary School",
          "Wandin North Primary School",
          "Gardenvale Primary School",
          "Beaumaris Primary School",
          "Altona Primary School",
          "Devon Meadows Primary School",
          "Upper Ferntree Gully Primary School",
          "Eildon Primary School",
          "Bittern Primary School",
          "Colbinabbin Primary School",
          "Stanhope Primary School",
          "Hurstbridge Primary School",
          "Coburg West Primary School",
          "Elwood Primary School",
          "Mont Albert Primary School",
          "Strathewen Primary School",
          "Don Valley Primary School",
          "Reservoir Primary School",
          "Yallourn North Primary School",
          "Toorloo Arm Primary School",
          "Girgarre Primary School",
          "Gladysdale Primary School",
          "Mildura West Primary School",
          "Moonee Ponds Primary School",
          "Kingsville Primary School",
          "Kallista Primary School",
          "Essendon North Primary School",
          "Ascot Vale West Primary School",
          "Hartwell Primary School",
          "Red Cliffs Primary School",
          "Wattle Glen Primary School",
          "Hampton Park Primary School",
          "Colac West Primary School",
          "Ripponlea Primary School",
          "Montmorency Primary School",
          "Moriac Primary School",
          "Ringwood North Primary School",
          "Red Cliffs East Primary School",
          "Lloyd Street Primary School",
          "Bayswater North Primary School",
          "Westbreen Primary School",
          "Footscray North Primary School",
          "Airly Primary School",
          "Camberwell South Primary School",
          "Parkdale Primary School",
          "Hughesdale Primary School",
          "Westgarth Primary School",
          "Auburn South Primary School",
          "Aspendale Primary School",
          "Eltham North Primary School",
          "Merrivale Primary School",
          "Dandenong West Primary School",
          "Yarra Road Primary School",
          "Aberfeldie Primary School",
          "Manifold Heights Primary School",
          "Nungurner Primary School",
          "Dingley Primary School",
          "Cardross Primary School",
          "Albion Primary School",
          "Lemnos Primary School",
          "Tarwin Lower Primary School",
          "Brunswick South West Primary School",
          "Bell Primary School",
          "Chatham Primary School",
          "Caulfield South Primary School",
          "Ashburton Primary School",
          "Bentleigh West Primary School",
          "Anglesea Primary School",
          "Briar Hill Primary School",
          "Zeerust Primary School",
          "McKinnon Primary School",
          "Clayton South Primary School",
          "Ivanhoe East Primary School",
          "Cobains Primary School",
          "Mildura South Primary School",
          "Tate Street Primary School Geelong",
          "Brunswick North West Primary School",
          "Katandra West Primary School",
          "Fleetwood Primary School",
          "Sandringham East Primary School",
          "Seaholme Primary School",
          "Somers Primary School",
          "Upwey Primary School",
          "Coburg North Primary School",
          "Rosanna Primary School",
          "Wantirna South Primary School",
          "Strathmore Primary School",
          "Balwyn North Primary School",
          "Solway Primary School",
          "Wangaratta West Primary School",
          "Mount Beauty Primary School",
          "Newlands Primary School",
          "Newborough Primary School",
          "Traralgon (Stockdale Road) Primary School",
          "Gowrie Street Primary School Shepparton",
          "Tootgarook Primary School",
          "Moe (South Street) Primary School",
          "Roslyn Primary School",
          "Newport Gardens Primary School",
          "St Georges Road Primary School Shepparton",
          "Malvern Valley Primary School",
          "Newborough East Primary School",
          "Herne Hill Primary School",
          "Frankston East Primary School",
          "Selby Primary School",
          "Reservoir East Primary School",
          "Tucker Road Bentleigh Primary School",
          "Katunga Primary School",
          "Ballarat North Primary School",
          "Bandiana Primary School",
          "Greythorn Primary School",
          "Warragul North Primary School",
          "Horsham West and Haven Primary School",
          "Traralgon (Kosciuszko Street) Primary School",
          "Traralgon (Liddiard Road) Primary School",
          "Eastwood Primary School",
          "Pascoe Vale South Primary School",
          "Lalor Primary School",
          "Reservoir West Primary School",
          "Coatesville Primary School",
          "Old Orchard Primary School",
          "Huntingdale Primary School",
          "Box Hill North Primary School",
          "Ferntree Gully North Primary School",
          "Ararat West Primary School",
          "Oak Park Primary School",
          "Dandenong North Primary School",
          "Bairnsdale West Primary School",
          "Harrisfield Primary School",
          "Pascoe Vale North Primary School",
          "Belle Vue Primary School",
          "Oberon Primary School",
          "Moe Primary School",
          "St Albans East Primary School",
          "Bourchier Street Primary School Shepparton",
          "Swan Hill North Primary School",
          "Sunshine Heights Primary School",
          "Sunshine North Primary School",
          "Banyule Primary School",
          "Portland South Primary School",
          "Rosanna Golf Links Primary School",
          "Cheltenham East Primary School",
          "Cranbourne South Primary School",
          "Yarrunga Primary School",
          "Preston North East Primary School",
          "Craigieburn Primary School",
          "Warrnambool East Primary School",
          "Colac South West Primary School",
          "George Street Primary School - Hamilton",
          "Valkstone Primary School",
          "Overport Primary School",
          "Wembley Primary School",
          "Bonbeach Primary School",
          "Heatherhill Primary School",
          "Beaumaris North Primary School",
          "Hamlyn Banks Primary School",
          "Yarraman Oaks Primary School",
          "Mount Pleasant Road Nunawading Primary School",
          "Glenroy West Primary School",
          "Dandenong South Primary School",
          "St Albans North Primary School",
          "Avondale Primary School",
          "Beverley Hills Primary School",
          "Wodonga West Primary School",
          "Frankston Heights Primary School",
          "Kerrimuir Primary School",
          "Heathmont East Primary School",
          "Strathmore North Primary School",
          "Oakleigh South Primary School",
          "Thomastown East Primary School",
          "Mount Waverley Heights Primary School",
          "East Bentleigh Primary School",
          "Watsonia Primary School",
          "Parktone Primary School",
          "Antonio Park Primary School",
          "Kingsbury Primary School",
          "Ardeer Primary School",
          "Westall Primary School",
          "Tullamarine Primary School",
          "Guthridge Primary School",
          "Park Orchards Primary School",
          "Albion North Primary School",
          "Blackburn Lake Primary School",
          "Laburnum Primary School",
          "Rollins Primary School",
          "Bellaire Primary School",
          "Pinewood Primary School",
          "Broadmeadows Primary School",
          "Moomba Park Primary School",
          "Keilor Heights Primary School",
          "Ainslie Parklands Primary School",
          "Parkmore Primary School",
          "Lara Primary School",
          "Mullum Primary School",
          "Cranbourne Park Primary School",
          "Viewbank Primary School",
          "Greenhills Primary School",
          "Upwey South Primary School",
          "Simpson Primary School",
          "Eltham East Primary School",
          "Belvedere Park Primary School",
          "Essex Heights Primary School",
          "Mountain Gate Primary School",
          "Fairhills Primary School",
          "Dillbadin Primary School",
          "Southmoor Primary School",
          "Ringwood Heights Primary School",
          "Ruskin Park Primary School",
          "Fyans Park Primary School",
          "Karingal Primary School",
          "Mount View Primary School",
          "Syndal South Primary School",
          "Montmorency South Primary School",
          "Altona North Primary School",
          "Burwood Heights Primary School",
          "Stawell West Primary School",
          "Watsonia Heights Primary School",
          "Forest Street Primary School",
          "Pembroke Primary School",
          "Mahogany Rise Primary School",
          "Wilmot Road Primary School Shepparton",
          "Bundoora Primary School",
          "University Park Primary School",
          "St Albans Heights Primary School",
          "Kerang South Primary School",
          "Mentone Park Primary School",
          "Donvale Primary School",
          "Bell Park North Primary School",
          "Boronia Heights Primary School",
          "Churchill Primary School",
          "Montpellier Primary School",
          "Bayswater South Primary School",
          "Seaford North Primary School",
          "Morwell Park Primary School",
          "Lalor East Primary School",
          "Carlton Primary School",
          "Wangala Primary School",
          "Templestowe Valley Primary School",
          "Highvale Primary School",
          "Watsonia North Primary School",
          "Wooranna Park Primary School",
          "Knox Park Primary School",
          "Birralee Primary School",
          "Ararat North Primary School",
          "Derinya Primary School",
          "Thomastown West Primary School",
          "Rowville Primary School",
          "Mossfiel Primary School",
          "Templestowe Heights Primary School",
          "Ballam Park Primary School",
          "Sunbury West Primary School",
          "Gladstone Park Primary School",
          "Manchester Primary School",
          "Glendal Primary School",
          "Bimbadeen Heights Primary School",
          "Wattle View Primary School",
          "Sherbourne Primary School",
          "Donburn Primary School",
          "Guthrie Street Primary School Shepparton",
          "Araluen Primary School",
          "Deer Park West Primary School",
          "Campbellfield Heights Primary School",
          "Lalor North Primary School",
          "Melton West Primary School",
          "Diamond Creek East Primary School",
          "Brandon Park Primary School",
          "Bayswater West Primary School",
          "Mornington Park Primary School",
          "Wodonga South Primary School",
          "Aldercourt Primary School",
          "Richmond West Primary School",
          "Marlborough Primary School",
          "Stevensville Primary School",
          "Birmingham Primary School",
          "Woodville Primary School",
          "Glengala Primary School",
          "Karingal Heights Primary School",
          "Wallarano Primary School",
          "Victoria Road Primary School",
          "Mooroolbark East Primary School",
          "Ardeer South Primary School",
          "Gladesville Primary School",
          "Falls Creek Primary School",
          "Debney Meadows Primary School",
          "Fountain Gate Primary School",
          "Tinternvale Primary School",
          "Grovedale West Primary School",
          "Kent Park Primary School",
          "Deer Park North Primary School",
          "Rosewood Downs Primary School",
          "Mooroopna Park Primary School",
          "Coburn Primary School",
          "Manorvale Primary School",
          "Gladstone Views Primary School",
          "Wheelers Hill Primary School",
          "Broadmeadows Valley Primary School",
          "Kingston Heath Primary School",
          "Andersons Creek Primary School",
          "Waverley Meadows Primary School",
          "Kingswood Primary School",
          "Camelot Rise Primary School",
          "Livingstone Primary School",
          "Churchill North Primary School",
          "St Albans Meadows Primary School",
          "Silverton Primary School",
          "Kalinda Primary School",
          "Whittington Primary School",
          "Coldstream Primary School",
          "Templestowe Park Primary School",
          "River Gum Primary School",
          "Regency Park Primary School",
          "Dorset Primary School",
          "Eastbourne Primary School",
          "Thomastown Meadows Primary School",
          "Kingsley Park Primary School",
          "James Cook Primary School",
          "Movelle Primary School",
          "Mount Eliza North Primary School",
          "Melrose Primary School",
          "Iramoo Primary School",
          "Weeden Heights Primary School",
          "Mill Park Primary School",
          "Serpell Primary School",
          "Mount Martha Primary School",
          "Altona Meadows Primary School",
          "The Patch Primary School",
          "Jells Park Primary School",
          "Albanvale Primary School",
          "Kismet Park Primary School",
          "Kunyung Primary School",
          "Apollo Parkways Primary School",
          "Mandama Primary School",
          "Bethal Primary School",
          "Cranbourne West Primary School",
          "Patterson Lakes Primary School",
          "Seaford Park Primary School",
          "Billanook Primary School",
          "Chirnside Park Primary School",
          "Bass Valley Primary School",
          "Templeton Primary School",
          "Sunbury Heights Primary School",
          "Darley Primary School",
          "Delacombe Primary School",
          "Wallaroo Primary School",
          "Mossgiel Park Primary School",
          "Wedge Park Primary School",
          "Appin Park Primary School",
          "Milgate Primary School",
          "Berwick Lodge Primary School",
          "Botanic Ridge Primary School",
          "Meadow Heights Primary School",
          "Bundarra Primary School",
          "Chalcot Lodge Primary School",
          "Rangebank Primary School",
          "Knox Gardens Primary School",
          "Southern Cross Primary School",
          "Kings Park Primary School",
          "Rolling Hills Primary School",
          "Craigieburn South Primary School",
          "Findon Primary School",
          "Loch Sport Primary School",
          "Goonawarra Primary School",
          "Bellbridge Primary School",
          "Croydon Hills Primary School",
          "Kurunjang Primary School",
          "Langwarrin Park Primary School",
          "Taylors Lakes Primary School",
          "Glen Katherine Primary School",
          "Richmond Primary School",
          "Yarra Primary School",
          "Clifton Springs Primary School",
          "Park Ridge Primary School",
          "Orchard Grove Primary School",
          "Meadowglen Primary School",
          "Altona Green Primary School",
          "Boroondara Park Primary School",
          "Coral Park Primary School",
          "Maramba Primary School",
          "Thomas Mitchell Primary School",
          "Karoo Primary School",
          "Mackellar Primary School",
          "Aspendale Gardens Primary School",
          "Berwick Fields Primary School",
          "Brentwood Park Primary School",
          "Edgars Creek Primary School",
          "Eynesbury Primary School",
          "Cambridge Primary School",
          "Rowellyn Park Primary School",
          "Woodlands Primary School",
          "Mill Park Heights Primary School",
          "Monmia Primary School",
          "Seabrook Primary School",
          "Willmott Park Primary School",
          "Thomas Chirnside Primary School",
          "Heany Park Primary School",
          "Ranfurly Primary School",
          "Kilberry Valley Primary School",
          "Killara Primary School",
          "Surfside Primary School",
          "Orchard Park Primary School",
          "Riverwalk Primary School",
          "Oatlands Primary School",
          "Westgrove Primary School",
          "Peranbin Primary College",
          "Pentland Primary School",
          "Pakenham Hills Primary School",
          "Courtenay Gardens Primary School",
          "Somerville Rise Primary School",
          "Branxholme-Wallacedale Community School",
          "Mount Duneed Regional Primary School",
          "Grasmere Primary School",
          "Narrawong District Primary School",
          "Canadian Lead Primary School",
          "Caledonian Primary School",
          "Grayling Primary School",
          "Tempy Primary School",
          "Rawson Primary School",
          "Bundalaguah Primary School",
          "Lardner and District Primary School",
          "Neerim District Rural Primary School",
          "Nambrok Denison Primary School",
          "Welshpool and District Primary School",
          "Whitfield District Primary School",
          "Greta Valley Primary School",
          "Everton Primary School",
          "Nangiloc Colignan and District Primary School",
          "Harcourt Valley Primary School",
          "Beverford District Primary School",
          "Niddrie Primary School",
          "Keelonith Primary School",
          "Lucas Primary School",
          "Toolern Vale and District Primary School",
          "Parkhill Primary School",
          "Kananook Primary School",
          "Roberts McCubbin Primary School",
          "Meeniyan Primary School",
          "Bayles Regional Primary School",
          "Le Page Primary School",
          "Powlett River Primary School",
          "Glen Waverley Primary School",
          "Carrington Primary School",
          "Albany Rise Primary School",
          "Amsleigh Park Primary School",
          "Knox Central Primary School",
          "Mount Waverley North Primary School",
          "Rangeview Primary School",
          "Glen Waverley South Primary School",
          "Streeton Primary School",
          "Woorinen District Primary School",
          "Woady Yaloak Primary School",
          "Millwarra Primary School",
          "Gormandale And District Primary School",
          "Roxburgh Homestead Primary School",
          "Newcomb Primary School",
          "Dinjerra Primary School",
          "Belle Vue Park Primary School",
          "Doncaster Gardens Primary School",
          "Nyah District Primary School",
          "Strathaird Primary School",
          "Great Ryrie Primary School",
          "Parkwood Green Primary School",
          "Hillsmeade Primary School",
          "Roxburgh Park Primary School",
          "Benton Junior College",
          "Caulfield Primary School",
          "Roxburgh Rise Primary School",
          "Lynbrook Primary School",
          "Laurimar Primary School",
          "Truganina South Primary School",
          "Kororoit Creek Primary School",
          "Harvest Home Primary School",
          "Burnside Primary School",
          "Berwick Chase Primary School",
          "Pakenham Lakeside Primary School",
          "Davis Creek Primary School",
          "Pakenham Springs Primary School",
          "Taylors Hill Primary School",
          "Cranbourne Carlisle Primary School",
          "Derrimut Primary School",
          "Epping Views Primary School",
          "Echuca Twin Rivers Primary School",
          "Cranbourne East Primary School",
          "Lyndhurst Primary School",
          "Aitken Creek Primary School",
          "Reservoir Views Primary School",
          "Meadows Primary School",
          "Mernda Park Primary School",
          "Sunshine Harvester Primary School",
          "Pakenham Primary School",
          "Whitehorse Primary School",
          "Golden Square Primary School",
          "Lalor Gardens Primary School",
          "Chandler Park Primary School",
          "Keysborough Primary School",
          "Lyndale Greens Primary School",
          "Athol Road Primary School",
          "Springvale Rise Primary School",
          "Spring Parks Primary School",
          "Keilor Views Primary School",
          "Wyndham Park Primary School",
          "Lightning Reef Primary School",
          "Glenroy Central Primary School",
          "William Ruthven Primary School",
          "Newbury Primary School",
          "Dallas Brooks Community Primary School",
          "Horsham Primary School",
          "Wyndham Vale Primary School",
          "Epping Primary School",
          "Tulliallan Primary School",
          "Coolaroo South Primary School",
          "Torquay Coast Primary School",
          "Arnolds Creek Primary School",
          "Wilandra Rise Primary School",
          "South Melbourne Primary School",
          "Barton Primary School",
          "John Henry Primary School",
          "South Melbourne Park Primary School",
          "Bridgewood Primary School",
          "Armstrong Creek School",
          "Aireys Inlet Primary School",
          "Aitken Hill Primary School",
          "Morwell Central Primary School",
          "Ashley Park Primary School",
          "Casey Fields Primary School",
          "Mirripoa Primary School",
          "Keysborough Gardens Primary School",
          "Docklands Primary School",
          "Garrang Wilam Primary School",
          "Aintree Primary School",
          "Yubup Primary School",
          "Donnybrook Primary School",
          "Deanside Primary School",
          "Gaayip-Yagila Primary School",
          "Riverbend Primary School",
          "Ramlegh Park Primary School",
          "Wirrigirri Primary School",
          "Strathtulloh Primary School",
          "Gilgai Plains Primary School",
          "Barrawang Primary School",
          "Willowbank Primary School",
          "Clyde Creek Primary School",
          "Wollert Primary School",
          "Quarters Primary School",
          "Ngarri Primary School",
          "Lollypop Creek Primary School",
          "Kurrun Primary School",
          "Thornhill Park Primary School",
          "Karwan Primary School",
          "Nearnung Primary School",
          "Topirum Primary School",
          "Laa Yulta Primary School",
          "Binap Primary School",
          "Banum Warrik Primary School",
          "Kurmile Primary School",
          "Wimba Primary School",
          "Warreen Primary School",
          "Turrun Primary School",
          "Barayip Primary School",
          "Kuyim Primary School",
          "Mirniyan Primary School",
          "Alvie Primary School",
          "Boisdale Consolidated School",
          "Cobram Primary School",
          "Cohuna Consolidated School",
          "Dunkeld Consolidated School",
          "Foster Primary School",
          "Heywood Consolidated School",
          "Kiewa Valley Primary School",
          "Lockington Consolidated School",
          "Merino Consolidated School",
          "Pakenham Consolidated School",
          "Poowong Consolidated School",
          "Port Fairy Consolidated School",
          "Red Hill Consolidated School",
          "Tongala Primary School",
          "Tarneit Rise Primary School",
          "Springside Primary School",
          "Tarrington Lutheran School",
          "Christ Church Grammar School",
          "Nunawading Christian College-Primary",
          "St Peter's Lutheran School",
          "Learning Co-Operative School",
          "Sholem Aleichem College",
          "North-Eastern Montessori School",
          "Good Shepherd Lutheran Primary School",
          "St John's Lutheran School",
          "Fitzroy Community School",
          "Village School",
          "Sunshine Christian School",
          "Ghilgai School",
          "Swan Hill Christian School",
          "Erasmus Primary School",
          "Maharishi School of the Age of Enlightenment",
          "Dandenong Ranges Steiner School",
          "Ballarat Steiner School",
          "Freshwater Creek Steiner School",
          "Beechworth Montessori School",
          "Deutsche Schule Melbourne",
          "Daylesford Dharma School",
          "Koonwarra Village School",
          "Wild Cherry School",
          "Hoa Nghiem Primary School",
          "Newmark Primary",
          "Phillip Island Village School",
          "Fitra Community School",
          "Clyde Grammar",
          "Woodline Primary",
          "Sidrah Gardens School",
          "Australian Islamic Centre College"
         ],
         "lat": {
          "bdata": "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",
          "dtype": "f8"
         },
         "legendgroup": "Primary",
         "lon": {
          "bdata": "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",
          "dtype": "f8"
         },
         "marker": {
          "color": "#EF553B"
         },
         "mode": "markers",
         "name": "Primary",
         "showlegend": true,
         "subplot": "mapbox",
         "type": "scattermapbox"
        },
        {
         "customdata": [
          [
           "Pri/Sec",
           "GLEN IRIS"
          ],
          [
           "Pri/Sec",
           "SEYMOUR"
          ],
          [
           "Pri/Sec",
           "KEW"
          ],
          [
           "Pri/Sec",
           "KYABRAM"
          ],
          [
           "Pri/Sec",
           "KEW"
          ],
          [
           "Pri/Sec",
           "MALVERN"
          ],
          [
           "Pri/Sec",
           "TOORAK"
          ],
          [
           "Pri/Sec",
           "TOORAK"
          ],
          [
           "Pri/Sec",
           "ROBINVALE"
          ],
          [
           "Pri/Sec",
           "VERMONT SOUTH"
          ],
          [
           "Pri/Sec",
           "PASCOE VALE SOUTH"
          ],
          [
           "Pri/Sec",
           "SOUTH MORANG"
          ],
          [
           "Pri/Sec",
           "MAIDEN GULLY"
          ],
          [
           "Pri/Sec",
           "KIALLA"
          ],
          [
           "Pri/Sec",
           "Bright"
          ],
          [
           "Pri/Sec",
           "Lake Bolac"
          ],
          [
           "Pri/Sec",
           "Bannockburn"
          ],
          [
           "Pri/Sec",
           "Murtoa"
          ],
          [
           "Pri/Sec",
           "Pyramid Hill"
          ],
          [
           "Pri/Sec",
           "Mallacoota"
          ],
          [
           "Pri/Sec",
           "Cann River"
          ],
          [
           "Pri/Sec",
           "Point Cook"
          ],
          [
           "Pri/Sec",
           "Hoppers Crossing"
          ],
          [
           "Pri/Sec",
           "Derrinallum"
          ],
          [
           "Pri/Sec",
           "Mortlake"
          ],
          [
           "Pri/Sec",
           "Sea Lake"
          ],
          [
           "Pri/Sec",
           "Edenhope"
          ],
          [
           "Pri/Sec",
           "Murrayville"
          ],
          [
           "Pri/Sec",
           "Hawkesdale"
          ],
          [
           "Pri/Sec",
           "Noble Park"
          ],
          [
           "Pri/Sec",
           "Berwick"
          ],
          [
           "Pri/Sec",
           "Point Cook"
          ],
          [
           "Pri/Sec",
           "Truganina"
          ],
          [
           "Pri/Sec",
           "Wendouree"
          ],
          [
           "Pri/Sec",
           "Point Cook"
          ],
          [
           "Pri/Sec",
           "Doreen"
          ],
          [
           "Pri/Sec",
           "Apollo Bay"
          ],
          [
           "Pri/Sec",
           "Collingwood"
          ],
          [
           "Pri/Sec",
           "Dingee"
          ],
          [
           "Pri/Sec",
           "Goroke"
          ],
          [
           "Pri/Sec",
           "Lavers Hill"
          ],
          [
           "Pri/Sec",
           "Manangatang"
          ],
          [
           "Pri/Sec",
           "Terang"
          ],
          [
           "Pri/Sec",
           "Rushworth"
          ],
          [
           "Pri/Sec",
           "Macleod"
          ],
          [
           "Pri/Sec",
           "Sassafras"
          ],
          [
           "Pri/Sec",
           "Werrimull"
          ],
          [
           "Pri/Sec",
           "Camperdown"
          ],
          [
           "Pri/Sec",
           "Timboon"
          ],
          [
           "Pri/Sec",
           "Thornbury"
          ],
          [
           "Pri/Sec",
           "Wedderburn"
          ],
          [
           "Pri/Sec",
           "Kyabram"
          ],
          [
           "Pri/Sec",
           "Lorne"
          ],
          [
           "Pri/Sec",
           "Orbost"
          ],
          [
           "Pri/Sec",
           "Ouyen"
          ],
          [
           "Pri/Sec",
           "Rainbow"
          ],
          [
           "Pri/Sec",
           "Robinvale"
          ],
          [
           "Pri/Sec",
           "Point Cook"
          ],
          [
           "Pri/Sec",
           "Truganina"
          ],
          [
           "Pri/Sec",
           "Hoppers Crossing"
          ],
          [
           "Pri/Sec",
           "Williamstown"
          ],
          [
           "Pri/Sec",
           "Charlton"
          ],
          [
           "Pri/Sec",
           "Wycheproof"
          ],
          [
           "Pri/Sec",
           "Birchip"
          ],
          [
           "Pri/Sec",
           "Nhill"
          ],
          [
           "Pri/Sec",
           "Narre Warren South"
          ],
          [
           "Pri/Sec",
           "Kaniva"
          ],
          [
           "Pri/Sec",
           "Corryong"
          ],
          [
           "Pri/Sec",
           "Maryborough"
          ],
          [
           "Pri/Sec",
           "South Morang"
          ],
          [
           "Pri/Sec",
           "Wyndham Vale"
          ],
          [
           "Pri/Sec",
           "Wodonga"
          ],
          [
           "Pri/Sec",
           "Craigieburn"
          ],
          [
           "Pri/Sec",
           "Altona"
          ],
          [
           "Pri/Sec",
           "Laverton"
          ],
          [
           "Pri/Sec",
           "Balmoral"
          ],
          [
           "Pri/Sec",
           "Myrtleford"
          ],
          [
           "Pri/Sec",
           "Boort"
          ],
          [
           "Pri/Sec",
           "Yarrawonga"
          ],
          [
           "Pri/Sec",
           "Seymour"
          ],
          [
           "Pri/Sec",
           "Merbein"
          ],
          [
           "Pri/Sec",
           "Macleod West"
          ],
          [
           "Pri/Sec",
           "Swifts Creek"
          ],
          [
           "Pri/Sec",
           "Mernda"
          ],
          [
           "Pri/Sec",
           "Point Cook"
          ],
          [
           "Pri/Sec",
           "Sebastopol"
          ],
          [
           "Pri/Sec",
           "Corio"
          ],
          [
           "Pri/Sec",
           "Hopetoun"
          ],
          [
           "Pri/Sec",
           "Doveton"
          ],
          [
           "Pri/Sec",
           "Caroline Springs"
          ],
          [
           "Pri/Sec",
           "Caroline Springs"
          ],
          [
           "Pri/Sec",
           "Boronia"
          ],
          [
           "Pri/Sec",
           "Tarneit"
          ],
          [
           "Pri/Sec",
           "Benalla"
          ],
          [
           "Pri/Sec",
           "MELBOURNE"
          ],
          [
           "Pri/Sec",
           "GLEN IRIS"
          ],
          [
           "Pri/Sec",
           "KEW"
          ],
          [
           "Pri/Sec",
           "ST KILDA EAST"
          ],
          [
           "Pri/Sec",
           "KEW"
          ],
          [
           "Pri/Sec",
           "BALLARAT"
          ],
          [
           "Pri/Sec",
           "BALWYN"
          ],
          [
           "Pri/Sec",
           "ARMADALE"
          ],
          [
           "Pri/Sec",
           "CORIO"
          ],
          [
           "Pri/Sec",
           "KEW"
          ],
          [
           "Pri/Sec",
           "SOUTH YARRA"
          ],
          [
           "Pri/Sec",
           "NEWTOWN"
          ],
          [
           "Pri/Sec",
           "BURWOOD"
          ],
          [
           "Pri/Sec",
           "ST KILDA"
          ],
          [
           "Pri/Sec",
           "BRIGHTON"
          ],
          [
           "Pri/Sec",
           "WENDOUREE"
          ],
          [
           "Pri/Sec",
           "HAMILTON"
          ],
          [
           "Pri/Sec",
           "IVANHOE"
          ],
          [
           "Pri/Sec",
           "HAWTHORN"
          ],
          [
           "Pri/Sec",
           "BRIGHTON EAST"
          ],
          [
           "Pri/Sec",
           "RINGWOOD EAST"
          ],
          [
           "Pri/Sec",
           "MT ELIZA"
          ],
          [
           "Pri/Sec",
           "TOORAK"
          ],
          [
           "Pri/Sec",
           "ESSENDON"
          ],
          [
           "Pri/Sec",
           "KEILOR EAST"
          ],
          [
           "Pri/Sec",
           "MENTONE"
          ],
          [
           "Pri/Sec",
           "IVANHOE"
          ],
          [
           "Pri/Sec",
           "KEW"
          ],
          [
           "Pri/Sec",
           "ORMOND"
          ],
          [
           "Pri/Sec",
           "KEYSBOROUGH"
          ],
          [
           "Pri/Sec",
           "CANTERBURY"
          ],
          [
           "Pri/Sec",
           "MENTONE"
          ],
          [
           "Pri/Sec",
           "SALE"
          ],
          [
           "Pri/Sec",
           "CANTERBURY"
          ],
          [
           "Pri/Sec",
           "BRIGHTON"
          ],
          [
           "Pri/Sec",
           "MT WAVERLEY"
          ],
          [
           "Pri/Sec",
           "BOX HILL"
          ],
          [
           "Pri/Sec",
           "BERWICK"
          ],
          [
           "Pri/Sec",
           "CANTERBURY"
          ],
          [
           "Pri/Sec",
           "KEW"
          ],
          [
           "Pri/Sec",
           "BURWOOD"
          ],
          [
           "Pri/Sec",
           "IRYMPLE"
          ],
          [
           "Pri/Sec",
           "NARRE WARREN SOUTH"
          ],
          [
           "Pri/Sec",
           "ELSTERNWICK"
          ],
          [
           "Pri/Sec",
           "ST KILDA EAST"
          ],
          [
           "Pri/Sec",
           "ST KILDA EAST"
          ],
          [
           "Pri/Sec",
           "ELSTERNWICK"
          ],
          [
           "Pri/Sec",
           "MT ELIZA"
          ],
          [
           "Pri/Sec",
           "HAWTHORN"
          ],
          [
           "Pri/Sec",
           "RINGWOOD"
          ],
          [
           "Pri/Sec",
           "ENDEAVOUR HILLS"
          ],
          [
           "Pri/Sec",
           "MOUNT EVELYN"
          ],
          [
           "Pri/Sec",
           "WARRANWOOD"
          ],
          [
           "Pri/Sec",
           "RESEARCH"
          ],
          [
           "Pri/Sec",
           "DONVALE"
          ],
          [
           "Pri/Sec",
           "WOODEND"
          ],
          [
           "Pri/Sec",
           "TAYLORS HILL"
          ],
          [
           "Pri/Sec",
           "NHILL"
          ],
          [
           "Pri/Sec",
           "HORSHAM"
          ],
          [
           "Pri/Sec",
           "WANTIRNA SOUTH"
          ],
          [
           "Pri/Sec",
           "ARMADALE"
          ],
          [
           "Pri/Sec",
           "TRUGANINA"
          ],
          [
           "Pri/Sec",
           "BUNDOORA"
          ],
          [
           "Pri/Sec",
           "PRESTON"
          ],
          [
           "Pri/Sec",
           "CHIRNSIDE PARK"
          ],
          [
           "Pri/Sec",
           "CAMPBELLS CREEK"
          ],
          [
           "Pri/Sec",
           "BELL POST HILL"
          ],
          [
           "Pri/Sec",
           "RHYLL"
          ],
          [
           "Pri/Sec",
           "HIGHTON"
          ],
          [
           "Pri/Sec",
           "MOOROOLBARK"
          ],
          [
           "Pri/Sec",
           "BENDIGO"
          ],
          [
           "Pri/Sec",
           "HAMILTON"
          ],
          [
           "Pri/Sec",
           "DOREEN"
          ],
          [
           "Pri/Sec",
           "LANGWARRIN SOUTH"
          ],
          [
           "Pri/Sec",
           "MILDURA"
          ],
          [
           "Pri/Sec",
           "SHEPPARTON"
          ],
          [
           "Pri/Sec",
           "WANTIRNA SOUTH"
          ],
          [
           "Pri/Sec",
           "WERRIBEE"
          ],
          [
           "Pri/Sec",
           "CLYDE NORTH"
          ],
          [
           "Pri/Sec",
           "WARRAGUL"
          ],
          [
           "Pri/Sec",
           "PAKENHAM"
          ],
          [
           "Pri/Sec",
           "BELGRAVE HEIGHTS"
          ],
          [
           "Pri/Sec",
           "OAKLEIGH"
          ],
          [
           "Pri/Sec",
           "KERANG"
          ],
          [
           "Pri/Sec",
           "WANTIRNA SOUTH"
          ],
          [
           "Pri/Sec",
           "DROUIN"
          ],
          [
           "Pri/Sec",
           "COBURG"
          ],
          [
           "Pri/Sec",
           "TYABB"
          ],
          [
           "Pri/Sec",
           "LENEVA"
          ],
          [
           "Pri/Sec",
           "BROOKFIELD"
          ],
          [
           "Pri/Sec",
           "MANSFIELD"
          ],
          [
           "Pri/Sec",
           "CAULFIELD SOUTH"
          ],
          [
           "Pri/Sec",
           "WARRNAMBOOL"
          ],
          [
           "Pri/Sec",
           "ABBOTSFORD"
          ],
          [
           "Pri/Sec",
           "TRUGANINA"
          ],
          [
           "Pri/Sec",
           "KEILOR"
          ],
          [
           "Pri/Sec",
           "YARRA JUNCTION"
          ],
          [
           "Pri/Sec",
           "BACCHUS MARSH"
          ],
          [
           "Pri/Sec",
           "KEYSBOROUGH"
          ],
          [
           "Pri/Sec",
           "ALPHINGTON"
          ],
          [
           "Pri/Sec",
           "MOOROOLBARK"
          ],
          [
           "Pri/Sec",
           "MUCKLEFORD"
          ],
          [
           "Pri/Sec",
           "COOLAROO"
          ],
          [
           "Pri/Sec",
           "SPRINGVALE"
          ],
          [
           "Pri/Sec",
           "WODONGA"
          ],
          [
           "Pri/Sec",
           "BENDIGO"
          ],
          [
           "Pri/Sec",
           "CRANBOURNE EAST"
          ],
          [
           "Pri/Sec",
           "STRATHDALE"
          ],
          [
           "Pri/Sec",
           "BROADMEADOWS"
          ],
          [
           "Pri/Sec",
           "BELL POST HILL"
          ],
          [
           "Pri/Sec",
           "TARNEIT"
          ],
          [
           "Pri/Sec",
           "BROADMEADOWS"
          ],
          [
           "Pri/Sec",
           "SUNBURY"
          ],
          [
           "Pri/Sec",
           "SHEPPARTON"
          ],
          [
           "Pri/Sec",
           "FAWKNER NORTH"
          ],
          [
           "Pri/Sec",
           "TYNONG"
          ],
          [
           "Pri/Sec",
           "BAIRNSDALE"
          ],
          [
           "Pri/Sec",
           "EAST PRESTON"
          ],
          [
           "Pri/Sec",
           "GREENVALE"
          ],
          [
           "Pri/Sec",
           "NEW GISBORNE"
          ],
          [
           "Pri/Sec",
           "KEYSBOROUGH"
          ],
          [
           "Pri/Sec",
           "MELTON WEST"
          ],
          [
           "Pri/Sec",
           "LOVELY BANKS"
          ],
          [
           "Pri/Sec",
           "IRYMPLE"
          ],
          [
           "Pri/Sec",
           "ELWOOD"
          ],
          [
           "Pri/Sec",
           "PAKENHAM"
          ],
          [
           "Pri/Sec",
           "MT MARTHA"
          ],
          [
           "Pri/Sec",
           "SEBASTOPOL"
          ],
          [
           "Pri/Sec",
           "MICKLEHAM"
          ],
          [
           "Pri/Sec",
           "CRANBOURNE"
          ],
          [
           "Pri/Sec",
           "ARMSTRONG CREEK"
          ],
          [
           "Pri/Sec",
           "EPPING"
          ],
          [
           "Pri/Sec",
           "LANGWARRIN SOUTH"
          ],
          [
           "Pri/Sec",
           "FERNTREE GULLY"
          ],
          [
           "Pri/Sec",
           "MELBOURNE"
          ],
          [
           "Pri/Sec",
           "TARNEIT"
          ],
          [
           "Pri/Sec",
           "CAROLINE SPRINGS"
          ],
          [
           "Pri/Sec",
           "BANGHOLME"
          ],
          [
           "Pri/Sec",
           "CAULFIELD SOUTH"
          ],
          [
           "Pri/Sec",
           "GLENROY"
          ],
          [
           "Pri/Sec",
           "WANGARATTA"
          ],
          [
           "Pri/Sec",
           "ORMOND"
          ],
          [
           "Pri/Sec",
           "BENALLA"
          ],
          [
           "Pri/Sec",
           "COBRAM"
          ],
          [
           "Pri/Sec",
           "CLARINDA"
          ],
          [
           "Pri/Sec",
           "MACEDON"
          ],
          [
           "Pri/Sec",
           "MELTON SOUTH"
          ],
          [
           "Pri/Sec",
           "LILYDALE"
          ],
          [
           "Pri/Sec",
           "NARRE WARREN NORTH"
          ],
          [
           "Pri/Sec",
           "ST KILDA"
          ],
          [
           "Pri/Sec",
           "THE BASIN"
          ],
          [
           "Pri/Sec",
           "DALLAS"
          ],
          [
           "Pri/Sec",
           "MELTON"
          ],
          [
           "Pri/Sec",
           "NARRE WARREN NORTH"
          ],
          [
           "Pri/Sec",
           "MERNDA"
          ],
          [
           "Pri/Sec",
           "SHEPPARTON NORTH"
          ]
         ],
         "hovertemplate": "<b>%{hovertext}</b><br><br>School_Type=%{customdata[0]}<br>Y=%{lat}<br>X=%{lon}<br>Address_Town=%{customdata[1]}<extra></extra>",
         "hovertext": [
          "Sacre Coeur",
          "St Mary's College",
          "Xavier College",
          "St Augustine's College",
          "Genazzano FCJ College",
          "De La Salle College",
          "Loreto Mandeville Hall",
          "St Kevin's College",
          "St Mary's School",
          "Emmaus College",
          "Antonine College",
          "Marymede Catholic College",
          "Marist College Bendigo",
          "St Anne's College",
          "Bright P-12 College",
          "Lake Bolac College",
          "Bannockburn P-12 College",
          "Murtoa College",
          "Pyramid Hill College",
          "Mallacoota P-12 College",
          "Cann River P-12 College",
          "Point Cook Prep - Year 9 College",
          "Baden Powell P-9 College",
          "Derrinallum P-12 College",
          "Mortlake P-12 College",
          "Tyrrell College",
          "Edenhope College",
          "Murrayville Community College",
          "Hawkesdale P12 College",
          "Carwatha College P-12",
          "Timbarra P-9 College",
          "Carranballac P-9 College",
          "Truganina P-9 College",
          "Yuille Park Community College",
          "Alamanda K-9 College",
          "Hazel Glen College",
          "Apollo Bay P-12 College",
          "Collingwood College",
          "East Loddon P-12 College",
          "Goroke P-12 College",
          "Lavers Hill K-12 College",
          "Manangatang P-12 College",
          "Terang College",
          "Rushworth P-12 College",
          "Macleod College",
          "Sherbrooke Community School",
          "Werrimull P-12 School",
          "Camperdown College",
          "Timboon P-12 School",
          "Virtual School Victoria",
          "Wedderburn College",
          "Kyabram P-12 College",
          "Lorne P-12 College",
          "Orbost Community College",
          "Ouyen P-12 College",
          "Rainbow P-12 College",
          "Robinvale College",
          "Saltwater P-9 College",
          "Dohertys Creek P-9 College",
          "The Grange P-12 College",
          "Bayside P-12 College",
          "Charlton College",
          "Wycheproof P-12 College",
          "Birchip P-12 School",
          "Nhill College",
          "Narre Warren South P-12 College",
          "Kaniva College",
          "Corryong College",
          "Maryborough Education Centre",
          "The Lakes South Morang College",
          "Manor Lakes P-12 College",
          "Wodonga Middle Years College",
          "Mount Ridley P-12 College",
          "Altona College",
          "Laverton P-12 College",
          "Balmoral K-12 Community College",
          "Myrtleford P-12 College",
          "Boort District P-12 School",
          "Yarrawonga College P-12",
          "Seymour College",
          "Merbein P-10 College",
          "Charles La Trobe P-12 College",
          "Swifts Creek P-12 School",
          "Mernda Central P-12 College",
          "Featherbrook P-9 College",
          "Phoenix P-12 Community College",
          "Northern Bay P-12 College",
          "Hopetoun P-12 College",
          "Doveton College",
          "Brookside P-9 College",
          "Creekside K-9 College",
          "Boronia K-12 College",
          "Tarneit P-9 College",
          "Benalla P-12 College",
          "Wesley College",
          "Korowa Anglican Girls' School",
          "Ruyton Girls' School",
          "Caulfield Grammar School",
          "Methodist Ladies' College",
          "Ballarat Clarendon College",
          "Fintona Girls' School",
          "Lauriston Girls' School",
          "Geelong Grammar School",
          "Trinity Grammar School Kew",
          "Melbourne Girls Grammar",
          "The Geelong College",
          "Presbyterian Ladies' College",
          "St Michael's Grammar School",
          "Firbank Grammar School",
          "Ballarat Grammar",
          "The Hamilton and Alexandra College",
          "Ivanhoe Grammar School",
          "Scotch College",
          "St Leonard's College",
          "Tintern Grammar",
          "Toorak College",
          "St Catherine's School",
          "Lowther Hall Anglican Grammar School",
          "Penleigh & Essendon Grammar School",
          "Mentone Grammar School",
          "Ivanhoe Girls' Grammar School",
          "Carey Baptist Grammar School",
          "Kilvington Grammar School",
          "Haileybury College",
          "Strathcona Baptist Girls' Grammar",
          "Mentone Girls' Grammar School",
          "Gippsland Grammar",
          "Camberwell Grammar School",
          "Brighton Grammar School",
          "Huntingtower School",
          "Kingswood College",
          "St Margaret’s Berwick Grammar",
          "Camberwell Girls Grammar School",
          "Preshil, The Margaret Lyttle Memorial School",
          "Mount Scopus Memorial College",
          "Henderson College",
          "Heritage College",
          "Adass Israel School",
          "Yeshivah College",
          "Beth Rivkah Ladies College",
          "Leibler Yavneh College",
          "Peninsula Grammar",
          "Bialik College",
          "Yarra Valley Grammar",
          "Maranatha Christian School",
          "Mount Evelyn Christian School/Ranges TEC",
          "Melbourne Rudolf Steiner School",
          "Eltham College",
          "Donvale Christian College",
          "Braemar College",
          "Gilson College",
          "Wimmera Lutheran College",
          "Holy Trinity Lutheran College",
          "Waverley Christian College",
          "The King David School",
          "Westbourne Grammar School",
          "Northside Christian College",
          "St John's College Preston",
          "Oxley Christian College",
          "Olivet Christian College",
          "Covenant College",
          "Newhaven College",
          "Christian College Geelong",
          "Billanook College",
          "Creek Street Christian College",
          "Good Shepherd College",
          "Plenty Valley Christian College",
          "Bayside Christian College",
          "Trinity Lutheran College",
          "Goulburn Valley Grammar School",
          "The Knox School",
          "Heathdale Christian College",
          "Hillcrest Christian College",
          "St Paul's Anglican Grammar School",
          "Beaconhills College",
          "Belgrave Heights Christian School",
          "Oakleigh Grammar",
          "Kerang Christian College",
          "St Andrews Christian College",
          "Chairo Christian School",
          "Australian International Academy of Education",
          "Flinders Christian Community College",
          "Grace Christian College Wodonga",
          "Melton Christian College",
          "Mansfield Rudolf Steiner School",
          "Japanese School of Melbourne",
          "King's College",
          "Sophia Mundi Steiner School",
          "Al-Taqwa College",
          "Overnewton Anglican Community College",
          "Little Yarra Steiner School",
          "Bacchus Marsh Grammar",
          "Lighthouse Christian College",
          "Alphington Grammar School",
          "Mooroolbark Grammar",
          "Castlemaine Steiner School & Kindergarten",
          "St Mary's Coptic Orthodox College",
          "Minaret College",
          "Victory Lutheran College",
          "Girton Grammar School",
          "Casey Grammar School",
          "Victory Christian College",
          "Ilim College",
          "Kardinia International College",
          "Good News Lutheran College",
          "Sirius College",
          "Red Rock Christian College",
          "Shepparton Christian College Ltd",
          "Darul Ulum College of Victoria",
          "St Thomas Aquinas College",
          "Bairnsdale Christian College",
          "East Preston Islamic College",
          "Aitken College",
          "Global Village Learning",
          "Mt Hira College",
          "OneSchool Global Vic",
          "Geelong Baptist College",
          "Mildura Christian College",
          "Yesodei HaTorah College",
          "Lakeside College",
          "Balcombe Grammar School",
          "Ballarat Christian College",
          "Hume Anglican Grammar",
          "Lighthouse Christian College Cranbourne",
          "Geelong Lutheran College",
          "Al Siraat College",
          "Woodleigh School",
          "Heritage College Knox",
          "Melbourne Grammar School",
          "Islamic College of Melbourne",
          "Southern Cross Grammar",
          "Cornish College",
          "Melbourne Montessori College",
          "Glenroy Private",
          "Cathedral College Wangaratta",
          "Divrei Emineh",
          "Australian Christian College Victoria",
          "Cobram Anglican Grammar School",
          "Christway College",
          "Alice Miller School",
          "Al Iman College",
          "Edinburgh College",
          "Harkaway Hills College",
          "Cheder Levi Yitzchok Inc",
          "Fernbrook School",
          "My College",
          "Muhammadiyah Australia College",
          "Lysterfield Lake College",
          "Mernda Hills Christian College",
          "All Saints Anglican School"
         ],
         "lat": {
          "bdata": "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",
          "dtype": "f8"
         },
         "legendgroup": "Pri/Sec",
         "lon": {
          "bdata": "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",
          "dtype": "f8"
         },
         "marker": {
          "color": "#00cc96"
         },
         "mode": "markers",
         "name": "Pri/Sec",
         "showlegend": true,
         "subplot": "mapbox",
         "type": "scattermapbox"
        },
        {
         "customdata": [
          [
           "Special",
           "WANTIRNA SOUTH"
          ],
          [
           "Special",
           "BENDIGO"
          ],
          [
           "Special",
           "WANGARATTA"
          ],
          [
           "Special",
           "WHITTINGTON"
          ],
          [
           "Special",
           "NORTH MELBOURNE"
          ],
          [
           "Special",
           "South Melbourne"
          ],
          [
           "Special",
           "Melbourne"
          ],
          [
           "Special",
           "Seaford"
          ],
          [
           "Special",
           "Balwyn"
          ],
          [
           "Special",
           "Northcote"
          ],
          [
           "Special",
           "Bendigo"
          ],
          [
           "Special",
           "Lake Gardens"
          ],
          [
           "Special",
           "Bell Park"
          ],
          [
           "Special",
           "Braybrook"
          ],
          [
           "Special",
           "Donvale"
          ],
          [
           "Special",
           "Glenroy"
          ],
          [
           "Special",
           "Dandenong"
          ],
          [
           "Special",
           "Broadmeadows"
          ],
          [
           "Special",
           "Glen Waverley"
          ],
          [
           "Special",
           "St Albans"
          ],
          [
           "Special",
           "Vermont South"
          ],
          [
           "Special",
           "Bundoora"
          ],
          [
           "Special",
           "Moe"
          ],
          [
           "Special",
           "Frankston"
          ],
          [
           "Special",
           "Ashwood"
          ],
          [
           "Special",
           "Bulleen"
          ],
          [
           "Special",
           "Ascot Vale"
          ],
          [
           "Special",
           "Aspendale"
          ],
          [
           "Special",
           "Frankston"
          ],
          [
           "Special",
           "Bellfield"
          ],
          [
           "Special",
           "Port Melbourne"
          ],
          [
           "Special",
           "Cobram"
          ],
          [
           "Special",
           "Wheelers Hill"
          ],
          [
           "Special",
           "Shepparton"
          ],
          [
           "Special",
           "Greensborough"
          ],
          [
           "Special",
           "Melton"
          ],
          [
           "Special",
           "Springvale"
          ],
          [
           "Special",
           "Hoppers Crossing"
          ],
          [
           "Special",
           "Sale"
          ],
          [
           "Special",
           "Croydon South"
          ],
          [
           "Special",
           "Sunshine North"
          ],
          [
           "Special",
           "Laverton"
          ],
          [
           "Special",
           "Sunbury"
          ],
          [
           "Special",
           "Reservoir"
          ],
          [
           "Special",
           "Traralgon"
          ],
          [
           "Special",
           "West Wodonga"
          ],
          [
           "Special",
           "Burwood East"
          ],
          [
           "Special",
           "Wangaratta"
          ],
          [
           "Special",
           "Dromana"
          ],
          [
           "Special",
           "Narre Warren"
          ],
          [
           "Special",
           "Mornington"
          ],
          [
           "Special",
           "Moorabbin"
          ],
          [
           "Special",
           "Mount Evelyn"
          ],
          [
           "Special",
           "Colac"
          ],
          [
           "Special",
           "Mildura"
          ],
          [
           "Special",
           "East Bentleigh"
          ],
          [
           "Special",
           "Coburg"
          ],
          [
           "Special",
           "Broadmeadows"
          ],
          [
           "Special",
           "Sunshine"
          ],
          [
           "Special",
           "Swan Hill"
          ],
          [
           "Special",
           "Stawell"
          ],
          [
           "Special",
           "Horsham"
          ],
          [
           "Special",
           "Cobden"
          ],
          [
           "Special",
           "Warrnambool"
          ],
          [
           "Special",
           "Yarraville"
          ],
          [
           "Special",
           "Portland"
          ],
          [
           "Special",
           "Hamilton"
          ],
          [
           "Special",
           "Lalor"
          ],
          [
           "Special",
           "Warragul"
          ],
          [
           "Special",
           "Laverton"
          ],
          [
           "Special",
           "Warracknabeal"
          ],
          [
           "Special",
           "Kangaroo Flat"
          ],
          [
           "Special",
           "Echuca"
          ],
          [
           "Special",
           "Ferntree Gully"
          ],
          [
           "Special",
           "Niddrie"
          ],
          [
           "Special",
           "Belmont"
          ],
          [
           "Special",
           "Cranbourne East"
          ],
          [
           "Special",
           "Bairnsdale"
          ],
          [
           "Special",
           "Leongatha"
          ],
          [
           "Special",
           "Blackburn South"
          ],
          [
           "Special",
           "Officer"
          ],
          [
           "Special",
           "Jacana"
          ],
          [
           "Special",
           "Hamlyn Heights"
          ],
          [
           "Special",
           "Endeavour Hills"
          ],
          [
           "Special",
           "Craigieburn"
          ],
          [
           "Special",
           "Aintree"
          ],
          [
           "Special",
           "Werribee"
          ],
          [
           "Special",
           "Hampton East"
          ],
          [
           "Special",
           "Wonthaggi"
          ],
          [
           "Special",
           "Parkville"
          ],
          [
           "Special",
           "HAWTHORN"
          ],
          [
           "Special",
           "BALWYN"
          ],
          [
           "Special",
           "MALVERN EAST"
          ],
          [
           "Special",
           "BOX HILL NORTH"
          ],
          [
           "Special",
           "GLEN WAVERLEY"
          ],
          [
           "Special",
           "KEW"
          ],
          [
           "Special",
           "ASHWOOD"
          ],
          [
           "Special",
           "HEALESVILLE"
          ],
          [
           "Special",
           "MANSFIELD"
          ],
          [
           "Special",
           "SOUTH YARRA"
          ],
          [
           "Special",
           "NARRE WARREN"
          ],
          [
           "Special",
           "WODONGA"
          ],
          [
           "Special",
           "BENALLA"
          ],
          [
           "Special",
           "WARRAGUL"
          ],
          [
           "Special",
           "LILYDALE"
          ],
          [
           "Special",
           "RICHMOND"
          ],
          [
           "Special",
           "KEW"
          ],
          [
           "Special",
           "ROSEBUD"
          ],
          [
           "Special",
           "RESERVOIR"
          ],
          [
           "Special",
           "NORTH MELBOURNE"
          ],
          [
           "Special",
           "FRANKSTON"
          ],
          [
           "Special",
           "MELBOURNE"
          ],
          [
           "Special",
           "HAMPTON"
          ],
          [
           "Special",
           "COLDSTREAM"
          ],
          [
           "Special",
           "WERRIBEE"
          ],
          [
           "Special",
           "NARRE WARREN"
          ],
          [
           "Special",
           "BUNDOORA"
          ]
         ],
         "hovertemplate": "<b>%{hovertext}</b><br><br>School_Type=%{customdata[0]}<br>Y=%{lat}<br>X=%{lon}<br>Address_Town=%{customdata[1]}<extra></extra>",
         "hovertext": [
          "St Mary's College for the Deaf",
          "DOXA School Bendigo",
          "Borinya, Wangaratta Community Partnership",
          "MacKillop Specialist School",
          "Saints College",
          "Montague Continuing Education Centre",
          "Victorian College For The Deaf",
          "Nepean Special School",
          "Belmore School",
          "Croxton Special School",
          "Kalianna Special School",
          "Ballarat Specialist School",
          "Nelson Park School",
          "Rosamond Special School",
          "Heatherwood School",
          "Glenroy Specialist School",
          "Emerson School",
          "Hume Valley School",
          "Glenallen School",
          "Jackson School",
          "Vermont South Special School",
          "Concord School",
          "Baringa Special School",
          "Naranga School",
          "Ashwood School",
          "Bulleen Heights School",
          "Ascot Vale Heights School",
          "Yarrabah School",
          "Frankston Special Developmental School",
          "Waratah Special Developmental School",
          "Port Phillip Specialist School",
          "Cobram and District Specialist School",
          "Monash Special Developmental School",
          "Banmira Specialist School",
          "Diamond Valley Special Developmental School",
          "Melton Specialist School",
          "Springvale Park Special Developmental School",
          "Warringa Park School",
          "Sale and District Specialist School",
          "Croydon Special Developmental School",
          "Furlong Park School For Deaf Children",
          "Jennings Street School",
          "Sunbury And Macedon Ranges Specialist School",
          "Northern School For Autism",
          "Latrobe Special Developmental School",
          "Belvoir Wodonga Special Developmental School",
          "Burwood East Special Developmental School",
          "Wangaratta District Specialist School",
          "Peninsula Specialist College",
          "Dandenong Valley Special Developmental School",
          "Mornington Special Developmental School",
          "Bayside Special Developmental School",
          "Yarra Ranges Special Developmental School",
          "Lake Colac School",
          "Mildura Specialist School",
          "Southern Autistic School",
          "Coburg Special Developmental School",
          "Broadmeadows Special Developmental School",
          "Sunshine Special Developmental School",
          "Swan Hill Specialist School",
          "Skene Street School Stawell",
          "Horsham Special School",
          "Hampden P-12 School",
          "Merri River School",
          "Yarraville Special Developmental School",
          "Portland Bay School",
          "Hamilton Parklands School",
          "Merriang Special Developmental School",
          "Warragul & District Specialist School",
          "Western Autistic School",
          "Warracknabeal Special Developmental School",
          "Bendigo Special Developmental School",
          "Echuca Twin Rivers Specialist School",
          "Eastern Ranges School",
          "Niddrie Autistic School",
          "Barwon Valley School",
          "Marnebek School Cranbourne",
          "East Gippsland Specialist School",
          "South Gippsland Specialist School",
          "Aurora School",
          "Officer Specialist School",
          "Jacana School for Autism",
          "Hamlyn Views School",
          "Endeavour Hills Specialist School",
          "Wayi School",
          "Dharra School",
          "Nganboo Borron School",
          "Hampton East School",
          "Bass Coast Specialist School",
          "Parkville College",
          "Rossbourne School",
          "St Paul's College Balwyn",
          "The Currajong School",
          "Berengarra School",
          "Cheshire School",
          "Andale School",
          "Frank Dando Sports Academy",
          "Worawa Aboriginal College",
          "Mansfield Autism Statewide Services",
          "Kamaruka",
          "Berry Street Victoria Inc",
          "Indie Education",
          "EdSpace",
          "Community College Gippsland Ltd | ECG Secondary College",
          "Cire Community School | Cire Training",
          "Melbourne Indigenous Transition School",
          "Giant Steps Melbourne",
          "Advance College of Education Incorporated",
          "Prace | Prace College | Preston Reservoir Adult Community Education",
          "River Nile School",
          "Brotherhood of St Laurence|David Scott School",
          "Hester Hornbrook Academy",
          "Tombolo Academy",
          "Lyrebird College",
          "Wyndham Community and Education Centre Inc | Julia Gillard Community College",
          "Narre Community Learning Centre | Foundation College",
          "Mastery Schools Victoria"
         ],
         "lat": {
          "bdata": "FxBaD1/wQsB/9bhvtWBCwCjWqfI9K0LAp9DURlAWQ8Dw/rJa5OZCwAD/lCpR6kLA3H75ZMXsQsAWiJ6USQ9DwBlZMsfy5kLAYwRcqcrhQsANbJVgcV5CwKkKeF+2xkLAYW73cp8OQ8A5u1Iiy+NCwBkPIXRx5kLAtvnajoTZQsB8REyJJPxCwAn7dhIR1kLAo8ubw7XxQsA8hzJUxeBCwKIo0Cfy7ELAkGltGtvZQsD0FaQZixhDwCGsxhLWEkPAB0KygAnuQsCBQ6hSs+FCwErs2t5u40LAjCsujsoBQ8CGyr+WVxJDwIup9BPO4ELABJAc4RvrQsBZiuQrgfZBwCkVnuEX9ELAQ46tZwgvQsAShAqS59dCwMJR8uoc10LAXZ61eIT5QsAtJctJKPFCwBL1gk9zCkPAB14td2boQsBwe4LEduFCwP32deCc7ULA+FROe0rMQsAf7vLGrNlCwJKzsKcdGkPAVMkAUMUPQsCcjCrDuO1CwO5gxD4BLELASrclcsErQ8B1oWYG+QBDwDHewRXxHEPAwjV39L/4QsA/5uLzM+NCwCrhCb3+KkPAAfvo1JUZQcB/pZC3nvZCwJIf8SvW3kLA3xkrOUDXQsBuTgT11uZCwLCtn/6zrEHAjPLMy2GHQsBMpSOpmlpCwFk2c0hqKUPAtW6D2m8tQ8ARHm0csehCwIESE5JULEPAct7/xwndQsCnDuoJaNVCwD+nID8bFUPA2FfsaebsQsDxftx++SBCwMn/5O/eZULAITtvY7MRQsCfOMKasfBCwHJSmPc430LA1CtlGeIWQ8CfGvUxGw5DwPBquTMT6kLAYoDpWTU9Q8D6mO75iutCwEVpqZsPCUPAvHSTGATYQsDSAN4CCRBDwBQgCmZM/ULAfqfJjLfJQsATueAM/tpCwCUDQBU39ELAdqT6zi/4QsBNnD8aDE5DwGgFhqxu40LAYabtX1npQsDrc7UV++dCwKPqVzof8ELASfQyiuXmQsCoqWVrffNCwF3Aywwb50LAHhZqTfPuQsBWC5F4ntdCwJRQ+kLIh0LAAkiv/jbrQsAuxVVl3wNDwJMBoIobD0LAmQzH8xlGQsASEf5F0BZDwHDrbp7q4ELAfjJrzuboQsA7GRwlr+ZCwJQvaCEBMUPAzcr2IW/ZQsC8d9SYEOdCwHRd+MH5EkPAXd+Hg4ToQsBnuAGfH/hCwAXhCijU3ULAy21W2GfzQsBbI4JxcANDwKqaIOo+3ELA",
          "dtype": "f8"
         },
         "legendgroup": "Special",
         "lon": {
          "bdata": "g9pv7cQnYkBL5e0IJwliQK8hOC7jSWJAL608N2MMYkBG1+DYjh5iQJc48kBkHmJARBX+DG8fYkCr56T3jSRiQHwnZr2YImJAjmRFw5gfYkC9++O96ghiQDy858Ay+mFAW5iFds4KYkDzNtuBXxtiQCIQ+XiyJWJAayCn+XQdYkCeCyO9qCZiQPC+KheqHWJAwvf+Bi0lYkCmnZrLDRpiQDs5Q3HHJWJAB14td2YiYkAAkX77OkhiQLQCQ1Y3JWJA96sA320jYkAM5US7CiNiQGMoJ9rVHWJAWd5VDxgjYkATnPpAciViQGfTEcBNIWJA/OZZpCQeYkBtOgK42TRiQKIZ1TNOJWJAS8lyEkotYkDon4WpkiNiQNydtdsuEmJA9osjIPAkYkD0xHO2ABZiQPWB5J1DYmJA0opvKPwoYkCxUGuadxpiQFsiF5zBGGJA68N6o1YXYkAGQZE49SBiQIKOVrWkUWJAMsnIWVhbYkBZwW9DjCRiQBzRPeuaSWJAsi0DzlIgYkCnxBrTeCliQI3bHnPUIWJABkmfVtEhYkC5xfzcUCxiQB9lxAUg8mFArKsCtZjEYUCORS6T/CFiQCAkC5hAH2JAkiQIV0AdYkA0K9uHPBpiQA1slWBx8WFA9fOmIhXZYUB00CUc+sVhQLCvdakR4mFANUbrqGrPYUBlAKjiRhxiQPztoTMfs2FA10tTBLjAYUDnBvmPeyBiQMO5hhmaPWJA51Ar8eUYYkD/WIgOgcxhQDVCP1OvB2JAZKw2/y8XYkD6bxQPHiliQMfw2M9iHGJA9Pi9TX8KYkCNuFvtfCliQN6swfsqc2JA1zlhHaI+YkDJEBFI0yRiQAYkq2wpLWJAnKbPDjgdYkBNgczOogpiQJ2huOPNJ2JAFeKReHkdYkA7rHDLRxViQORNfotOE2JACvg1kgQhYkC8tac/FjNiQDwx68VQHmJArrZif9kgYkCsrG2KxyJiQNWw3xPrIWJAsg3cgTokYkD7k/jcCSViQPImv0UnIWJAwR9+/nsjYkDIEjGASzBiQDPDRlm/QmJATo3h++wfYkAEN1K2yCliQNu+R/11XGJAWksBaX8/YkCmmIOgoz1iQExPWOIBK2JADHTtC6gfYkB80/TZASFiQL7bvHFSHGJAYkok0UsgYkCqmbUUkB5iQKGDLuHQI2JAQYLix5geYkCALESHwCBiQMqoMow7LGJAQCX48DYVYkDE7juGxyliQO2ePCzUIWJA",
          "dtype": "f8"
         },
         "marker": {
          "color": "#ab63fa"
         },
         "mode": "markers",
         "name": "Special",
         "showlegend": true,
         "subplot": "mapbox",
         "type": "scattermapbox"
        },
        {
         "customdata": [
          [
           "Language",
           "Burwood East"
          ],
          [
           "Language",
           "Collingwood"
          ],
          [
           "Language",
           "Noble Park"
          ],
          [
           "Language",
           "Belmont"
          ],
          [
           "Language",
           "Braybrook"
          ]
         ],
         "hovertemplate": "<b>%{hovertext}</b><br><br>School_Type=%{customdata[0]}<br>Y=%{lat}<br>X=%{lon}<br>Address_Town=%{customdata[1]}<extra></extra>",
         "hovertext": [
          "Blackburn English Language School",
          "Collingwood English Language School",
          "Noble Park English Language School",
          "Geelong English Language School (interim name)",
          "Western English Language School"
         ],
         "lat": {
          "bdata": "r9FyoIfsQsCztBFXZ+dCwPt1pztP/ELAJEVkWMUXQ8BXJvxSP+VCwA==",
          "dtype": "f8"
         },
         "legendgroup": "Language",
         "lon": {
          "bdata": "RUjdzr4kYkDAsz16gx9iQEvoLomzJWJA/iYUIuAKYkA0k7lDVBtiQA==",
          "dtype": "f8"
         },
         "marker": {
          "color": "#FFA15A"
         },
         "mode": "markers",
         "name": "Language",
         "showlegend": true,
         "subplot": "mapbox",
         "type": "scattermapbox"
        }
       ],
       "layout": {
        "height": 650,
        "legend": {
         "title": {
          "text": "School_Type"
         },
         "tracegroupgap": 0
        },
        "mapbox": {
         "center": {
          "lat": -37.61284300568448,
          "lon": 144.90085425719252
         },
         "domain": {
          "x": [
           0,
           1
          ],
          "y": [
           0,
           1
          ]
         },
         "style": "carto-positron",
         "zoom": 6
        },
        "template": {
         "data": {
          "bar": [
           {
            "error_x": {
             "color": "#2a3f5f"
            },
            "error_y": {
             "color": "#2a3f5f"
            },
            "marker": {
             "line": {
              "color": "#E5ECF6",
              "width": 0.5
             },
             "pattern": {
              "fillmode": "overlay",
              "size": 10,
              "solidity": 0.2
             }
            },
            "type": "bar"
           }
          ],
          "barpolar": [
           {
            "marker": {
             "line": {
              "color": "#E5ECF6",
              "width": 0.5
             },
             "pattern": {
              "fillmode": "overlay",
              "size": 10,
              "solidity": 0.2
             }
            },
            "type": "barpolar"
           }
          ],
          "carpet": [
           {
            "aaxis": {
             "endlinecolor": "#2a3f5f",
             "gridcolor": "white",
             "linecolor": "white",
             "minorgridcolor": "white",
             "startlinecolor": "#2a3f5f"
            },
            "baxis": {
             "endlinecolor": "#2a3f5f",
             "gridcolor": "white",
             "linecolor": "white",
             "minorgridcolor": "white",
             "startlinecolor": "#2a3f5f"
            },
            "type": "carpet"
           }
          ],
          "choropleth": [
           {
            "colorbar": {
             "outlinewidth": 0,
             "ticks": ""
            },
            "type": "choropleth"
           }
          ],
          "contour": [
           {
            "colorbar": {
             "outlinewidth": 0,
             "ticks": ""
            },
            "colorscale": [
             [
              0,
              "#0d0887"
             ],
             [
              0.1111111111111111,
              "#46039f"
             ],
             [
              0.2222222222222222,
              "#7201a8"
             ],
             [
              0.3333333333333333,
              "#9c179e"
             ],
             [
              0.4444444444444444,
              "#bd3786"
             ],
             [
              0.5555555555555556,
              "#d8576b"
             ],
             [
              0.6666666666666666,
              "#ed7953"
             ],
             [
              0.7777777777777778,
              "#fb9f3a"
             ],
             [
              0.8888888888888888,
              "#fdca26"
             ],
             [
              1,
              "#f0f921"
             ]
            ],
            "type": "contour"
           }
          ],
          "contourcarpet": [
           {
            "colorbar": {
             "outlinewidth": 0,
             "ticks": ""
            },
            "type": "contourcarpet"
           }
          ],
          "heatmap": [
           {
            "colorbar": {
             "outlinewidth": 0,
             "ticks": ""
            },
            "colorscale": [
             [
              0,
              "#0d0887"
             ],
             [
              0.1111111111111111,
              "#46039f"
             ],
             [
              0.2222222222222222,
              "#7201a8"
             ],
             [
              0.3333333333333333,
              "#9c179e"
             ],
             [
              0.4444444444444444,
              "#bd3786"
             ],
             [
              0.5555555555555556,
              "#d8576b"
             ],
             [
              0.6666666666666666,
              "#ed7953"
             ],
             [
              0.7777777777777778,
              "#fb9f3a"
             ],
             [
              0.8888888888888888,
              "#fdca26"
             ],
             [
              1,
              "#f0f921"
             ]
            ],
            "type": "heatmap"
           }
          ],
          "histogram": [
           {
            "marker": {
             "pattern": {
              "fillmode": "overlay",
              "size": 10,
              "solidity": 0.2
             }
            },
            "type": "histogram"
           }
          ],
          "histogram2d": [
           {
            "colorbar": {
             "outlinewidth": 0,
             "ticks": ""
            },
            "colorscale": [
             [
              0,
              "#0d0887"
             ],
             [
              0.1111111111111111,
              "#46039f"
             ],
             [
              0.2222222222222222,
              "#7201a8"
             ],
             [
              0.3333333333333333,
              "#9c179e"
             ],
             [
              0.4444444444444444,
              "#bd3786"
             ],
             [
              0.5555555555555556,
              "#d8576b"
             ],
             [
              0.6666666666666666,
              "#ed7953"
             ],
             [
              0.7777777777777778,
              "#fb9f3a"
             ],
             [
              0.8888888888888888,
              "#fdca26"
             ],
             [
              1,
              "#f0f921"
             ]
            ],
            "type": "histogram2d"
           }
          ],
          "histogram2dcontour": [
           {
            "colorbar": {
             "outlinewidth": 0,
             "ticks": ""
            },
            "colorscale": [
             [
              0,
              "#0d0887"
             ],
             [
              0.1111111111111111,
              "#46039f"
             ],
             [
              0.2222222222222222,
              "#7201a8"
             ],
             [
              0.3333333333333333,
              "#9c179e"
             ],
             [
              0.4444444444444444,
              "#bd3786"
             ],
             [
              0.5555555555555556,
              "#d8576b"
             ],
             [
              0.6666666666666666,
              "#ed7953"
             ],
             [
              0.7777777777777778,
              "#fb9f3a"
             ],
             [
              0.8888888888888888,
              "#fdca26"
             ],
             [
              1,
              "#f0f921"
             ]
            ],
            "type": "histogram2dcontour"
           }
          ],
          "mesh3d": [
           {
            "colorbar": {
             "outlinewidth": 0,
             "ticks": ""
            },
            "type": "mesh3d"
           }
          ],
          "parcoords": [
           {
            "line": {
             "colorbar": {
              "outlinewidth": 0,
              "ticks": ""
             }
            },
            "type": "parcoords"
           }
          ],
          "pie": [
           {
            "automargin": true,
            "type": "pie"
           }
          ],
          "scatter": [
           {
            "fillpattern": {
             "fillmode": "overlay",
             "size": 10,
             "solidity": 0.2
            },
            "type": "scatter"
           }
          ],
          "scatter3d": [
           {
            "line": {
             "colorbar": {
              "outlinewidth": 0,
              "ticks": ""
             }
            },
            "marker": {
             "colorbar": {
              "outlinewidth": 0,
              "ticks": ""
             }
            },
            "type": "scatter3d"
           }
          ],
          "scattercarpet": [
           {
            "marker": {
             "colorbar": {
              "outlinewidth": 0,
              "ticks": ""
             }
            },
            "type": "scattercarpet"
           }
          ],
          "scattergeo": [
           {
            "marker": {
             "colorbar": {
              "outlinewidth": 0,
              "ticks": ""
             }
            },
            "type": "scattergeo"
           }
          ],
          "scattergl": [
           {
            "marker": {
             "colorbar": {
              "outlinewidth": 0,
              "ticks": ""
             }
            },
            "type": "scattergl"
           }
          ],
          "scattermap": [
           {
            "marker": {
             "colorbar": {
              "outlinewidth": 0,
              "ticks": ""
             }
            },
            "type": "scattermap"
           }
          ],
          "scattermapbox": [
           {
            "marker": {
             "colorbar": {
              "outlinewidth": 0,
              "ticks": ""
             }
            },
            "type": "scattermapbox"
           }
          ],
          "scatterpolar": [
           {
            "marker": {
             "colorbar": {
              "outlinewidth": 0,
              "ticks": ""
             }
            },
            "type": "scatterpolar"
           }
          ],
          "scatterpolargl": [
           {
            "marker": {
             "colorbar": {
              "outlinewidth": 0,
              "ticks": ""
             }
            },
            "type": "scatterpolargl"
           }
          ],
          "scatterternary": [
           {
            "marker": {
             "colorbar": {
              "outlinewidth": 0,
              "ticks": ""
             }
            },
            "type": "scatterternary"
           }
          ],
          "surface": [
           {
            "colorbar": {
             "outlinewidth": 0,
             "ticks": ""
            },
            "colorscale": [
             [
              0,
              "#0d0887"
             ],
             [
              0.1111111111111111,
              "#46039f"
             ],
             [
              0.2222222222222222,
              "#7201a8"
             ],
             [
              0.3333333333333333,
              "#9c179e"
             ],
             [
              0.4444444444444444,
              "#bd3786"
             ],
             [
              0.5555555555555556,
              "#d8576b"
             ],
             [
              0.6666666666666666,
              "#ed7953"
             ],
             [
              0.7777777777777778,
              "#fb9f3a"
             ],
             [
              0.8888888888888888,
              "#fdca26"
             ],
             [
              1,
              "#f0f921"
             ]
            ],
            "type": "surface"
           }
          ],
          "table": [
           {
            "cells": {
             "fill": {
              "color": "#EBF0F8"
             },
             "line": {
              "color": "white"
             }
            },
            "header": {
             "fill": {
              "color": "#C8D4E3"
             },
             "line": {
              "color": "white"
             }
            },
            "type": "table"
           }
          ]
         },
         "layout": {
          "annotationdefaults": {
           "arrowcolor": "#2a3f5f",
           "arrowhead": 0,
           "arrowwidth": 1
          },
          "autotypenumbers": "strict",
          "coloraxis": {
           "colorbar": {
            "outlinewidth": 0,
            "ticks": ""
           }
          },
          "colorscale": {
           "diverging": [
            [
             0,
             "#8e0152"
            ],
            [
             0.1,
             "#c51b7d"
            ],
            [
             0.2,
             "#de77ae"
            ],
            [
             0.3,
             "#f1b6da"
            ],
            [
             0.4,
             "#fde0ef"
            ],
            [
             0.5,
             "#f7f7f7"
            ],
            [
             0.6,
             "#e6f5d0"
            ],
            [
             0.7,
             "#b8e186"
            ],
            [
             0.8,
             "#7fbc41"
            ],
            [
             0.9,
             "#4d9221"
            ],
            [
             1,
             "#276419"
            ]
           ],
           "sequential": [
            [
             0,
             "#0d0887"
            ],
            [
             0.1111111111111111,
             "#46039f"
            ],
            [
             0.2222222222222222,
             "#7201a8"
            ],
            [
             0.3333333333333333,
             "#9c179e"
            ],
            [
             0.4444444444444444,
             "#bd3786"
            ],
            [
             0.5555555555555556,
             "#d8576b"
            ],
            [
             0.6666666666666666,
             "#ed7953"
            ],
            [
             0.7777777777777778,
             "#fb9f3a"
            ],
            [
             0.8888888888888888,
             "#fdca26"
            ],
            [
             1,
             "#f0f921"
            ]
           ],
           "sequentialminus": [
            [
             0,
             "#0d0887"
            ],
            [
             0.1111111111111111,
             "#46039f"
            ],
            [
             0.2222222222222222,
             "#7201a8"
            ],
            [
             0.3333333333333333,
             "#9c179e"
            ],
            [
             0.4444444444444444,
             "#bd3786"
            ],
            [
             0.5555555555555556,
             "#d8576b"
            ],
            [
             0.6666666666666666,
             "#ed7953"
            ],
            [
             0.7777777777777778,
             "#fb9f3a"
            ],
            [
             0.8888888888888888,
             "#fdca26"
            ],
            [
             1,
             "#f0f921"
            ]
           ]
          },
          "colorway": [
           "#636efa",
           "#EF553B",
           "#00cc96",
           "#ab63fa",
           "#FFA15A",
           "#19d3f3",
           "#FF6692",
           "#B6E880",
           "#FF97FF",
           "#FECB52"
          ],
          "font": {
           "color": "#2a3f5f"
          },
          "geo": {
           "bgcolor": "white",
           "lakecolor": "white",
           "landcolor": "#E5ECF6",
           "showlakes": true,
           "showland": true,
           "subunitcolor": "white"
          },
          "hoverlabel": {
           "align": "left"
          },
          "hovermode": "closest",
          "mapbox": {
           "style": "light"
          },
          "paper_bgcolor": "white",
          "plot_bgcolor": "#E5ECF6",
          "polar": {
           "angularaxis": {
            "gridcolor": "white",
            "linecolor": "white",
            "ticks": ""
           },
           "bgcolor": "#E5ECF6",
           "radialaxis": {
            "gridcolor": "white",
            "linecolor": "white",
            "ticks": ""
           }
          },
          "scene": {
           "xaxis": {
            "backgroundcolor": "#E5ECF6",
            "gridcolor": "white",
            "gridwidth": 2,
            "linecolor": "white",
            "showbackground": true,
            "ticks": "",
            "zerolinecolor": "white"
           },
           "yaxis": {
            "backgroundcolor": "#E5ECF6",
            "gridcolor": "white",
            "gridwidth": 2,
            "linecolor": "white",
            "showbackground": true,
            "ticks": "",
            "zerolinecolor": "white"
           },
           "zaxis": {
            "backgroundcolor": "#E5ECF6",
            "gridcolor": "white",
            "gridwidth": 2,
            "linecolor": "white",
            "showbackground": true,
            "ticks": "",
            "zerolinecolor": "white"
           }
          },
          "shapedefaults": {
           "line": {
            "color": "#2a3f5f"
           }
          },
          "ternary": {
           "aaxis": {
            "gridcolor": "white",
            "linecolor": "white",
            "ticks": ""
           },
           "baxis": {
            "gridcolor": "white",
            "linecolor": "white",
            "ticks": ""
           },
           "bgcolor": "#E5ECF6",
           "caxis": {
            "gridcolor": "white",
            "linecolor": "white",
            "ticks": ""
           }
          },
          "title": {
           "x": 0.05
          },
          "xaxis": {
           "automargin": true,
           "gridcolor": "white",
           "linecolor": "white",
           "ticks": "",
           "title": {
            "standoff": 15
           },
           "zerolinecolor": "white",
           "zerolinewidth": 2
          },
          "yaxis": {
           "automargin": true,
           "gridcolor": "white",
           "linecolor": "white",
           "ticks": "",
           "title": {
            "standoff": 15
           },
           "zerolinecolor": "white",
           "zerolinewidth": 2
          }
         }
        },
        "title": {
         "text": "School Locations across Victoria by Type"
        }
       }
      }
     },
     "metadata": {},
     "output_type": "display_data"
    }
   ],
   "source": [
    "import plotly.express as px\n",
    "\n",
    "fig_map = px.scatter_mapbox(\n",
    "    schools_df,\n",
    "    lat='Y',\n",
    "    lon='X',\n",
    "    hover_name='School_Name',\n",
    "    hover_data={'School_Type': True, 'Address_Town': True},\n",
    "    color='School_Type',\n",
    "    mapbox_style='carto-positron',\n",
    "    title='School Locations across Victoria by Type',\n",
    "    zoom=6,\n",
    "    height=650\n",
    ")\n",
    "\n",
    "fig_map.show()\n"
   ]
  },
  {
   "cell_type": "code",
   "execution_count": 32,
   "id": "358295ae",
   "metadata": {},
   "outputs": [],
   "source": [
    "# fig_map.write_html(\"school_locations_map.html\")"
   ]
  }
 ],
 "metadata": {
  "kernelspec": {
   "display_name": "Python 3",
   "language": "python",
   "name": "python3"
  },
  "language_info": {
   "codemirror_mode": {
    "name": "ipython",
    "version": 3
   },
   "file_extension": ".py",
   "mimetype": "text/x-python",
   "name": "python",
   "nbconvert_exporter": "python",
   "pygments_lexer": "ipython3",
   "version": "3.12.1"
  }
 },
 "nbformat": 4,
 "nbformat_minor": 5
}
